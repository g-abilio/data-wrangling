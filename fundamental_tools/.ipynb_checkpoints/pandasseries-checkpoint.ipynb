{
 "cells": [
  {
   "cell_type": "code",
   "execution_count": 1,
   "id": "741b6e96",
   "metadata": {},
   "outputs": [],
   "source": [
    "import pandas as pd\n",
    "import numpy as np"
   ]
  },
  {
   "cell_type": "code",
   "execution_count": 3,
   "id": "861d1fdf",
   "metadata": {},
   "outputs": [
    {
     "data": {
      "text/plain": [
       "0    0\n",
       "1    1\n",
       "2    2\n",
       "3    3\n",
       "4    4\n",
       "dtype: int64"
      ]
     },
     "execution_count": 3,
     "metadata": {},
     "output_type": "execute_result"
    }
   ],
   "source": [
    "s1 = pd.Series(np.arange(0,5))\n",
    "s1"
   ]
  },
  {
   "cell_type": "code",
   "execution_count": 5,
   "id": "c1c8b4c0",
   "metadata": {},
   "outputs": [
    {
     "data": {
      "text/plain": [
       "RangeIndex(start=0, stop=5, step=1)"
      ]
     },
     "execution_count": 5,
     "metadata": {},
     "output_type": "execute_result"
    }
   ],
   "source": [
    "s1.index"
   ]
  },
  {
   "cell_type": "code",
   "execution_count": 7,
   "id": "45f0dc15",
   "metadata": {},
   "outputs": [
    {
     "data": {
      "text/plain": [
       "g    0\n",
       "a    1\n",
       "b    2\n",
       "r    3\n",
       "i    4\n",
       "e    5\n",
       "l    6\n",
       "dtype: int64"
      ]
     },
     "execution_count": 7,
     "metadata": {},
     "output_type": "execute_result"
    }
   ],
   "source": [
    "s2 = pd.Series(np.arange(0,7), index = [\"g\", \"a\", 'b', 'r', 'i', 'e', 'l'])\n",
    "s2"
   ]
  },
  {
   "cell_type": "code",
   "execution_count": 9,
   "id": "02cf7d4b",
   "metadata": {},
   "outputs": [
    {
     "data": {
      "text/plain": [
       "G    0\n",
       "A    1\n",
       "B    2\n",
       "R    3\n",
       "I    4\n",
       "E    5\n",
       "L    6\n",
       "dtype: int64"
      ]
     },
     "execution_count": 9,
     "metadata": {},
     "output_type": "execute_result"
    }
   ],
   "source": [
    "s2.index = ['G', 'A', 'B', 'R', 'I', 'E', 'L']\n",
    "s2"
   ]
  },
  {
   "cell_type": "code",
   "execution_count": 10,
   "id": "a379a3d3",
   "metadata": {},
   "outputs": [
    {
     "data": {
      "text/plain": [
       "a    1\n",
       "b    2\n",
       "c    3\n",
       "dtype: int64"
      ]
     },
     "execution_count": 10,
     "metadata": {},
     "output_type": "execute_result"
    }
   ],
   "source": [
    "s3 = pd.Series([1,2,3], ['a', 'b', 'c'])\n",
    "s3"
   ]
  },
  {
   "cell_type": "code",
   "execution_count": 11,
   "id": "a5dab144",
   "metadata": {},
   "outputs": [
    {
     "data": {
      "text/plain": [
       "gabriel     1\n",
       "abilio      2\n",
       "barbosa     3\n",
       "ferreira    4\n",
       "dtype: int64"
      ]
     },
     "execution_count": 11,
     "metadata": {},
     "output_type": "execute_result"
    }
   ],
   "source": [
    "dic = {\n",
    "    \"gabriel\" : 1,\n",
    "    \"abilio\" : 2,\n",
    "    \"barbosa\" : 3,\n",
    "    \"ferreira\" : 4\n",
    "}\n",
    "\n",
    "s4 = pd.Series(dic)\n",
    "s4"
   ]
  },
  {
   "cell_type": "code",
   "execution_count": 16,
   "id": "d1460796",
   "metadata": {},
   "outputs": [
    {
     "data": {
      "text/plain": [
       "array([ 1.,  2.,  3., nan,  4.,  5.,  6., nan,  8.,  9., nan])"
      ]
     },
     "execution_count": 16,
     "metadata": {},
     "output_type": "execute_result"
    }
   ],
   "source": [
    "ar = np.array([1, 2, 3, np.nan, 4, 5 , 6, np.nan, 8, 9, np.nan])\n",
    "ar"
   ]
  },
  {
   "cell_type": "code",
   "execution_count": 17,
   "id": "c069e9b7",
   "metadata": {},
   "outputs": [
    {
     "data": {
      "text/plain": [
       "0     1.0\n",
       "1     2.0\n",
       "2     3.0\n",
       "3     NaN\n",
       "4     4.0\n",
       "5     5.0\n",
       "6     6.0\n",
       "7     NaN\n",
       "8     8.0\n",
       "9     9.0\n",
       "10    NaN\n",
       "dtype: float64"
      ]
     },
     "execution_count": 17,
     "metadata": {},
     "output_type": "execute_result"
    }
   ],
   "source": [
    "s5 = pd.Series(ar)\n",
    "s5"
   ]
  },
  {
   "cell_type": "code",
   "execution_count": 18,
   "id": "cdc194ec",
   "metadata": {},
   "outputs": [
    {
     "data": {
      "text/plain": [
       "nan"
      ]
     },
     "execution_count": 18,
     "metadata": {},
     "output_type": "execute_result"
    }
   ],
   "source": [
    "ar.sum()"
   ]
  },
  {
   "cell_type": "code",
   "execution_count": 19,
   "id": "03ba8fb2",
   "metadata": {},
   "outputs": [
    {
     "data": {
      "text/plain": [
       "38.0"
      ]
     },
     "execution_count": 19,
     "metadata": {},
     "output_type": "execute_result"
    }
   ],
   "source": [
    "s5.sum()"
   ]
  },
  {
   "cell_type": "code",
   "execution_count": 20,
   "id": "e4aaa476",
   "metadata": {},
   "outputs": [
    {
     "data": {
      "text/plain": [
       "nan"
      ]
     },
     "execution_count": 20,
     "metadata": {},
     "output_type": "execute_result"
    }
   ],
   "source": [
    "s5.sum(skipna = False)"
   ]
  },
  {
   "cell_type": "code",
   "execution_count": 24,
   "id": "86fb7220",
   "metadata": {
    "scrolled": true
   },
   "outputs": [
    {
     "data": {
      "text/plain": [
       "Index(['G', 'A', 'B', 'R', 'I', 'E', 'L'], dtype='object')"
      ]
     },
     "execution_count": 24,
     "metadata": {},
     "output_type": "execute_result"
    }
   ],
   "source": [
    "s2.index"
   ]
  },
  {
   "cell_type": "code",
   "execution_count": 25,
   "id": "077f96fc",
   "metadata": {},
   "outputs": [
    {
     "data": {
      "text/plain": [
       "array([1, 2, 3])"
      ]
     },
     "execution_count": 25,
     "metadata": {},
     "output_type": "execute_result"
    }
   ],
   "source": [
    "s3.values"
   ]
  },
  {
   "cell_type": "code",
   "execution_count": 28,
   "id": "f55b075e",
   "metadata": {},
   "outputs": [
    {
     "data": {
      "text/plain": [
       "G    0\n",
       "A    1\n",
       "B    2\n",
       "R    3\n",
       "I    4\n",
       "E    5\n",
       "L    6\n",
       "dtype: int64"
      ]
     },
     "execution_count": 28,
     "metadata": {},
     "output_type": "execute_result"
    }
   ],
   "source": [
    "s2\n"
   ]
  },
  {
   "cell_type": "code",
   "execution_count": 30,
   "id": "846e4ed9",
   "metadata": {},
   "outputs": [
    {
     "data": {
      "text/plain": [
       "4"
      ]
     },
     "execution_count": 30,
     "metadata": {},
     "output_type": "execute_result"
    }
   ],
   "source": [
    "s2.loc['I']"
   ]
  },
  {
   "cell_type": "code",
   "execution_count": 31,
   "id": "ddf52c5c",
   "metadata": {},
   "outputs": [
    {
     "data": {
      "text/plain": [
       "4"
      ]
     },
     "execution_count": 31,
     "metadata": {},
     "output_type": "execute_result"
    }
   ],
   "source": [
    "s2.iloc[4]"
   ]
  },
  {
   "cell_type": "code",
   "execution_count": 34,
   "id": "00dac38b",
   "metadata": {
    "scrolled": true
   },
   "outputs": [
    {
     "data": {
      "text/plain": [
       "A    1\n",
       "B    2\n",
       "R    3\n",
       "I    4\n",
       "E    5\n",
       "dtype: int64"
      ]
     },
     "execution_count": 34,
     "metadata": {},
     "output_type": "execute_result"
    }
   ],
   "source": [
    "s2.loc['A' : 'E']"
   ]
  },
  {
   "cell_type": "code",
   "execution_count": 35,
   "id": "25ae8768",
   "metadata": {
    "scrolled": true
   },
   "outputs": [
    {
     "data": {
      "text/plain": [
       "A    1\n",
       "B    2\n",
       "R    3\n",
       "I    4\n",
       "E    5\n",
       "dtype: int64"
      ]
     },
     "execution_count": 35,
     "metadata": {},
     "output_type": "execute_result"
    }
   ],
   "source": [
    "s2.iloc[1 : 6]"
   ]
  },
  {
   "cell_type": "code",
   "execution_count": 39,
   "id": "dcf63d1d",
   "metadata": {
    "scrolled": true
   },
   "outputs": [
    {
     "data": {
      "text/plain": [
       "G    0\n",
       "B    2\n",
       "I    4\n",
       "L    6\n",
       "dtype: int64"
      ]
     },
     "execution_count": 39,
     "metadata": {},
     "output_type": "execute_result"
    }
   ],
   "source": [
    "s2.loc[[\"G\", \"B\", \"I\", \"L\"]]"
   ]
  },
  {
   "cell_type": "code",
   "execution_count": 40,
   "id": "43062fd1",
   "metadata": {},
   "outputs": [
    {
     "data": {
      "text/plain": [
       "G    0\n",
       "B    2\n",
       "I    4\n",
       "L    6\n",
       "dtype: int64"
      ]
     },
     "execution_count": 40,
     "metadata": {},
     "output_type": "execute_result"
    }
   ],
   "source": [
    "s2.iloc[[0,2,4,6]]"
   ]
  },
  {
   "cell_type": "code",
   "execution_count": 41,
   "id": "8c3ba223",
   "metadata": {},
   "outputs": [
    {
     "data": {
      "text/plain": [
       "G    0\n",
       "A    1\n",
       "B    2\n",
       "R    3\n",
       "I    4\n",
       "E    5\n",
       "L    6\n",
       "dtype: int64"
      ]
     },
     "execution_count": 41,
     "metadata": {},
     "output_type": "execute_result"
    }
   ],
   "source": [
    "s2\n"
   ]
  },
  {
   "cell_type": "code",
   "execution_count": 60,
   "id": "bd666c96",
   "metadata": {},
   "outputs": [
    {
     "data": {
      "text/plain": [
       "A    4\n",
       "L    2\n",
       "R    3\n",
       "G    1\n",
       "I    7\n",
       "E    5\n",
       "L    3\n",
       "dtype: int64"
      ]
     },
     "execution_count": 60,
     "metadata": {},
     "output_type": "execute_result"
    }
   ],
   "source": [
    "s7 = pd.Series([np.random.randint(0,10) for i in range(7)], index =['A', 'L', 'R', 'G', 'I', 'E', 'L'] )\n",
    "s7"
   ]
  },
  {
   "cell_type": "code",
   "execution_count": 65,
   "id": "fe6b0beb",
   "metadata": {},
   "outputs": [
    {
     "data": {
      "text/plain": [
       "A     5.0\n",
       "B    12.0\n",
       "E    10.0\n",
       "G     1.0\n",
       "I    11.0\n",
       "L     8.0\n",
       "L     9.0\n",
       "R     6.0\n",
       "dtype: float64"
      ]
     },
     "execution_count": 65,
     "metadata": {},
     "output_type": "execute_result"
    }
   ],
   "source": [
    "s7.add(s2, fill_value = 10)"
   ]
  },
  {
   "cell_type": "code",
   "execution_count": 68,
   "id": "c2f9bb57",
   "metadata": {},
   "outputs": [
    {
     "data": {
      "text/plain": [
       "(0    5\n",
       " 1    8\n",
       " 2    9\n",
       " 3    5\n",
       " 4    0\n",
       " 5    0\n",
       " 6    1\n",
       " 7    7\n",
       " 8    6\n",
       " 9    9\n",
       " dtype: int64,\n",
       " 0    2\n",
       " 1    4\n",
       " 2    5\n",
       " 3    2\n",
       " 4    4\n",
       " 5    2\n",
       " 6    4\n",
       " 7    7\n",
       " 8    7\n",
       " 9    9\n",
       " dtype: int64)"
      ]
     },
     "execution_count": 68,
     "metadata": {},
     "output_type": "execute_result"
    }
   ],
   "source": [
    "np.random.seed(1)\n",
    "\n",
    "test1 = pd.Series(np.random.randint(0, 10, 10))\n",
    "test2 = pd.Series(np.random.randint(0, 10, 10))\n",
    "test1, test2"
   ]
  },
  {
   "cell_type": "code",
   "execution_count": null,
   "id": "21b919c5",
   "metadata": {},
   "outputs": [],
   "source": []
  }
 ],
 "metadata": {
  "kernelspec": {
   "display_name": "Python 3 (ipykernel)",
   "language": "python",
   "name": "python3"
  },
  "language_info": {
   "codemirror_mode": {
    "name": "ipython",
    "version": 3
   },
   "file_extension": ".py",
   "mimetype": "text/x-python",
   "name": "python",
   "nbconvert_exporter": "python",
   "pygments_lexer": "ipython3",
   "version": "3.11.5"
  }
 },
 "nbformat": 4,
 "nbformat_minor": 5
}
