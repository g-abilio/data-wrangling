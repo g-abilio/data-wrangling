{
 "cells": [
  {
   "cell_type": "markdown",
   "metadata": {
    "cell_id": "90a515d3ef2642a1b7efee3407fdfe78",
    "deepnote_app_coordinates": {
     "h": 5,
     "w": 12,
     "x": 0,
     "y": 403
    },
    "deepnote_cell_height": 555,
    "deepnote_cell_type": "markdown",
    "id": "2CdaJd-rP6b8"
   },
   "source": [
    "# Pandas\n",
    "\n",
    "This section is all about the package, Pandas. Are you ready? Let's go!\n",
    "\n",
    "You will find some small tasks in sections below. Most codes are hidden and you can only see the output.\n",
    "\n",
    "> Try to figure out by yourself, or search for references. Being able to search and find information needed is an important skill that benefits you and your career for a long time.\n",
    "\n",
    "\n",
    "\n"
   ]
  },
  {
   "cell_type": "markdown",
   "metadata": {
    "cell_id": "f4372d9d4687432a9a0781ce6eda75c9",
    "deepnote_app_coordinates": {
     "h": 5,
     "w": 12,
     "x": 0,
     "y": 409
    },
    "deepnote_cell_height": 69.59375,
    "deepnote_cell_type": "markdown",
    "id": "dRFhi328P6b_"
   },
   "source": [
    "## Set up the environment"
   ]
  },
  {
   "cell_type": "markdown",
   "metadata": {
    "cell_id": "334e46977b974454860c8497269b09f0",
    "deepnote_app_coordinates": {
     "h": 5,
     "w": 12,
     "x": 0,
     "y": 415
    },
    "deepnote_cell_height": 61.59375,
    "deepnote_cell_type": "markdown",
    "id": "PIQ3RexLP6b_"
   },
   "source": [
    "### Task: import pandas, and name it as pd"
   ]
  },
  {
   "cell_type": "code",
   "execution_count": null,
   "metadata": {
    "cell_id": "7e593ace6bbd4af8afce1d81e32baacc",
    "deepnote_app_coordinates": {
     "h": 5,
     "w": 12,
     "x": 0,
     "y": 421
    },
    "deepnote_app_is_code_hidden": true,
    "deepnote_cell_type": "code",
    "deepnote_to_be_reexecuted": false,
    "execution_millis": 1,
    "execution_start": 1664740594982,
    "id": "n7qiruks8HZ5",
    "source_hash": "9b82ee11"
   },
   "outputs": [],
   "source": [
    "import pandas as pd"
   ]
  },
  {
   "cell_type": "markdown",
   "metadata": {
    "cell_id": "ad1a329e9eed45cab92a509df41ecf97",
    "deepnote_app_coordinates": {
     "h": 5,
     "w": 12,
     "x": 0,
     "y": 427
    },
    "deepnote_cell_height": 69.59375,
    "deepnote_cell_type": "markdown",
    "id": "Bdt8FDD1i7nb"
   },
   "source": [
    "## Data Creation"
   ]
  },
  {
   "cell_type": "markdown",
   "metadata": {
    "cell_id": "975cf5c79b1045399d05bf0bb4b43545",
    "deepnote_app_coordinates": {
     "h": 5,
     "w": 12,
     "x": 0,
     "y": 433
    },
    "deepnote_cell_height": 144.796875,
    "deepnote_cell_type": "markdown",
    "id": "-epzW0mCpkX_"
   },
   "source": [
    "### Task\n",
    "Find the data [here](https://en.wikipedia.org/wiki/List_of_countries_by_GDP_(nominal)) for the GDP (nomial). For the top **10** countries, create a dataframe that has the names of country, the GDP of the country in 2021 (reported in 2022) by IMF in dollars , the population of the country (you can find the data [here](https://en.wikipedia.org/wiki/List_of_countries_and_dependencies_by_population))"
   ]
  },
  {
   "cell_type": "code",
   "execution_count": null,
   "metadata": {
    "cell_id": "301b5c5e805e4108998b7a12512fe6bd",
    "deepnote_app_coordinates": {
     "h": 5,
     "w": 12,
     "x": 0,
     "y": 439
    },
    "deepnote_app_is_code_hidden": true,
    "deepnote_cell_type": "code",
    "deepnote_to_be_reexecuted": false,
    "execution_millis": 0,
    "execution_start": 1664740594983,
    "id": "kPp9TBksKbRb",
    "source_hash": "3b4e8dca"
   },
   "outputs": [],
   "source": []
  },
  {
   "cell_type": "markdown",
   "metadata": {
    "cell_id": "f4f017cd73cd4186a711b11fb1548f39",
    "deepnote_app_coordinates": {
     "h": 5,
     "w": 12,
     "x": 0,
     "y": 457
    },
    "deepnote_cell_height": 69.59375,
    "deepnote_cell_type": "markdown",
    "id": "EyLQMJhzinAJ"
   },
   "source": [
    "## Data Accessing"
   ]
  },
  {
   "cell_type": "markdown",
   "metadata": {
    "cell_id": "116161d9478d4e648e15c6ce245bfa38",
    "deepnote_app_coordinates": {
     "h": 5,
     "w": 12,
     "x": 0,
     "y": 463
    },
    "deepnote_cell_height": 61.59375,
    "deepnote_cell_type": "markdown",
    "id": "SFohyeFoP6cE"
   },
   "source": [
    "### Task: List the countries and their GDP"
   ]
  },
  {
   "cell_type": "code",
   "execution_count": null,
   "metadata": {
    "cell_id": "daa2c1a518dd4a26b0424dbe4b640a90",
    "deepnote_app_coordinates": {
     "h": 5,
     "w": 12,
     "x": 0,
     "y": 469
    },
    "deepnote_app_is_code_hidden": true,
    "deepnote_cell_type": "code",
    "deepnote_to_be_reexecuted": false,
    "execution_millis": 3,
    "execution_start": 1664740595043,
    "id": "VZhO_7DyP6cE",
    "source_hash": "2068454e"
   },
   "outputs": [],
   "source": [
    "# Your code is here"
   ]
  },
  {
   "cell_type": "markdown",
   "metadata": {
    "cell_id": "a7fe395b463542e2850e672364b176e0",
    "deepnote_app_coordinates": {
     "h": 5,
     "w": 12,
     "x": 0,
     "y": 475
    },
    "deepnote_cell_height": 61.59375,
    "deepnote_cell_type": "markdown",
    "id": "2eMRijxEP6cE"
   },
   "source": [
    "### Task: List the countries and their population"
   ]
  },
  {
   "cell_type": "code",
   "execution_count": null,
   "metadata": {
    "cell_id": "aaae4ba1d1b5472ea088caac9ee59fe6",
    "deepnote_app_coordinates": {
     "h": 5,
     "w": 12,
     "x": 0,
     "y": 481
    },
    "deepnote_app_is_code_hidden": true,
    "deepnote_cell_type": "code",
    "deepnote_to_be_reexecuted": false,
    "execution_millis": 11,
    "execution_start": 1664740595046,
    "id": "Cn9P4tr5P6cE",
    "source_hash": "1cc62e67"
   },
   "outputs": [],
   "source": [
    "# Your code is here"
   ]
  },
  {
   "cell_type": "markdown",
   "metadata": {
    "cell_id": "f72db9323cbe407c90944d6a364622c3",
    "deepnote_app_coordinates": {
     "h": 5,
     "w": 12,
     "x": 0,
     "y": 487
    },
    "deepnote_cell_height": 93.59375,
    "deepnote_cell_type": "markdown",
    "id": "LoNdmFLLP6cE"
   },
   "source": [
    "### Task: List the first country with its GDP and population"
   ]
  },
  {
   "cell_type": "code",
   "execution_count": null,
   "metadata": {
    "cell_id": "60aad3ddec09455bae5e72183180c10f",
    "deepnote_app_coordinates": {
     "h": 5,
     "w": 12,
     "x": 0,
     "y": 493
    },
    "deepnote_app_is_code_hidden": true,
    "deepnote_cell_type": "code",
    "deepnote_to_be_reexecuted": false,
    "execution_millis": 3,
    "execution_start": 1664740595081,
    "id": "-ZQs1pHRP6cE",
    "source_hash": "52644606"
   },
   "outputs": [],
   "source": [
    "# Your code is here"
   ]
  },
  {
   "cell_type": "markdown",
   "metadata": {
    "cell_id": "b0ec0c3786504e47bb048cda2d24089d",
    "deepnote_app_coordinates": {
     "h": 5,
     "w": 12,
     "x": 0,
     "y": 499
    },
    "deepnote_cell_height": 69.59375,
    "deepnote_cell_type": "markdown",
    "id": "ugNQUF71P6cE"
   },
   "source": [
    "## Data Selection"
   ]
  },
  {
   "cell_type": "markdown",
   "metadata": {
    "cell_id": "f35305ee6ea74cd8a0074b6a89b3ffde",
    "deepnote_app_coordinates": {
     "h": 5,
     "w": 12,
     "x": 0,
     "y": 505
    },
    "deepnote_cell_height": 168.390625,
    "deepnote_cell_type": "markdown",
    "id": "zLIBTqWoP6cF"
   },
   "source": [
    "### Task: Show the countries whose GDP is more than 5 trillion dollars\n",
    "> (Hint: the data source has US$ Million as a unit, hence you need to choose GDP > 5,000,000 unit)\n",
    "\n",
    "\n"
   ]
  },
  {
   "cell_type": "code",
   "execution_count": null,
   "metadata": {
    "cell_id": "160efefbdf7b4314952fa7e3e3c5f46e",
    "deepnote_app_coordinates": {
     "h": 5,
     "w": 12,
     "x": 0,
     "y": 511
    },
    "deepnote_app_is_code_hidden": true,
    "deepnote_cell_type": "code",
    "deepnote_to_be_reexecuted": false,
    "execution_millis": 2,
    "execution_start": 1664740595082,
    "id": "eSaq0RCcP6cF",
    "source_hash": "d68225b8"
   },
   "outputs": [],
   "source": [
    "# Your code is here"
   ]
  },
  {
   "cell_type": "markdown",
   "metadata": {
    "cell_id": "aec10d78013f43bebad785ab47d471e7",
    "deepnote_app_coordinates": {
     "h": 5,
     "w": 12,
     "x": 0,
     "y": 517
    },
    "deepnote_cell_height": 93.59375,
    "deepnote_cell_type": "markdown",
    "id": "nZQKtpxlP6cF"
   },
   "source": [
    "### Task: Show the countries whose GDP is more than 3 trillion dollars"
   ]
  },
  {
   "cell_type": "code",
   "execution_count": null,
   "metadata": {
    "cell_id": "21f3238a2c79405491b16cba36c73731",
    "deepnote_app_coordinates": {
     "h": 5,
     "w": 12,
     "x": 0,
     "y": 523
    },
    "deepnote_app_is_code_hidden": true,
    "deepnote_cell_type": "code",
    "deepnote_to_be_reexecuted": false,
    "execution_millis": 9,
    "execution_start": 1664740595086,
    "id": "4i703wXkP6cF",
    "source_hash": "322d1aba"
   },
   "outputs": [],
   "source": [
    "# Your code is here"
   ]
  },
  {
   "cell_type": "markdown",
   "metadata": {
    "cell_id": "4c0bf8084ba14ca7b61d9dbe97ff2445",
    "deepnote_app_coordinates": {
     "h": 5,
     "w": 12,
     "x": 0,
     "y": 529
    },
    "deepnote_cell_height": 93.59375,
    "deepnote_cell_type": "markdown",
    "id": "GAK2A9r7P6cF"
   },
   "source": [
    "### Task: Show the countries whose pupulation is more than 1 billion"
   ]
  },
  {
   "cell_type": "code",
   "execution_count": null,
   "metadata": {
    "cell_id": "a378a1d541e24ab8938ba608d2f0f644",
    "deepnote_app_coordinates": {
     "h": 5,
     "w": 12,
     "x": 0,
     "y": 535
    },
    "deepnote_app_is_code_hidden": true,
    "deepnote_cell_type": "code",
    "deepnote_to_be_reexecuted": false,
    "execution_millis": 12,
    "execution_start": 1664740595095,
    "id": "ZLHrhaEeP6cF",
    "source_hash": "b217f4fa"
   },
   "outputs": [],
   "source": [
    "# Your code is here"
   ]
  },
  {
   "cell_type": "markdown",
   "metadata": {
    "cell_id": "61dbd16a834144139636331100ddeb5c",
    "deepnote_app_coordinates": {
     "h": 5,
     "w": 12,
     "x": 0,
     "y": 541
    },
    "deepnote_cell_height": 93.59375,
    "deepnote_cell_type": "markdown",
    "id": "yymM4GIQP6cG"
   },
   "source": [
    "### Task: Show the countries whose pupulation is less than 300 million"
   ]
  },
  {
   "cell_type": "code",
   "execution_count": null,
   "metadata": {
    "cell_id": "34a57a88830e40889314151a34d48c70",
    "deepnote_app_coordinates": {
     "h": 5,
     "w": 12,
     "x": 0,
     "y": 547
    },
    "deepnote_app_is_code_hidden": true,
    "deepnote_cell_type": "code",
    "deepnote_to_be_reexecuted": false,
    "execution_millis": 47,
    "execution_start": 1664740595109,
    "id": "TvjRcKORP6cG",
    "source_hash": "5d23be5b"
   },
   "outputs": [],
   "source": [
    "# Your code is here"
   ]
  },
  {
   "cell_type": "markdown",
   "metadata": {
    "cell_id": "817ad486d40244dfab41fa869a598ee2",
    "deepnote_app_coordinates": {
     "h": 5,
     "w": 12,
     "x": 0,
     "y": 553
    },
    "deepnote_cell_height": 93.59375,
    "deepnote_cell_type": "markdown",
    "id": "hY-CcAlYP6cG"
   },
   "source": [
    "### Task: Show the countries whose pupulation is between 300 million and 500 million"
   ]
  },
  {
   "cell_type": "code",
   "execution_count": null,
   "metadata": {
    "cell_id": "05819401781a405f847951ff3a0aba6b",
    "deepnote_app_coordinates": {
     "h": 5,
     "w": 12,
     "x": 0,
     "y": 559
    },
    "deepnote_app_is_code_hidden": true,
    "deepnote_cell_type": "code",
    "deepnote_to_be_reexecuted": false,
    "execution_millis": 16,
    "execution_start": 1664740595150,
    "id": "H_k7GpbeP6cG",
    "source_hash": "2f05f761"
   },
   "outputs": [],
   "source": [
    "# Your code is here"
   ]
  },
  {
   "cell_type": "markdown",
   "metadata": {
    "cell_id": "ccaa3c6165a34760875af8c9a39054f9",
    "deepnote_app_coordinates": {
     "h": 5,
     "w": 12,
     "x": 0,
     "y": 565
    },
    "deepnote_cell_height": 69.59375,
    "deepnote_cell_type": "markdown",
    "id": "xhrKegkYP6cG"
   },
   "source": [
    "## Data Manipulation"
   ]
  },
  {
   "cell_type": "markdown",
   "metadata": {
    "cell_id": "5af8fd8bc0c74b33bf8cb630dba236a4",
    "deepnote_app_coordinates": {
     "h": 5,
     "w": 12,
     "x": 0,
     "y": 571
    },
    "deepnote_cell_height": 125.59375,
    "deepnote_cell_type": "markdown",
    "id": "N_u4K8VXP6cG"
   },
   "source": [
    "### Task: Create a new column, called \"GDP per capita\", based on the column \"GDP\" and the column \"Population\""
   ]
  },
  {
   "cell_type": "code",
   "execution_count": null,
   "metadata": {
    "cell_id": "4e1742aad19d4f9c878231aa7604543f",
    "deepnote_app_coordinates": {
     "h": 5,
     "w": 12,
     "x": 0,
     "y": 577
    },
    "deepnote_app_is_code_hidden": true,
    "deepnote_cell_type": "code",
    "deepnote_to_be_reexecuted": false,
    "execution_millis": 6,
    "execution_start": 1664740595164,
    "id": "M6FWNO46P6cG",
    "source_hash": "e235224e"
   },
   "outputs": [],
   "source": [
    "# Your code is here"
   ]
  },
  {
   "cell_type": "markdown",
   "metadata": {
    "cell_id": "47d96a9b5b0b4cbaad0424acb7715c0e",
    "deepnote_app_coordinates": {
     "h": 5,
     "w": 12,
     "x": 0,
     "y": 583
    },
    "deepnote_cell_height": 69.59375,
    "deepnote_cell_type": "markdown",
    "id": "JAUUqFVHP6cG"
   },
   "source": [
    "## Data Understanding"
   ]
  },
  {
   "cell_type": "markdown",
   "metadata": {
    "cell_id": "0541ef19aa11418194fe46f20a0967ff",
    "deepnote_app_coordinates": {
     "h": 5,
     "w": 12,
     "x": 0,
     "y": 589
    },
    "deepnote_cell_height": 425.390625,
    "deepnote_cell_type": "markdown",
    "id": "WVUmFsR6P6cH"
   },
   "source": [
    "### Task: With the three numeric columns, show the statsitics of each:\n",
    "\n",
    "\n",
    "1.   Count\n",
    "1.   Max\n",
    "1.   Min\n",
    "1.   Mean\n",
    "1.   Median\n",
    "1.   Quantiles\n",
    "1.   25% Quantile\n",
    "1.   50% Quantile\n",
    "1.   75% QUantile\n",
    "1.   Variance\n",
    "1.   Std\n",
    "1.   Total\n",
    "\n",
    "\n"
   ]
  },
  {
   "cell_type": "code",
   "execution_count": null,
   "metadata": {
    "cell_id": "d95e2d34cf5e46598d8191b50133fc56",
    "deepnote_app_coordinates": {
     "h": 5,
     "w": 12,
     "x": 0,
     "y": 595
    },
    "deepnote_app_is_code_hidden": true,
    "deepnote_cell_type": "code",
    "deepnote_to_be_reexecuted": false,
    "execution_millis": 25,
    "execution_start": 1664740595172,
    "id": "dWBRXImGP6cH",
    "source_hash": "f88152d9"
   },
   "outputs": [],
   "source": [
    "# Your code is here"
   ]
  }
 ],
 "metadata": {
  "colab": {
   "provenance": []
  },
  "deepnote": {},
  "deepnote_app_layout": "article",
  "deepnote_execution_queue": [],
  "deepnote_notebook_id": "ea0a78f5003e420b9294549d2de07cb3",
  "deepnote_persisted_session": {
   "createdAt": "2022-10-02T20:31:46.191Z"
  },
  "kernelspec": {
   "display_name": "Python 3 (ipykernel)",
   "language": "python",
   "name": "python3"
  },
  "language_info": {
   "codemirror_mode": {
    "name": "ipython",
    "version": 3
   },
   "file_extension": ".py",
   "mimetype": "text/x-python",
   "name": "python",
   "nbconvert_exporter": "python",
   "pygments_lexer": "ipython3",
   "version": "3.11.5"
  }
 },
 "nbformat": 4,
 "nbformat_minor": 1
}
