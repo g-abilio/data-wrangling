{
 "cells": [
  {
   "cell_type": "markdown",
   "metadata": {
    "cell_id": "90a515d3ef2642a1b7efee3407fdfe78",
    "deepnote_app_coordinates": {
     "h": 5,
     "w": 12,
     "x": 0,
     "y": 403
    },
    "deepnote_cell_height": 555,
    "deepnote_cell_type": "markdown",
    "id": "2CdaJd-rP6b8"
   },
   "source": [
    "# Pandas\n",
    "\n",
    "This section is all about the package, Pandas. Are you ready? Let's go!\n",
    "\n",
    "You will find some small tasks in sections below. Most codes are hidden and you can only see the output.\n",
    "\n",
    "> Try to figure out by yourself, or search for references. Being able to search and find information needed is an important skill that benefits you and your career for a long time.\n",
    "\n",
    "\n",
    "\n"
   ]
  },
  {
   "cell_type": "markdown",
   "metadata": {
    "cell_id": "f4372d9d4687432a9a0781ce6eda75c9",
    "deepnote_app_coordinates": {
     "h": 5,
     "w": 12,
     "x": 0,
     "y": 409
    },
    "deepnote_cell_height": 69.59375,
    "deepnote_cell_type": "markdown",
    "id": "dRFhi328P6b_"
   },
   "source": [
    "## Set up the environment"
   ]
  },
  {
   "cell_type": "markdown",
   "metadata": {
    "cell_id": "334e46977b974454860c8497269b09f0",
    "deepnote_app_coordinates": {
     "h": 5,
     "w": 12,
     "x": 0,
     "y": 415
    },
    "deepnote_cell_height": 61.59375,
    "deepnote_cell_type": "markdown",
    "id": "PIQ3RexLP6b_"
   },
   "source": [
    "### Task: import pandas, and name it as pd"
   ]
  },
  {
   "cell_type": "code",
   "execution_count": 1,
   "metadata": {
    "cell_id": "7e593ace6bbd4af8afce1d81e32baacc",
    "deepnote_app_coordinates": {
     "h": 5,
     "w": 12,
     "x": 0,
     "y": 421
    },
    "deepnote_app_is_code_hidden": true,
    "deepnote_cell_type": "code",
    "deepnote_to_be_reexecuted": false,
    "execution_millis": 1,
    "execution_start": 1664740594982,
    "id": "n7qiruks8HZ5",
    "source_hash": "9b82ee11"
   },
   "outputs": [],
   "source": [
    "import pandas as pd"
   ]
  },
  {
   "cell_type": "markdown",
   "metadata": {
    "cell_id": "ad1a329e9eed45cab92a509df41ecf97",
    "deepnote_app_coordinates": {
     "h": 5,
     "w": 12,
     "x": 0,
     "y": 427
    },
    "deepnote_cell_height": 69.59375,
    "deepnote_cell_type": "markdown",
    "id": "Bdt8FDD1i7nb"
   },
   "source": [
    "## Data Creation"
   ]
  },
  {
   "cell_type": "markdown",
   "metadata": {
    "cell_id": "975cf5c79b1045399d05bf0bb4b43545",
    "deepnote_app_coordinates": {
     "h": 5,
     "w": 12,
     "x": 0,
     "y": 433
    },
    "deepnote_cell_height": 144.796875,
    "deepnote_cell_type": "markdown",
    "id": "-epzW0mCpkX_"
   },
   "source": [
    "### Task\n",
    "Find the data [here](https://en.wikipedia.org/wiki/List_of_countries_by_GDP_(nominal)) for the GDP (nomial). For the top **10** countries, create a dataframe that has the names of country, the GDP of the country in 2021 (reported in 2022) by IMF in dollars , the population of the country (you can find the data [here](https://en.wikipedia.org/wiki/List_of_countries_and_dependencies_by_population))"
   ]
  },
  {
   "cell_type": "code",
   "execution_count": 33,
   "metadata": {},
   "outputs": [],
   "source": [
    "gdp = pd.Series([26.95, 17.70, 4.43, 4.23, 3.73, 3.33, 3.05, 2.19, 2.13, 2.12], index = [\"US\", \"China\", \"Germany\", \"Japan\", \"India\", \"UK\", \"France\", \"Italy\", \"Brazil\", \"Canada\"])\n",
    "population = pd.Series([334233854, 1411750000, 84482267, 124310000, 1392329000, 67736802, 68221000, 58776233, 203062512, 40097761], index = [\"US\", \"China\", \"Germany\", \"Japan\", \"India\", \"UK\", \"France\", \"Italy\", \"Brazil\", \"Canada\"])"
   ]
  },
  {
   "cell_type": "code",
   "execution_count": 34,
   "metadata": {},
   "outputs": [
    {
     "data": {
      "text/plain": [
       "(US         26.95\n",
       " China      17.70\n",
       " Germany     4.43\n",
       " Japan       4.23\n",
       " India       3.73\n",
       " UK          3.33\n",
       " France      3.05\n",
       " Italy       2.19\n",
       " Brazil      2.13\n",
       " Canada      2.12\n",
       " dtype: float64,\n",
       " US          334233854\n",
       " China      1411750000\n",
       " Germany      84482267\n",
       " Japan       124310000\n",
       " India      1392329000\n",
       " UK           67736802\n",
       " France       68221000\n",
       " Italy        58776233\n",
       " Brazil      203062512\n",
       " Canada       40097761\n",
       " dtype: int64)"
      ]
     },
     "execution_count": 34,
     "metadata": {},
     "output_type": "execute_result"
    }
   ],
   "source": [
    "gdp, population"
   ]
  },
  {
   "cell_type": "code",
   "execution_count": 39,
   "metadata": {
    "scrolled": true
   },
   "outputs": [
    {
     "ename": "TypeError",
     "evalue": "DataFrame.__init__() got an unexpected keyword argument 'axis'",
     "output_type": "error",
     "traceback": [
      "\u001b[0;31m---------------------------------------------------------------------------\u001b[0m",
      "\u001b[0;31mTypeError\u001b[0m                                 Traceback (most recent call last)",
      "Cell \u001b[0;32mIn[39], line 1\u001b[0m\n\u001b[0;32m----> 1\u001b[0m df_country \u001b[38;5;241m=\u001b[39m pd\u001b[38;5;241m.\u001b[39mDataFrame([gdp, population], axis \u001b[38;5;241m=\u001b[39m \u001b[38;5;241m1\u001b[39m)\n\u001b[1;32m      2\u001b[0m df_country\u001b[38;5;241m.\u001b[39mindex \u001b[38;5;241m=\u001b[39m [\u001b[38;5;124m\"\u001b[39m\u001b[38;5;124mGDP\u001b[39m\u001b[38;5;124m\"\u001b[39m, \u001b[38;5;124m\"\u001b[39m\u001b[38;5;124mPopulation\u001b[39m\u001b[38;5;124m\"\u001b[39m]\n\u001b[1;32m      3\u001b[0m df_country\n",
      "\u001b[0;31mTypeError\u001b[0m: DataFrame.__init__() got an unexpected keyword argument 'axis'"
     ]
    }
   ],
   "source": [
    "df_country = pd.DataFrame([gdp, population])\n",
    "df_country.index = [\"GDP\", \"Population\"]\n",
    "df_country"
   ]
  },
  {
   "cell_type": "markdown",
   "metadata": {
    "cell_id": "f4f017cd73cd4186a711b11fb1548f39",
    "deepnote_app_coordinates": {
     "h": 5,
     "w": 12,
     "x": 0,
     "y": 457
    },
    "deepnote_cell_height": 69.59375,
    "deepnote_cell_type": "markdown",
    "id": "EyLQMJhzinAJ"
   },
   "source": [
    "## Data Accessing"
   ]
  },
  {
   "cell_type": "markdown",
   "metadata": {
    "cell_id": "116161d9478d4e648e15c6ce245bfa38",
    "deepnote_app_coordinates": {
     "h": 5,
     "w": 12,
     "x": 0,
     "y": 463
    },
    "deepnote_cell_height": 61.59375,
    "deepnote_cell_type": "markdown",
    "id": "SFohyeFoP6cE"
   },
   "source": [
    "### Task: List the countries and their GDP"
   ]
  },
  {
   "cell_type": "code",
   "execution_count": 20,
   "metadata": {
    "cell_id": "daa2c1a518dd4a26b0424dbe4b640a90",
    "deepnote_app_coordinates": {
     "h": 5,
     "w": 12,
     "x": 0,
     "y": 469
    },
    "deepnote_app_is_code_hidden": true,
    "deepnote_cell_type": "code",
    "deepnote_to_be_reexecuted": false,
    "execution_millis": 3,
    "execution_start": 1664740595043,
    "id": "VZhO_7DyP6cE",
    "scrolled": true,
    "source_hash": "2068454e"
   },
   "outputs": [
    {
     "data": {
      "text/plain": [
       "US         26.95\n",
       "China      17.70\n",
       "Germany     4.43\n",
       "Japan       4.23\n",
       "India       3.73\n",
       "UK          3.33\n",
       "France      3.05\n",
       "Italy       2.19\n",
       "Brazil      2.13\n",
       "Canada      2.12\n",
       "Name: GDP, dtype: float64"
      ]
     },
     "execution_count": 20,
     "metadata": {},
     "output_type": "execute_result"
    }
   ],
   "source": [
    "df_country.loc[\"GDP\"]"
   ]
  },
  {
   "cell_type": "markdown",
   "metadata": {
    "cell_id": "a7fe395b463542e2850e672364b176e0",
    "deepnote_app_coordinates": {
     "h": 5,
     "w": 12,
     "x": 0,
     "y": 475
    },
    "deepnote_cell_height": 61.59375,
    "deepnote_cell_type": "markdown",
    "id": "2eMRijxEP6cE"
   },
   "source": [
    "### Task: List the countries and their population"
   ]
  },
  {
   "cell_type": "code",
   "execution_count": 21,
   "metadata": {
    "cell_id": "aaae4ba1d1b5472ea088caac9ee59fe6",
    "deepnote_app_coordinates": {
     "h": 5,
     "w": 12,
     "x": 0,
     "y": 481
    },
    "deepnote_app_is_code_hidden": true,
    "deepnote_cell_type": "code",
    "deepnote_to_be_reexecuted": false,
    "execution_millis": 11,
    "execution_start": 1664740595046,
    "id": "Cn9P4tr5P6cE",
    "source_hash": "1cc62e67"
   },
   "outputs": [
    {
     "data": {
      "text/plain": [
       "US         3.342339e+08\n",
       "China      1.411750e+09\n",
       "Germany    8.448227e+07\n",
       "Japan      1.243100e+08\n",
       "India      1.392329e+09\n",
       "UK         6.773680e+07\n",
       "France     6.822100e+07\n",
       "Italy      5.877623e+07\n",
       "Brazil     2.030625e+08\n",
       "Canada     4.009776e+07\n",
       "Name: Population, dtype: float64"
      ]
     },
     "execution_count": 21,
     "metadata": {},
     "output_type": "execute_result"
    }
   ],
   "source": [
    "df_country.loc[\"Population\"]"
   ]
  },
  {
   "cell_type": "markdown",
   "metadata": {
    "cell_id": "f72db9323cbe407c90944d6a364622c3",
    "deepnote_app_coordinates": {
     "h": 5,
     "w": 12,
     "x": 0,
     "y": 487
    },
    "deepnote_cell_height": 93.59375,
    "deepnote_cell_type": "markdown",
    "id": "LoNdmFLLP6cE"
   },
   "source": [
    "### Task: List the first country with its GDP and population"
   ]
  },
  {
   "cell_type": "code",
   "execution_count": 24,
   "metadata": {
    "cell_id": "60aad3ddec09455bae5e72183180c10f",
    "deepnote_app_coordinates": {
     "h": 5,
     "w": 12,
     "x": 0,
     "y": 493
    },
    "deepnote_app_is_code_hidden": true,
    "deepnote_cell_type": "code",
    "deepnote_to_be_reexecuted": false,
    "execution_millis": 3,
    "execution_start": 1664740595081,
    "id": "-ZQs1pHRP6cE",
    "source_hash": "52644606"
   },
   "outputs": [
    {
     "data": {
      "text/plain": [
       "GDP           2.695000e+01\n",
       "Population    3.342339e+08\n",
       "Name: US, dtype: float64"
      ]
     },
     "execution_count": 24,
     "metadata": {},
     "output_type": "execute_result"
    }
   ],
   "source": [
    "df_country[\"US\"]"
   ]
  },
  {
   "cell_type": "markdown",
   "metadata": {
    "cell_id": "b0ec0c3786504e47bb048cda2d24089d",
    "deepnote_app_coordinates": {
     "h": 5,
     "w": 12,
     "x": 0,
     "y": 499
    },
    "deepnote_cell_height": 69.59375,
    "deepnote_cell_type": "markdown",
    "id": "ugNQUF71P6cE"
   },
   "source": [
    "## Data Selection"
   ]
  },
  {
   "cell_type": "markdown",
   "metadata": {
    "cell_id": "f35305ee6ea74cd8a0074b6a89b3ffde",
    "deepnote_app_coordinates": {
     "h": 5,
     "w": 12,
     "x": 0,
     "y": 505
    },
    "deepnote_cell_height": 168.390625,
    "deepnote_cell_type": "markdown",
    "id": "zLIBTqWoP6cF"
   },
   "source": [
    "### Task: Show the countries whose GDP is more than 5 trillion dollars\n",
    "> (Hint: the data source has US$ Million as a unit, hence you need to choose GDP > 5,000,000 unit)\n",
    "\n",
    "\n"
   ]
  },
  {
   "cell_type": "code",
   "execution_count": 52,
   "metadata": {},
   "outputs": [
    {
     "data": {
      "text/html": [
       "<div>\n",
       "<style scoped>\n",
       "    .dataframe tbody tr th:only-of-type {\n",
       "        vertical-align: middle;\n",
       "    }\n",
       "\n",
       "    .dataframe tbody tr th {\n",
       "        vertical-align: top;\n",
       "    }\n",
       "\n",
       "    .dataframe thead th {\n",
       "        text-align: right;\n",
       "    }\n",
       "</style>\n",
       "<table border=\"1\" class=\"dataframe\">\n",
       "  <thead>\n",
       "    <tr style=\"text-align: right;\">\n",
       "      <th></th>\n",
       "      <th>GDP</th>\n",
       "      <th>Population</th>\n",
       "    </tr>\n",
       "  </thead>\n",
       "  <tbody>\n",
       "    <tr>\n",
       "      <th>US</th>\n",
       "      <td>26.95</td>\n",
       "      <td>3.342339e+08</td>\n",
       "    </tr>\n",
       "    <tr>\n",
       "      <th>China</th>\n",
       "      <td>17.70</td>\n",
       "      <td>1.411750e+09</td>\n",
       "    </tr>\n",
       "    <tr>\n",
       "      <th>Germany</th>\n",
       "      <td>4.43</td>\n",
       "      <td>8.448227e+07</td>\n",
       "    </tr>\n",
       "    <tr>\n",
       "      <th>Japan</th>\n",
       "      <td>4.23</td>\n",
       "      <td>1.243100e+08</td>\n",
       "    </tr>\n",
       "    <tr>\n",
       "      <th>India</th>\n",
       "      <td>3.73</td>\n",
       "      <td>1.392329e+09</td>\n",
       "    </tr>\n",
       "    <tr>\n",
       "      <th>Brazil</th>\n",
       "      <td>2.13</td>\n",
       "      <td>2.030625e+08</td>\n",
       "    </tr>\n",
       "  </tbody>\n",
       "</table>\n",
       "</div>"
      ],
      "text/plain": [
       "           GDP    Population\n",
       "US       26.95  3.342339e+08\n",
       "China    17.70  1.411750e+09\n",
       "Germany   4.43  8.448227e+07\n",
       "Japan     4.23  1.243100e+08\n",
       "India     3.73  1.392329e+09\n",
       "Brazil    2.13  2.030625e+08"
      ]
     },
     "execution_count": 52,
     "metadata": {},
     "output_type": "execute_result"
    }
   ],
   "source": [
    "df = df_country.transpose()\n",
    "df[df[\"Population\"] > 7 * (10 ** 7)]"
   ]
  },
  {
   "cell_type": "markdown",
   "metadata": {
    "cell_id": "aec10d78013f43bebad785ab47d471e7",
    "deepnote_app_coordinates": {
     "h": 5,
     "w": 12,
     "x": 0,
     "y": 517
    },
    "deepnote_cell_height": 93.59375,
    "deepnote_cell_type": "markdown",
    "id": "nZQKtpxlP6cF"
   },
   "source": [
    "### Task: Show the countries whose GDP is more than 3 trillion dollars"
   ]
  },
  {
   "cell_type": "code",
   "execution_count": 55,
   "metadata": {
    "cell_id": "21f3238a2c79405491b16cba36c73731",
    "deepnote_app_coordinates": {
     "h": 5,
     "w": 12,
     "x": 0,
     "y": 523
    },
    "deepnote_app_is_code_hidden": true,
    "deepnote_cell_type": "code",
    "deepnote_to_be_reexecuted": false,
    "execution_millis": 9,
    "execution_start": 1664740595086,
    "id": "4i703wXkP6cF",
    "source_hash": "322d1aba"
   },
   "outputs": [
    {
     "data": {
      "text/html": [
       "<div>\n",
       "<style scoped>\n",
       "    .dataframe tbody tr th:only-of-type {\n",
       "        vertical-align: middle;\n",
       "    }\n",
       "\n",
       "    .dataframe tbody tr th {\n",
       "        vertical-align: top;\n",
       "    }\n",
       "\n",
       "    .dataframe thead th {\n",
       "        text-align: right;\n",
       "    }\n",
       "</style>\n",
       "<table border=\"1\" class=\"dataframe\">\n",
       "  <thead>\n",
       "    <tr style=\"text-align: right;\">\n",
       "      <th></th>\n",
       "      <th>GDP</th>\n",
       "      <th>Population</th>\n",
       "    </tr>\n",
       "  </thead>\n",
       "  <tbody>\n",
       "    <tr>\n",
       "      <th>US</th>\n",
       "      <td>26.95</td>\n",
       "      <td>3.342339e+08</td>\n",
       "    </tr>\n",
       "    <tr>\n",
       "      <th>China</th>\n",
       "      <td>17.70</td>\n",
       "      <td>1.411750e+09</td>\n",
       "    </tr>\n",
       "  </tbody>\n",
       "</table>\n",
       "</div>"
      ],
      "text/plain": [
       "         GDP    Population\n",
       "US     26.95  3.342339e+08\n",
       "China  17.70  1.411750e+09"
      ]
     },
     "execution_count": 55,
     "metadata": {},
     "output_type": "execute_result"
    }
   ],
   "source": [
    "df[df[\"GDP\"] > 5]"
   ]
  },
  {
   "cell_type": "markdown",
   "metadata": {
    "cell_id": "4c0bf8084ba14ca7b61d9dbe97ff2445",
    "deepnote_app_coordinates": {
     "h": 5,
     "w": 12,
     "x": 0,
     "y": 529
    },
    "deepnote_cell_height": 93.59375,
    "deepnote_cell_type": "markdown",
    "id": "GAK2A9r7P6cF"
   },
   "source": [
    "### Task: Show the countries whose pupulation is more than 1 billion"
   ]
  },
  {
   "cell_type": "code",
   "execution_count": 54,
   "metadata": {
    "cell_id": "a378a1d541e24ab8938ba608d2f0f644",
    "deepnote_app_coordinates": {
     "h": 5,
     "w": 12,
     "x": 0,
     "y": 535
    },
    "deepnote_app_is_code_hidden": true,
    "deepnote_cell_type": "code",
    "deepnote_to_be_reexecuted": false,
    "execution_millis": 12,
    "execution_start": 1664740595095,
    "id": "ZLHrhaEeP6cF",
    "source_hash": "b217f4fa"
   },
   "outputs": [
    {
     "data": {
      "text/html": [
       "<div>\n",
       "<style scoped>\n",
       "    .dataframe tbody tr th:only-of-type {\n",
       "        vertical-align: middle;\n",
       "    }\n",
       "\n",
       "    .dataframe tbody tr th {\n",
       "        vertical-align: top;\n",
       "    }\n",
       "\n",
       "    .dataframe thead th {\n",
       "        text-align: right;\n",
       "    }\n",
       "</style>\n",
       "<table border=\"1\" class=\"dataframe\">\n",
       "  <thead>\n",
       "    <tr style=\"text-align: right;\">\n",
       "      <th></th>\n",
       "      <th>GDP</th>\n",
       "      <th>Population</th>\n",
       "    </tr>\n",
       "  </thead>\n",
       "  <tbody>\n",
       "    <tr>\n",
       "      <th>China</th>\n",
       "      <td>17.70</td>\n",
       "      <td>1.411750e+09</td>\n",
       "    </tr>\n",
       "    <tr>\n",
       "      <th>India</th>\n",
       "      <td>3.73</td>\n",
       "      <td>1.392329e+09</td>\n",
       "    </tr>\n",
       "  </tbody>\n",
       "</table>\n",
       "</div>"
      ],
      "text/plain": [
       "         GDP    Population\n",
       "China  17.70  1.411750e+09\n",
       "India   3.73  1.392329e+09"
      ]
     },
     "execution_count": 54,
     "metadata": {},
     "output_type": "execute_result"
    }
   ],
   "source": [
    "df[df[\"Population\"] > 1 * 10 ** 9]"
   ]
  },
  {
   "cell_type": "markdown",
   "metadata": {
    "cell_id": "61dbd16a834144139636331100ddeb5c",
    "deepnote_app_coordinates": {
     "h": 5,
     "w": 12,
     "x": 0,
     "y": 541
    },
    "deepnote_cell_height": 93.59375,
    "deepnote_cell_type": "markdown",
    "id": "yymM4GIQP6cG"
   },
   "source": [
    "### Task: Show the countries whose pupulation is less than 300 million"
   ]
  },
  {
   "cell_type": "code",
   "execution_count": 56,
   "metadata": {
    "cell_id": "34a57a88830e40889314151a34d48c70",
    "deepnote_app_coordinates": {
     "h": 5,
     "w": 12,
     "x": 0,
     "y": 547
    },
    "deepnote_app_is_code_hidden": true,
    "deepnote_cell_type": "code",
    "deepnote_to_be_reexecuted": false,
    "execution_millis": 47,
    "execution_start": 1664740595109,
    "id": "TvjRcKORP6cG",
    "source_hash": "5d23be5b"
   },
   "outputs": [
    {
     "data": {
      "text/html": [
       "<div>\n",
       "<style scoped>\n",
       "    .dataframe tbody tr th:only-of-type {\n",
       "        vertical-align: middle;\n",
       "    }\n",
       "\n",
       "    .dataframe tbody tr th {\n",
       "        vertical-align: top;\n",
       "    }\n",
       "\n",
       "    .dataframe thead th {\n",
       "        text-align: right;\n",
       "    }\n",
       "</style>\n",
       "<table border=\"1\" class=\"dataframe\">\n",
       "  <thead>\n",
       "    <tr style=\"text-align: right;\">\n",
       "      <th></th>\n",
       "      <th>GDP</th>\n",
       "      <th>Population</th>\n",
       "    </tr>\n",
       "  </thead>\n",
       "  <tbody>\n",
       "    <tr>\n",
       "      <th>Germany</th>\n",
       "      <td>4.43</td>\n",
       "      <td>84482267.0</td>\n",
       "    </tr>\n",
       "    <tr>\n",
       "      <th>Japan</th>\n",
       "      <td>4.23</td>\n",
       "      <td>124310000.0</td>\n",
       "    </tr>\n",
       "    <tr>\n",
       "      <th>UK</th>\n",
       "      <td>3.33</td>\n",
       "      <td>67736802.0</td>\n",
       "    </tr>\n",
       "    <tr>\n",
       "      <th>France</th>\n",
       "      <td>3.05</td>\n",
       "      <td>68221000.0</td>\n",
       "    </tr>\n",
       "    <tr>\n",
       "      <th>Italy</th>\n",
       "      <td>2.19</td>\n",
       "      <td>58776233.0</td>\n",
       "    </tr>\n",
       "    <tr>\n",
       "      <th>Brazil</th>\n",
       "      <td>2.13</td>\n",
       "      <td>203062512.0</td>\n",
       "    </tr>\n",
       "    <tr>\n",
       "      <th>Canada</th>\n",
       "      <td>2.12</td>\n",
       "      <td>40097761.0</td>\n",
       "    </tr>\n",
       "  </tbody>\n",
       "</table>\n",
       "</div>"
      ],
      "text/plain": [
       "          GDP   Population\n",
       "Germany  4.43   84482267.0\n",
       "Japan    4.23  124310000.0\n",
       "UK       3.33   67736802.0\n",
       "France   3.05   68221000.0\n",
       "Italy    2.19   58776233.0\n",
       "Brazil   2.13  203062512.0\n",
       "Canada   2.12   40097761.0"
      ]
     },
     "execution_count": 56,
     "metadata": {},
     "output_type": "execute_result"
    }
   ],
   "source": [
    "df[df[\"Population\"] < 3 * 10 ** 8]"
   ]
  },
  {
   "cell_type": "markdown",
   "metadata": {
    "cell_id": "817ad486d40244dfab41fa869a598ee2",
    "deepnote_app_coordinates": {
     "h": 5,
     "w": 12,
     "x": 0,
     "y": 553
    },
    "deepnote_cell_height": 93.59375,
    "deepnote_cell_type": "markdown",
    "id": "hY-CcAlYP6cG"
   },
   "source": [
    "### Task: Show the countries whose pupulation is between 300 million and 500 million"
   ]
  },
  {
   "cell_type": "code",
   "execution_count": 59,
   "metadata": {
    "cell_id": "05819401781a405f847951ff3a0aba6b",
    "deepnote_app_coordinates": {
     "h": 5,
     "w": 12,
     "x": 0,
     "y": 559
    },
    "deepnote_app_is_code_hidden": true,
    "deepnote_cell_type": "code",
    "deepnote_to_be_reexecuted": false,
    "execution_millis": 16,
    "execution_start": 1664740595150,
    "id": "H_k7GpbeP6cG",
    "scrolled": true,
    "source_hash": "2f05f761"
   },
   "outputs": [
    {
     "data": {
      "text/html": [
       "<div>\n",
       "<style scoped>\n",
       "    .dataframe tbody tr th:only-of-type {\n",
       "        vertical-align: middle;\n",
       "    }\n",
       "\n",
       "    .dataframe tbody tr th {\n",
       "        vertical-align: top;\n",
       "    }\n",
       "\n",
       "    .dataframe thead th {\n",
       "        text-align: right;\n",
       "    }\n",
       "</style>\n",
       "<table border=\"1\" class=\"dataframe\">\n",
       "  <thead>\n",
       "    <tr style=\"text-align: right;\">\n",
       "      <th></th>\n",
       "      <th>GDP</th>\n",
       "      <th>Population</th>\n",
       "    </tr>\n",
       "  </thead>\n",
       "  <tbody>\n",
       "    <tr>\n",
       "      <th>US</th>\n",
       "      <td>26.95</td>\n",
       "      <td>334233854.0</td>\n",
       "    </tr>\n",
       "  </tbody>\n",
       "</table>\n",
       "</div>"
      ],
      "text/plain": [
       "      GDP   Population\n",
       "US  26.95  334233854.0"
      ]
     },
     "execution_count": 59,
     "metadata": {},
     "output_type": "execute_result"
    }
   ],
   "source": [
    "df[((3 * 10 ** 8) < df[\"Population\"]) & (df[\"Population\"] < (5 * 10 ** 8))]"
   ]
  },
  {
   "cell_type": "markdown",
   "metadata": {
    "cell_id": "ccaa3c6165a34760875af8c9a39054f9",
    "deepnote_app_coordinates": {
     "h": 5,
     "w": 12,
     "x": 0,
     "y": 565
    },
    "deepnote_cell_height": 69.59375,
    "deepnote_cell_type": "markdown",
    "id": "xhrKegkYP6cG"
   },
   "source": [
    "## Data Manipulation"
   ]
  },
  {
   "cell_type": "markdown",
   "metadata": {
    "cell_id": "5af8fd8bc0c74b33bf8cb630dba236a4",
    "deepnote_app_coordinates": {
     "h": 5,
     "w": 12,
     "x": 0,
     "y": 571
    },
    "deepnote_cell_height": 125.59375,
    "deepnote_cell_type": "markdown",
    "id": "N_u4K8VXP6cG"
   },
   "source": [
    "### Task: Create a new column, called \"GDP per capita\", based on the column \"GDP\" and the column \"Population\""
   ]
  },
  {
   "cell_type": "code",
   "execution_count": 65,
   "metadata": {
    "cell_id": "4e1742aad19d4f9c878231aa7604543f",
    "deepnote_app_coordinates": {
     "h": 5,
     "w": 12,
     "x": 0,
     "y": 577
    },
    "deepnote_app_is_code_hidden": true,
    "deepnote_cell_type": "code",
    "deepnote_to_be_reexecuted": false,
    "execution_millis": 6,
    "execution_start": 1664740595164,
    "id": "M6FWNO46P6cG",
    "source_hash": "e235224e"
   },
   "outputs": [
    {
     "data": {
      "text/html": [
       "<div>\n",
       "<style scoped>\n",
       "    .dataframe tbody tr th:only-of-type {\n",
       "        vertical-align: middle;\n",
       "    }\n",
       "\n",
       "    .dataframe tbody tr th {\n",
       "        vertical-align: top;\n",
       "    }\n",
       "\n",
       "    .dataframe thead th {\n",
       "        text-align: right;\n",
       "    }\n",
       "</style>\n",
       "<table border=\"1\" class=\"dataframe\">\n",
       "  <thead>\n",
       "    <tr style=\"text-align: right;\">\n",
       "      <th></th>\n",
       "      <th>GDP</th>\n",
       "      <th>Population</th>\n",
       "      <th>GDP per capita</th>\n",
       "    </tr>\n",
       "  </thead>\n",
       "  <tbody>\n",
       "    <tr>\n",
       "      <th>US</th>\n",
       "      <td>2.695000e+13</td>\n",
       "      <td>3.342339e+08</td>\n",
       "      <td>80632.167201</td>\n",
       "    </tr>\n",
       "    <tr>\n",
       "      <th>China</th>\n",
       "      <td>1.770000e+13</td>\n",
       "      <td>1.411750e+09</td>\n",
       "      <td>12537.630600</td>\n",
       "    </tr>\n",
       "    <tr>\n",
       "      <th>Germany</th>\n",
       "      <td>4.430000e+12</td>\n",
       "      <td>8.448227e+07</td>\n",
       "      <td>52437.039835</td>\n",
       "    </tr>\n",
       "    <tr>\n",
       "      <th>Japan</th>\n",
       "      <td>4.230000e+12</td>\n",
       "      <td>1.243100e+08</td>\n",
       "      <td>34027.833642</td>\n",
       "    </tr>\n",
       "    <tr>\n",
       "      <th>India</th>\n",
       "      <td>3.730000e+12</td>\n",
       "      <td>1.392329e+09</td>\n",
       "      <td>2678.964526</td>\n",
       "    </tr>\n",
       "    <tr>\n",
       "      <th>UK</th>\n",
       "      <td>3.330000e+12</td>\n",
       "      <td>6.773680e+07</td>\n",
       "      <td>49160.868268</td>\n",
       "    </tr>\n",
       "    <tr>\n",
       "      <th>France</th>\n",
       "      <td>3.050000e+12</td>\n",
       "      <td>6.822100e+07</td>\n",
       "      <td>44707.641342</td>\n",
       "    </tr>\n",
       "    <tr>\n",
       "      <th>Italy</th>\n",
       "      <td>2.190000e+12</td>\n",
       "      <td>5.877623e+07</td>\n",
       "      <td>37259.958460</td>\n",
       "    </tr>\n",
       "    <tr>\n",
       "      <th>Brazil</th>\n",
       "      <td>2.130000e+12</td>\n",
       "      <td>2.030625e+08</td>\n",
       "      <td>10489.380728</td>\n",
       "    </tr>\n",
       "    <tr>\n",
       "      <th>Canada</th>\n",
       "      <td>2.120000e+12</td>\n",
       "      <td>4.009776e+07</td>\n",
       "      <td>52870.782486</td>\n",
       "    </tr>\n",
       "  </tbody>\n",
       "</table>\n",
       "</div>"
      ],
      "text/plain": [
       "                  GDP    Population  GDP per capita\n",
       "US       2.695000e+13  3.342339e+08    80632.167201\n",
       "China    1.770000e+13  1.411750e+09    12537.630600\n",
       "Germany  4.430000e+12  8.448227e+07    52437.039835\n",
       "Japan    4.230000e+12  1.243100e+08    34027.833642\n",
       "India    3.730000e+12  1.392329e+09     2678.964526\n",
       "UK       3.330000e+12  6.773680e+07    49160.868268\n",
       "France   3.050000e+12  6.822100e+07    44707.641342\n",
       "Italy    2.190000e+12  5.877623e+07    37259.958460\n",
       "Brazil   2.130000e+12  2.030625e+08    10489.380728\n",
       "Canada   2.120000e+12  4.009776e+07    52870.782486"
      ]
     },
     "execution_count": 65,
     "metadata": {},
     "output_type": "execute_result"
    }
   ],
   "source": [
    "df[\"GDP per capita\"] = [i/j for i,j in zip(df[\"GDP\"].values, df[\"Population\"].values)]\n",
    "df"
   ]
  },
  {
   "cell_type": "code",
   "execution_count": 64,
   "metadata": {},
   "outputs": [
    {
     "data": {
      "text/html": [
       "<div>\n",
       "<style scoped>\n",
       "    .dataframe tbody tr th:only-of-type {\n",
       "        vertical-align: middle;\n",
       "    }\n",
       "\n",
       "    .dataframe tbody tr th {\n",
       "        vertical-align: top;\n",
       "    }\n",
       "\n",
       "    .dataframe thead th {\n",
       "        text-align: right;\n",
       "    }\n",
       "</style>\n",
       "<table border=\"1\" class=\"dataframe\">\n",
       "  <thead>\n",
       "    <tr style=\"text-align: right;\">\n",
       "      <th></th>\n",
       "      <th>GDP</th>\n",
       "      <th>Population</th>\n",
       "      <th>GDP per capita</th>\n",
       "    </tr>\n",
       "  </thead>\n",
       "  <tbody>\n",
       "    <tr>\n",
       "      <th>US</th>\n",
       "      <td>2.695000e+13</td>\n",
       "      <td>3.342339e+08</td>\n",
       "      <td>8.063217e-08</td>\n",
       "    </tr>\n",
       "    <tr>\n",
       "      <th>China</th>\n",
       "      <td>1.770000e+13</td>\n",
       "      <td>1.411750e+09</td>\n",
       "      <td>1.253763e-08</td>\n",
       "    </tr>\n",
       "    <tr>\n",
       "      <th>Germany</th>\n",
       "      <td>4.430000e+12</td>\n",
       "      <td>8.448227e+07</td>\n",
       "      <td>5.243704e-08</td>\n",
       "    </tr>\n",
       "    <tr>\n",
       "      <th>Japan</th>\n",
       "      <td>4.230000e+12</td>\n",
       "      <td>1.243100e+08</td>\n",
       "      <td>3.402783e-08</td>\n",
       "    </tr>\n",
       "    <tr>\n",
       "      <th>India</th>\n",
       "      <td>3.730000e+12</td>\n",
       "      <td>1.392329e+09</td>\n",
       "      <td>2.678965e-09</td>\n",
       "    </tr>\n",
       "    <tr>\n",
       "      <th>UK</th>\n",
       "      <td>3.330000e+12</td>\n",
       "      <td>6.773680e+07</td>\n",
       "      <td>4.916087e-08</td>\n",
       "    </tr>\n",
       "    <tr>\n",
       "      <th>France</th>\n",
       "      <td>3.050000e+12</td>\n",
       "      <td>6.822100e+07</td>\n",
       "      <td>4.470764e-08</td>\n",
       "    </tr>\n",
       "    <tr>\n",
       "      <th>Italy</th>\n",
       "      <td>2.190000e+12</td>\n",
       "      <td>5.877623e+07</td>\n",
       "      <td>3.725996e-08</td>\n",
       "    </tr>\n",
       "    <tr>\n",
       "      <th>Brazil</th>\n",
       "      <td>2.130000e+12</td>\n",
       "      <td>2.030625e+08</td>\n",
       "      <td>1.048938e-08</td>\n",
       "    </tr>\n",
       "    <tr>\n",
       "      <th>Canada</th>\n",
       "      <td>2.120000e+12</td>\n",
       "      <td>4.009776e+07</td>\n",
       "      <td>5.287078e-08</td>\n",
       "    </tr>\n",
       "  </tbody>\n",
       "</table>\n",
       "</div>"
      ],
      "text/plain": [
       "                  GDP    Population  GDP per capita\n",
       "US       2.695000e+13  3.342339e+08    8.063217e-08\n",
       "China    1.770000e+13  1.411750e+09    1.253763e-08\n",
       "Germany  4.430000e+12  8.448227e+07    5.243704e-08\n",
       "Japan    4.230000e+12  1.243100e+08    3.402783e-08\n",
       "India    3.730000e+12  1.392329e+09    2.678965e-09\n",
       "UK       3.330000e+12  6.773680e+07    4.916087e-08\n",
       "France   3.050000e+12  6.822100e+07    4.470764e-08\n",
       "Italy    2.190000e+12  5.877623e+07    3.725996e-08\n",
       "Brazil   2.130000e+12  2.030625e+08    1.048938e-08\n",
       "Canada   2.120000e+12  4.009776e+07    5.287078e-08"
      ]
     },
     "execution_count": 64,
     "metadata": {},
     "output_type": "execute_result"
    }
   ],
   "source": [
    "df[\"GDP\"] *= 10 ** 12\n",
    "df"
   ]
  },
  {
   "cell_type": "markdown",
   "metadata": {
    "cell_id": "47d96a9b5b0b4cbaad0424acb7715c0e",
    "deepnote_app_coordinates": {
     "h": 5,
     "w": 12,
     "x": 0,
     "y": 583
    },
    "deepnote_cell_height": 69.59375,
    "deepnote_cell_type": "markdown",
    "id": "JAUUqFVHP6cG"
   },
   "source": [
    "## Data Understanding"
   ]
  },
  {
   "cell_type": "markdown",
   "metadata": {
    "cell_id": "0541ef19aa11418194fe46f20a0967ff",
    "deepnote_app_coordinates": {
     "h": 5,
     "w": 12,
     "x": 0,
     "y": 589
    },
    "deepnote_cell_height": 425.390625,
    "deepnote_cell_type": "markdown",
    "id": "WVUmFsR6P6cH"
   },
   "source": [
    "### Task: With the three numeric columns, show the statsitics of each:\n",
    "\n",
    "\n",
    "1.   Count\n",
    "1.   Max\n",
    "1.   Min\n",
    "1.   Mean\n",
    "1.   Median\n",
    "1.   Quantiles\n",
    "1.   25% Quantile\n",
    "1.   50% Quantile\n",
    "1.   75% QUantile\n",
    "1.   Variance\n",
    "1.   Std\n",
    "1.   Total\n",
    "\n",
    "\n"
   ]
  },
  {
   "cell_type": "code",
   "execution_count": 67,
   "metadata": {
    "cell_id": "d95e2d34cf5e46598d8191b50133fc56",
    "deepnote_app_coordinates": {
     "h": 5,
     "w": 12,
     "x": 0,
     "y": 595
    },
    "deepnote_app_is_code_hidden": true,
    "deepnote_cell_type": "code",
    "deepnote_to_be_reexecuted": false,
    "execution_millis": 25,
    "execution_start": 1664740595172,
    "id": "dWBRXImGP6cH",
    "source_hash": "f88152d9"
   },
   "outputs": [
    {
     "data": {
      "text/html": [
       "<div>\n",
       "<style scoped>\n",
       "    .dataframe tbody tr th:only-of-type {\n",
       "        vertical-align: middle;\n",
       "    }\n",
       "\n",
       "    .dataframe tbody tr th {\n",
       "        vertical-align: top;\n",
       "    }\n",
       "\n",
       "    .dataframe thead th {\n",
       "        text-align: right;\n",
       "    }\n",
       "</style>\n",
       "<table border=\"1\" class=\"dataframe\">\n",
       "  <thead>\n",
       "    <tr style=\"text-align: right;\">\n",
       "      <th></th>\n",
       "      <th>GDP</th>\n",
       "      <th>Population</th>\n",
       "      <th>GDP per capita</th>\n",
       "    </tr>\n",
       "  </thead>\n",
       "  <tbody>\n",
       "    <tr>\n",
       "      <th>count</th>\n",
       "      <td>1.000000e+01</td>\n",
       "      <td>1.000000e+01</td>\n",
       "      <td>10.000000</td>\n",
       "    </tr>\n",
       "    <tr>\n",
       "      <th>mean</th>\n",
       "      <td>6.986000e+12</td>\n",
       "      <td>3.784999e+08</td>\n",
       "      <td>37680.226709</td>\n",
       "    </tr>\n",
       "    <tr>\n",
       "      <th>std</th>\n",
       "      <td>8.414274e+12</td>\n",
       "      <td>5.465892e+08</td>\n",
       "      <td>23768.963416</td>\n",
       "    </tr>\n",
       "    <tr>\n",
       "      <th>min</th>\n",
       "      <td>2.120000e+12</td>\n",
       "      <td>4.009776e+07</td>\n",
       "      <td>2678.964526</td>\n",
       "    </tr>\n",
       "    <tr>\n",
       "      <th>25%</th>\n",
       "      <td>2.405000e+12</td>\n",
       "      <td>6.785785e+07</td>\n",
       "      <td>17910.181361</td>\n",
       "    </tr>\n",
       "    <tr>\n",
       "      <th>50%</th>\n",
       "      <td>3.530000e+12</td>\n",
       "      <td>1.043961e+08</td>\n",
       "      <td>40983.799901</td>\n",
       "    </tr>\n",
       "    <tr>\n",
       "      <th>75%</th>\n",
       "      <td>4.380000e+12</td>\n",
       "      <td>3.014410e+08</td>\n",
       "      <td>51617.996943</td>\n",
       "    </tr>\n",
       "    <tr>\n",
       "      <th>max</th>\n",
       "      <td>2.695000e+13</td>\n",
       "      <td>1.411750e+09</td>\n",
       "      <td>80632.167201</td>\n",
       "    </tr>\n",
       "  </tbody>\n",
       "</table>\n",
       "</div>"
      ],
      "text/plain": [
       "                GDP    Population  GDP per capita\n",
       "count  1.000000e+01  1.000000e+01       10.000000\n",
       "mean   6.986000e+12  3.784999e+08    37680.226709\n",
       "std    8.414274e+12  5.465892e+08    23768.963416\n",
       "min    2.120000e+12  4.009776e+07     2678.964526\n",
       "25%    2.405000e+12  6.785785e+07    17910.181361\n",
       "50%    3.530000e+12  1.043961e+08    40983.799901\n",
       "75%    4.380000e+12  3.014410e+08    51617.996943\n",
       "max    2.695000e+13  1.411750e+09    80632.167201"
      ]
     },
     "execution_count": 67,
     "metadata": {},
     "output_type": "execute_result"
    }
   ],
   "source": [
    "df.describe()"
   ]
  },
  {
   "cell_type": "code",
   "execution_count": null,
   "metadata": {},
   "outputs": [],
   "source": []
  }
 ],
 "metadata": {
  "colab": {
   "provenance": []
  },
  "deepnote": {},
  "deepnote_app_layout": "article",
  "deepnote_execution_queue": [],
  "deepnote_notebook_id": "ea0a78f5003e420b9294549d2de07cb3",
  "deepnote_persisted_session": {
   "createdAt": "2022-10-02T20:31:46.191Z"
  },
  "kernelspec": {
   "display_name": "Python 3 (ipykernel)",
   "language": "python",
   "name": "python3"
  },
  "language_info": {
   "codemirror_mode": {
    "name": "ipython",
    "version": 3
   },
   "file_extension": ".py",
   "mimetype": "text/x-python",
   "name": "python",
   "nbconvert_exporter": "python",
   "pygments_lexer": "ipython3",
   "version": "3.11.5"
  }
 },
 "nbformat": 4,
 "nbformat_minor": 1
}
