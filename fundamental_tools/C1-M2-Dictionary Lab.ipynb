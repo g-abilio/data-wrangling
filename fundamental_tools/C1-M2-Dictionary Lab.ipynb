{
 "cells": [
  {
   "cell_type": "markdown",
   "metadata": {
    "cell_id": "8a2a2db403ec4b9d855e0c94b18c81c6",
    "deepnote_app_coordinates": {
     "h": 5,
     "w": 12,
     "x": 0,
     "y": 1
    },
    "deepnote_cell_type": "markdown",
    "id": "vhIfpKue3F8M",
    "tags": []
   },
   "source": [
    "# Lab Dictionary"
   ]
  },
  {
   "cell_type": "markdown",
   "metadata": {
    "cell_id": "86ee79beadcc42428c1eb925513b6899",
    "deepnote_app_coordinates": {
     "h": 5,
     "w": 12,
     "x": 0,
     "y": 7
    },
    "deepnote_cell_type": "markdown",
    "id": "0o65JD603F8P",
    "tags": []
   },
   "source": [
    "## Data We Want to Organize\n",
    "You are given a dataset as below represented as a list. You should organize them in the required data structure in following tasks."
   ]
  },
  {
   "cell_type": "code",
   "execution_count": 1,
   "metadata": {
    "cell_id": "1f194b2d55b24733b200a9b8fd669a3c",
    "deepnote_app_coordinates": {
     "h": 5,
     "w": 12,
     "x": 0,
     "y": 13
    },
    "deepnote_cell_type": "code",
    "deepnote_to_be_reexecuted": false,
    "execution_millis": 276518,
    "execution_start": 1668293746532,
    "id": "cp3LCCZM3F8P",
    "source_hash": "d1526c0",
    "tags": []
   },
   "outputs": [
    {
     "data": {
      "text/plain": [
       "['STU100',\n",
       " 'STU101',\n",
       " 'STU102',\n",
       " 'STU103',\n",
       " 'STU104',\n",
       " 'STU105',\n",
       " 'STU106',\n",
       " 'STU107',\n",
       " 'STU108',\n",
       " 'STU109',\n",
       " 'STU110',\n",
       " 'STU111',\n",
       " 'STU112',\n",
       " 'STU113',\n",
       " 'STU114',\n",
       " 'STU115',\n",
       " 'STU116',\n",
       " 'STU117',\n",
       " 'STU118',\n",
       " 'STU119',\n",
       " 'STU120',\n",
       " 'STU121',\n",
       " 'STU122',\n",
       " 'STU123',\n",
       " 'STU124',\n",
       " 'STU125',\n",
       " 'STU126',\n",
       " 'STU127',\n",
       " 'STU128',\n",
       " 'STU129',\n",
       " 'STU130',\n",
       " 'STU131',\n",
       " 'STU132',\n",
       " 'STU133',\n",
       " 'STU134',\n",
       " 'STU135',\n",
       " 'STU136',\n",
       " 'STU137',\n",
       " 'STU138',\n",
       " 'STU139',\n",
       " 'STU140',\n",
       " 'STU141',\n",
       " 'STU142',\n",
       " 'STU143',\n",
       " 'STU144',\n",
       " 'STU145',\n",
       " 'STU146',\n",
       " 'STU147']"
      ]
     },
     "execution_count": 1,
     "metadata": {},
     "output_type": "execute_result"
    }
   ],
   "source": [
    "SIZE = 48\n",
    "names = ['STU' + str(i) for i in range(100,100+SIZE)]\n",
    "names"
   ]
  },
  {
   "cell_type": "code",
   "execution_count": 2,
   "metadata": {
    "cell_id": "786ae477329b4e8cbb0b02c18cbc5107",
    "deepnote_app_coordinates": {
     "h": 5,
     "w": 12,
     "x": 0,
     "y": 19
    },
    "deepnote_cell_type": "code",
    "deepnote_to_be_reexecuted": false,
    "execution_millis": 580,
    "execution_start": 1668293746579,
    "id": "N4paz_Pz3F8R",
    "source_hash": "3478a76d",
    "tags": []
   },
   "outputs": [
    {
     "data": {
      "text/plain": [
       "[60,\n",
       " 92,\n",
       " 85,\n",
       " 84,\n",
       " 73,\n",
       " 92,\n",
       " 77,\n",
       " 66,\n",
       " 93,\n",
       " 93,\n",
       " 65,\n",
       " 100,\n",
       " 66,\n",
       " 80,\n",
       " 90,\n",
       " 88,\n",
       " 64,\n",
       " 70,\n",
       " 74,\n",
       " 84,\n",
       " 61,\n",
       " 64,\n",
       " 61,\n",
       " 71,\n",
       " 67,\n",
       " 69,\n",
       " 78,\n",
       " 60,\n",
       " 70,\n",
       " 69,\n",
       " 77,\n",
       " 62,\n",
       " 77,\n",
       " 93,\n",
       " 77,\n",
       " 70,\n",
       " 63,\n",
       " 81,\n",
       " 62,\n",
       " 97,\n",
       " 71,\n",
       " 94,\n",
       " 89,\n",
       " 87,\n",
       " 92,\n",
       " 91,\n",
       " 76,\n",
       " 85]"
      ]
     },
     "execution_count": 2,
     "metadata": {},
     "output_type": "execute_result"
    }
   ],
   "source": [
    "import random\n",
    "\n",
    "scores1 = [random.randint(60, 100) for i in range(SIZE)]\n",
    "scores1"
   ]
  },
  {
   "cell_type": "code",
   "execution_count": 3,
   "metadata": {
    "id": "ltD_PRqG5h3Y"
   },
   "outputs": [
    {
     "data": {
      "text/plain": [
       "[82,\n",
       " 78,\n",
       " 75,\n",
       " 78,\n",
       " 93,\n",
       " 79,\n",
       " 65,\n",
       " 69,\n",
       " 84,\n",
       " 68,\n",
       " 68,\n",
       " 67,\n",
       " 67,\n",
       " 78,\n",
       " 87,\n",
       " 98,\n",
       " 66,\n",
       " 91,\n",
       " 84,\n",
       " 70,\n",
       " 92,\n",
       " 84,\n",
       " 86,\n",
       " 100,\n",
       " 100,\n",
       " 78,\n",
       " 69,\n",
       " 96,\n",
       " 97,\n",
       " 81,\n",
       " 98,\n",
       " 62,\n",
       " 83,\n",
       " 91,\n",
       " 64,\n",
       " 60,\n",
       " 62,\n",
       " 61,\n",
       " 77,\n",
       " 77,\n",
       " 71,\n",
       " 89,\n",
       " 70,\n",
       " 71,\n",
       " 100,\n",
       " 99,\n",
       " 81,\n",
       " 86]"
      ]
     },
     "execution_count": 3,
     "metadata": {},
     "output_type": "execute_result"
    }
   ],
   "source": [
    "scores2 = [random.randint(60, 100) for i in range(SIZE)]\n",
    "scores2"
   ]
  },
  {
   "cell_type": "markdown",
   "metadata": {
    "cell_id": "ccd6016b85674d38a91c784b836af3ae",
    "deepnote_app_coordinates": {
     "h": 5,
     "w": 12,
     "x": 0,
     "y": 499
    },
    "deepnote_cell_type": "markdown",
    "id": "wpkcF6Fc3F8k",
    "tags": []
   },
   "source": [
    "## Dictionary"
   ]
  },
  {
   "cell_type": "markdown",
   "metadata": {
    "cell_id": "4fb41903e3f84f6f9b037549eb17e5d7",
    "deepnote_app_coordinates": {
     "h": 5,
     "w": 12,
     "x": 0,
     "y": 505
    },
    "deepnote_cell_type": "markdown",
    "id": "eFM3bIkh3F8k",
    "tags": []
   },
   "source": [
    "### Task: Create a dictionary `d1`, in which names as key and scores1 as values"
   ]
  },
  {
   "cell_type": "code",
   "execution_count": 11,
   "metadata": {
    "cell_id": "421a0ccd81f34fe0a146d9ebd546162c",
    "deepnote_app_coordinates": {
     "h": 5,
     "w": 12,
     "x": 0,
     "y": 511
    },
    "deepnote_cell_type": "code",
    "deepnote_to_be_reexecuted": false,
    "execution_millis": 259,
    "execution_start": 1668293747067,
    "id": "6O9hdUjT3F8k",
    "source_hash": "622c411e",
    "tags": []
   },
   "outputs": [
    {
     "data": {
      "text/plain": [
       "{'STU100': 60,\n",
       " 'STU101': 92,\n",
       " 'STU102': 85,\n",
       " 'STU103': 84,\n",
       " 'STU104': 73,\n",
       " 'STU105': 92,\n",
       " 'STU106': 77,\n",
       " 'STU107': 66,\n",
       " 'STU108': 93,\n",
       " 'STU109': 93,\n",
       " 'STU110': 65,\n",
       " 'STU111': 100,\n",
       " 'STU112': 66,\n",
       " 'STU113': 80,\n",
       " 'STU114': 90,\n",
       " 'STU115': 88,\n",
       " 'STU116': 64,\n",
       " 'STU117': 70,\n",
       " 'STU118': 74,\n",
       " 'STU119': 84,\n",
       " 'STU120': 61,\n",
       " 'STU121': 64,\n",
       " 'STU122': 61,\n",
       " 'STU123': 71,\n",
       " 'STU124': 67,\n",
       " 'STU125': 69,\n",
       " 'STU126': 78,\n",
       " 'STU127': 60,\n",
       " 'STU128': 70,\n",
       " 'STU129': 69,\n",
       " 'STU130': 77,\n",
       " 'STU131': 62,\n",
       " 'STU132': 77,\n",
       " 'STU133': 93,\n",
       " 'STU134': 77,\n",
       " 'STU135': 70,\n",
       " 'STU136': 63,\n",
       " 'STU137': 81,\n",
       " 'STU138': 62,\n",
       " 'STU139': 97,\n",
       " 'STU140': 71,\n",
       " 'STU141': 94,\n",
       " 'STU142': 89,\n",
       " 'STU143': 87,\n",
       " 'STU144': 92,\n",
       " 'STU145': 91,\n",
       " 'STU146': 76,\n",
       " 'STU147': 85}"
      ]
     },
     "execution_count": 11,
     "metadata": {},
     "output_type": "execute_result"
    }
   ],
   "source": [
    "d1 = {x : y for x,y in zip(names, scores1)}\n",
    "d1"
   ]
  },
  {
   "cell_type": "markdown",
   "metadata": {
    "cell_id": "610b56247ac4444f8e81930354deaf81",
    "deepnote_app_coordinates": {
     "h": 5,
     "w": 12,
     "x": 0,
     "y": 517
    },
    "deepnote_cell_type": "markdown",
    "id": "f8dSrMzl3F8k",
    "tags": []
   },
   "source": [
    "### Task: Print the score of the student with name 'STU136'"
   ]
  },
  {
   "cell_type": "code",
   "execution_count": 12,
   "metadata": {
    "cell_id": "f037232b8d0a449c9075f07efb72b75e",
    "deepnote_app_coordinates": {
     "h": 5,
     "w": 12,
     "x": 0,
     "y": 523
    },
    "deepnote_cell_type": "code",
    "deepnote_to_be_reexecuted": false,
    "execution_millis": 258,
    "execution_start": 1668293747068,
    "id": "P1ukGGd23F8k",
    "source_hash": "93ddea9b",
    "tags": []
   },
   "outputs": [
    {
     "name": "stdout",
     "output_type": "stream",
     "text": [
      "63\n"
     ]
    }
   ],
   "source": [
    "print(d1[\"STU136\"])"
   ]
  },
  {
   "cell_type": "markdown",
   "metadata": {
    "cell_id": "2049405d2b4741d1a63a91cd352d7363",
    "deepnote_app_coordinates": {
     "h": 5,
     "w": 12,
     "x": 0,
     "y": 529
    },
    "deepnote_cell_type": "markdown",
    "id": "eSHF738x3F8k",
    "tags": []
   },
   "source": [
    "### Task: Create a dictionary `d2`, in which names as key and scores2 as values"
   ]
  },
  {
   "cell_type": "code",
   "execution_count": 13,
   "metadata": {
    "cell_id": "0a8d81652a2b4967ba9c9cf961dc8205",
    "deepnote_app_coordinates": {
     "h": 5,
     "w": 12,
     "x": 0,
     "y": 535
    },
    "deepnote_cell_type": "code",
    "deepnote_to_be_reexecuted": false,
    "execution_millis": 258,
    "execution_start": 1668293747069,
    "id": "J8w3ELTi3F8k",
    "source_hash": "509e464a",
    "tags": []
   },
   "outputs": [
    {
     "data": {
      "text/plain": [
       "{'STU100': 82,\n",
       " 'STU101': 78,\n",
       " 'STU102': 75,\n",
       " 'STU103': 78,\n",
       " 'STU104': 93,\n",
       " 'STU105': 79,\n",
       " 'STU106': 65,\n",
       " 'STU107': 69,\n",
       " 'STU108': 84,\n",
       " 'STU109': 68,\n",
       " 'STU110': 68,\n",
       " 'STU111': 67,\n",
       " 'STU112': 67,\n",
       " 'STU113': 78,\n",
       " 'STU114': 87,\n",
       " 'STU115': 98,\n",
       " 'STU116': 66,\n",
       " 'STU117': 91,\n",
       " 'STU118': 84,\n",
       " 'STU119': 70,\n",
       " 'STU120': 92,\n",
       " 'STU121': 84,\n",
       " 'STU122': 86,\n",
       " 'STU123': 100,\n",
       " 'STU124': 100,\n",
       " 'STU125': 78,\n",
       " 'STU126': 69,\n",
       " 'STU127': 96,\n",
       " 'STU128': 97,\n",
       " 'STU129': 81,\n",
       " 'STU130': 98,\n",
       " 'STU131': 62,\n",
       " 'STU132': 83,\n",
       " 'STU133': 91,\n",
       " 'STU134': 64,\n",
       " 'STU135': 60,\n",
       " 'STU136': 62,\n",
       " 'STU137': 61,\n",
       " 'STU138': 77,\n",
       " 'STU139': 77,\n",
       " 'STU140': 71,\n",
       " 'STU141': 89,\n",
       " 'STU142': 70,\n",
       " 'STU143': 71,\n",
       " 'STU144': 100,\n",
       " 'STU145': 99,\n",
       " 'STU146': 81,\n",
       " 'STU147': 86}"
      ]
     },
     "execution_count": 13,
     "metadata": {},
     "output_type": "execute_result"
    }
   ],
   "source": [
    "d2 = {x : y for x,y in zip(names, scores2)}\n",
    "d2"
   ]
  },
  {
   "cell_type": "markdown",
   "metadata": {
    "cell_id": "9c92d0ac103d483a9c41ee5600b8004d",
    "deepnote_app_coordinates": {
     "h": 5,
     "w": 12,
     "x": 0,
     "y": 541
    },
    "deepnote_cell_type": "markdown",
    "id": "blZAEhar3F8k",
    "tags": []
   },
   "source": [
    "Task: Print the names of student whose score is 88"
   ]
  },
  {
   "cell_type": "code",
   "execution_count": 24,
   "metadata": {},
   "outputs": [],
   "source": [
    "d1[\"STU115\"] = 88"
   ]
  },
  {
   "cell_type": "code",
   "execution_count": 26,
   "metadata": {
    "cell_id": "88ddabebf0994c5c93781ffe4186af89",
    "deepnote_app_coordinates": {
     "h": 5,
     "w": 12,
     "x": 0,
     "y": 547
    },
    "deepnote_cell_type": "code",
    "deepnote_to_be_reexecuted": false,
    "execution_millis": 249,
    "execution_start": 1668293747078,
    "id": "qt9uwCHZ3F8l",
    "source_hash": "af038eab",
    "tags": []
   },
   "outputs": [
    {
     "name": "stdout",
     "output_type": "stream",
     "text": [
      "STU130\n",
      "STU115\n"
     ]
    }
   ],
   "source": [
    "for x,y in d1.items():\n",
    "    if y == 88:\n",
    "        print(x)"
   ]
  },
  {
   "cell_type": "markdown",
   "metadata": {
    "cell_id": "123073fbda154d4290b73bd55909c37f",
    "deepnote_app_coordinates": {
     "h": 5,
     "w": 12,
     "x": 0,
     "y": 553
    },
    "deepnote_cell_type": "markdown",
    "id": "52Sad7r63F8l",
    "tags": []
   },
   "source": [
    "### Task: Createa a dictionary `d3`, in which names as key, and a list of scores as value. The list of scores has two elements: the first one is from scores1, and the second one is from scores2."
   ]
  },
  {
   "cell_type": "code",
   "execution_count": 30,
   "metadata": {
    "cell_id": "9477ae40e7f445e0ae032bfd907692ef",
    "deepnote_app_coordinates": {
     "h": 5,
     "w": 12,
     "x": 0,
     "y": 559
    },
    "deepnote_cell_type": "code",
    "deepnote_to_be_reexecuted": false,
    "execution_millis": 248,
    "execution_start": 1668293747080,
    "id": "B4vZArXk3F8l",
    "source_hash": "3c12957d",
    "tags": []
   },
   "outputs": [
    {
     "data": {
      "text/plain": [
       "[[60, 82],\n",
       " [92, 78],\n",
       " [85, 75],\n",
       " [84, 78],\n",
       " [73, 93],\n",
       " [92, 79],\n",
       " [77, 65],\n",
       " [66, 69],\n",
       " [93, 84],\n",
       " [93, 68],\n",
       " [65, 68],\n",
       " [100, 67],\n",
       " [66, 67],\n",
       " [80, 78],\n",
       " [90, 87],\n",
       " [88, 98],\n",
       " [64, 66],\n",
       " [70, 91],\n",
       " [74, 84],\n",
       " [84, 70],\n",
       " [61, 92],\n",
       " [64, 84],\n",
       " [61, 86],\n",
       " [71, 100],\n",
       " [67, 100],\n",
       " [69, 78],\n",
       " [78, 69],\n",
       " [60, 96],\n",
       " [70, 97],\n",
       " [69, 81],\n",
       " [77, 98],\n",
       " [62, 62],\n",
       " [77, 83],\n",
       " [93, 91],\n",
       " [77, 64],\n",
       " [70, 60],\n",
       " [63, 62],\n",
       " [81, 61],\n",
       " [62, 77],\n",
       " [97, 77],\n",
       " [71, 71],\n",
       " [94, 89],\n",
       " [89, 70],\n",
       " [87, 71],\n",
       " [92, 100],\n",
       " [91, 99],\n",
       " [76, 81],\n",
       " [85, 86]]"
      ]
     },
     "metadata": {},
     "output_type": "display_data"
    },
    {
     "data": {
      "text/plain": [
       "{'STU100': [60, 82],\n",
       " 'STU101': [92, 78],\n",
       " 'STU102': [85, 75],\n",
       " 'STU103': [84, 78],\n",
       " 'STU104': [73, 93],\n",
       " 'STU105': [92, 79],\n",
       " 'STU106': [77, 65],\n",
       " 'STU107': [66, 69],\n",
       " 'STU108': [93, 84],\n",
       " 'STU109': [93, 68],\n",
       " 'STU110': [65, 68],\n",
       " 'STU111': [100, 67],\n",
       " 'STU112': [66, 67],\n",
       " 'STU113': [80, 78],\n",
       " 'STU114': [90, 87],\n",
       " 'STU115': [88, 98],\n",
       " 'STU116': [64, 66],\n",
       " 'STU117': [70, 91],\n",
       " 'STU118': [74, 84],\n",
       " 'STU119': [84, 70],\n",
       " 'STU120': [61, 92],\n",
       " 'STU121': [64, 84],\n",
       " 'STU122': [61, 86],\n",
       " 'STU123': [71, 100],\n",
       " 'STU124': [67, 100],\n",
       " 'STU125': [69, 78],\n",
       " 'STU126': [78, 69],\n",
       " 'STU127': [60, 96],\n",
       " 'STU128': [70, 97],\n",
       " 'STU129': [69, 81],\n",
       " 'STU130': [77, 98],\n",
       " 'STU131': [62, 62],\n",
       " 'STU132': [77, 83],\n",
       " 'STU133': [93, 91],\n",
       " 'STU134': [77, 64],\n",
       " 'STU135': [70, 60],\n",
       " 'STU136': [63, 62],\n",
       " 'STU137': [81, 61],\n",
       " 'STU138': [62, 77],\n",
       " 'STU139': [97, 77],\n",
       " 'STU140': [71, 71],\n",
       " 'STU141': [94, 89],\n",
       " 'STU142': [89, 70],\n",
       " 'STU143': [87, 71],\n",
       " 'STU144': [92, 100],\n",
       " 'STU145': [91, 99],\n",
       " 'STU146': [76, 81],\n",
       " 'STU147': [85, 86]}"
      ]
     },
     "metadata": {},
     "output_type": "display_data"
    }
   ],
   "source": [
    "lista = [[x,y] for x,y in zip(scores1, scores2)]\n",
    "\n",
    "display(lista)\n",
    "\n",
    "d3 = {x : y for x,y in zip(names, lista)}\n",
    "display(d3)"
   ]
  },
  {
   "cell_type": "markdown",
   "metadata": {
    "id": "GPFk5DVV6s4F"
   },
   "source": [
    "### Task: Find the cluster of students whose scores are all at least 90."
   ]
  },
  {
   "cell_type": "code",
   "execution_count": 31,
   "metadata": {
    "id": "zLnWmgHP530-"
   },
   "outputs": [
    {
     "name": "stdout",
     "output_type": "stream",
     "text": [
      "STU133\n",
      "STU144\n",
      "STU145\n"
     ]
    }
   ],
   "source": [
    "\n",
    "for x,y in d3.items():\n",
    "    if y[0] >= 90 and y[1] >= 90:\n",
    "        "
   ]
  },
  {
   "cell_type": "code",
   "execution_count": null,
   "metadata": {},
   "outputs": [],
   "source": []
  }
 ],
 "metadata": {
  "colab": {
   "provenance": [],
   "toc_visible": true
  },
  "deepnote": {},
  "deepnote_app_layout": "article",
  "deepnote_execution_queue": [],
  "deepnote_notebook_id": "0309c2b816a34a00bd52f3f4ec174672",
  "deepnote_persisted_session": {
   "createdAt": "2022-11-12T23:15:56.938Z"
  },
  "gpuClass": "standard",
  "kernelspec": {
   "display_name": "Python 3 (ipykernel)",
   "language": "python",
   "name": "python3"
  },
  "language_info": {
   "codemirror_mode": {
    "name": "ipython",
    "version": 3
   },
   "file_extension": ".py",
   "mimetype": "text/x-python",
   "name": "python",
   "nbconvert_exporter": "python",
   "pygments_lexer": "ipython3",
   "version": "3.11.5"
  }
 },
 "nbformat": 4,
 "nbformat_minor": 1
}
