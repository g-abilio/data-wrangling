{
 "cells": [
  {
   "cell_type": "markdown",
   "metadata": {
    "cell_id": "8a2a2db403ec4b9d855e0c94b18c81c6",
    "deepnote_app_coordinates": {
     "h": 5,
     "w": 12,
     "x": 0,
     "y": 1
    },
    "deepnote_cell_type": "markdown",
    "id": "vhIfpKue3F8M",
    "tags": []
   },
   "source": [
    "# Lab Set"
   ]
  },
  {
   "cell_type": "markdown",
   "metadata": {
    "cell_id": "86ee79beadcc42428c1eb925513b6899",
    "deepnote_app_coordinates": {
     "h": 5,
     "w": 12,
     "x": 0,
     "y": 7
    },
    "deepnote_cell_type": "markdown",
    "id": "0o65JD603F8P",
    "tags": []
   },
   "source": [
    "## Data We Want to Organize\n",
    "You are given a dataset as below represented as a list. You should organize them in the required data structure in following tasks."
   ]
  },
  {
   "cell_type": "code",
   "execution_count": 2,
   "metadata": {
    "id": "s6RViAPl4cOS"
   },
   "outputs": [],
   "source": [
    "SIZE = 48"
   ]
  },
  {
   "cell_type": "code",
   "execution_count": 3,
   "metadata": {
    "cell_id": "1f194b2d55b24733b200a9b8fd669a3c",
    "deepnote_app_coordinates": {
     "h": 5,
     "w": 12,
     "x": 0,
     "y": 13
    },
    "deepnote_cell_type": "code",
    "deepnote_to_be_reexecuted": false,
    "execution_millis": 276518,
    "execution_start": 1668293746532,
    "id": "cp3LCCZM3F8P",
    "source_hash": "d1526c0",
    "tags": []
   },
   "outputs": [
    {
     "data": {
      "text/plain": [
       "['STU100',\n",
       " 'STU101',\n",
       " 'STU102',\n",
       " 'STU103',\n",
       " 'STU104',\n",
       " 'STU105',\n",
       " 'STU106',\n",
       " 'STU107',\n",
       " 'STU108',\n",
       " 'STU109',\n",
       " 'STU110',\n",
       " 'STU111',\n",
       " 'STU112',\n",
       " 'STU113',\n",
       " 'STU114',\n",
       " 'STU115',\n",
       " 'STU116',\n",
       " 'STU117',\n",
       " 'STU118',\n",
       " 'STU119',\n",
       " 'STU120',\n",
       " 'STU121',\n",
       " 'STU122',\n",
       " 'STU123',\n",
       " 'STU124',\n",
       " 'STU125',\n",
       " 'STU126',\n",
       " 'STU127',\n",
       " 'STU128',\n",
       " 'STU129',\n",
       " 'STU130',\n",
       " 'STU131',\n",
       " 'STU132',\n",
       " 'STU133',\n",
       " 'STU134',\n",
       " 'STU135',\n",
       " 'STU136',\n",
       " 'STU137',\n",
       " 'STU138',\n",
       " 'STU139',\n",
       " 'STU140',\n",
       " 'STU141',\n",
       " 'STU142',\n",
       " 'STU143',\n",
       " 'STU144',\n",
       " 'STU145',\n",
       " 'STU146',\n",
       " 'STU147']"
      ]
     },
     "execution_count": 3,
     "metadata": {},
     "output_type": "execute_result"
    }
   ],
   "source": [
    "names = ['STU' + str(i) for i in range(100,100+SIZE)]\n",
    "names"
   ]
  },
  {
   "cell_type": "code",
   "execution_count": 4,
   "metadata": {
    "cell_id": "786ae477329b4e8cbb0b02c18cbc5107",
    "deepnote_app_coordinates": {
     "h": 5,
     "w": 12,
     "x": 0,
     "y": 19
    },
    "deepnote_cell_type": "code",
    "deepnote_to_be_reexecuted": false,
    "execution_millis": 580,
    "execution_start": 1668293746579,
    "id": "N4paz_Pz3F8R",
    "source_hash": "3478a76d",
    "tags": []
   },
   "outputs": [
    {
     "data": {
      "text/plain": [
       "[79,\n",
       " 86,\n",
       " 76,\n",
       " 77,\n",
       " 70,\n",
       " 63,\n",
       " 79,\n",
       " 85,\n",
       " 89,\n",
       " 83,\n",
       " 80,\n",
       " 94,\n",
       " 83,\n",
       " 70,\n",
       " 71,\n",
       " 94,\n",
       " 65,\n",
       " 87,\n",
       " 69,\n",
       " 70,\n",
       " 90,\n",
       " 84,\n",
       " 95,\n",
       " 93,\n",
       " 89,\n",
       " 80,\n",
       " 91,\n",
       " 67,\n",
       " 74,\n",
       " 77,\n",
       " 88,\n",
       " 76,\n",
       " 67,\n",
       " 66,\n",
       " 69,\n",
       " 96,\n",
       " 88,\n",
       " 95,\n",
       " 81,\n",
       " 97,\n",
       " 98,\n",
       " 85,\n",
       " 81,\n",
       " 61,\n",
       " 61,\n",
       " 93,\n",
       " 73,\n",
       " 71]"
      ]
     },
     "execution_count": 4,
     "metadata": {},
     "output_type": "execute_result"
    }
   ],
   "source": [
    "import random\n",
    "\n",
    "scores1 = [random.randint(60, 100) for i in range(SIZE) ]\n",
    "scores1"
   ]
  },
  {
   "cell_type": "code",
   "execution_count": 5,
   "metadata": {
    "id": "hse6wgqx3eBK"
   },
   "outputs": [
    {
     "data": {
      "text/plain": [
       "[67,\n",
       " 96,\n",
       " 93,\n",
       " 63,\n",
       " 64,\n",
       " 67,\n",
       " 78,\n",
       " 68,\n",
       " 88,\n",
       " 77,\n",
       " 63,\n",
       " 96,\n",
       " 88,\n",
       " 69,\n",
       " 83,\n",
       " 98,\n",
       " 78,\n",
       " 78,\n",
       " 82,\n",
       " 78,\n",
       " 87,\n",
       " 83,\n",
       " 65,\n",
       " 98,\n",
       " 100,\n",
       " 90,\n",
       " 90,\n",
       " 66,\n",
       " 99,\n",
       " 89,\n",
       " 95,\n",
       " 90,\n",
       " 88,\n",
       " 86,\n",
       " 91,\n",
       " 86,\n",
       " 92,\n",
       " 81,\n",
       " 72,\n",
       " 77,\n",
       " 71,\n",
       " 69,\n",
       " 90,\n",
       " 76,\n",
       " 60,\n",
       " 81,\n",
       " 100,\n",
       " 88]"
      ]
     },
     "execution_count": 5,
     "metadata": {},
     "output_type": "execute_result"
    }
   ],
   "source": [
    "scores2 = [random.randint(60, 100) for i in range(SIZE) ]\n",
    "scores2"
   ]
  },
  {
   "cell_type": "markdown",
   "metadata": {
    "cell_id": "c52a968d246842c4b7dbd21c45e377e9",
    "deepnote_app_coordinates": {
     "h": 5,
     "w": 12,
     "x": 0,
     "y": 451
    },
    "deepnote_cell_type": "markdown",
    "id": "lGwPkoDX3F8j",
    "tags": []
   },
   "source": [
    "## Set"
   ]
  },
  {
   "cell_type": "markdown",
   "metadata": {
    "cell_id": "f9ac4b9df3ed48b7bb6edb332de13e85",
    "deepnote_app_coordinates": {
     "h": 5,
     "w": 12,
     "x": 0,
     "y": 457
    },
    "deepnote_cell_type": "markdown",
    "id": "dCUZspUq3F8j",
    "tags": []
   },
   "source": [
    "Task: We have `scores1` and `scores2`. Convert them to `set1` and `set2`"
   ]
  },
  {
   "cell_type": "code",
   "execution_count": 6,
   "metadata": {
    "cell_id": "45cf3822635247ebb61c938c0f7fabd1",
    "deepnote_app_coordinates": {
     "h": 5,
     "w": 12,
     "x": 0,
     "y": 463
    },
    "deepnote_cell_type": "code",
    "deepnote_to_be_reexecuted": false,
    "execution_millis": 320,
    "execution_start": 1668293746987,
    "id": "DJehh63j3F8j",
    "source_hash": "ff4ad7bc",
    "tags": []
   },
   "outputs": [],
   "source": [
    "set1 = set(scores1)"
   ]
  },
  {
   "cell_type": "code",
   "execution_count": 7,
   "metadata": {
    "cell_id": "4b837e74a17b453f916a037c889d36ee",
    "deepnote_app_coordinates": {
     "h": 5,
     "w": 12,
     "x": 0,
     "y": 469
    },
    "deepnote_cell_type": "code",
    "deepnote_to_be_reexecuted": false,
    "execution_millis": 319,
    "execution_start": 1668293746988,
    "id": "M0xe3mz-3F8j",
    "source_hash": "8b63762a",
    "tags": []
   },
   "outputs": [],
   "source": [
    "set2 = set(scores2)"
   ]
  },
  {
   "cell_type": "code",
   "execution_count": 9,
   "metadata": {},
   "outputs": [
    {
     "data": {
      "text/plain": [
       "{61,\n",
       " 63,\n",
       " 65,\n",
       " 66,\n",
       " 67,\n",
       " 69,\n",
       " 70,\n",
       " 71,\n",
       " 73,\n",
       " 74,\n",
       " 76,\n",
       " 77,\n",
       " 79,\n",
       " 80,\n",
       " 81,\n",
       " 83,\n",
       " 84,\n",
       " 85,\n",
       " 86,\n",
       " 87,\n",
       " 88,\n",
       " 89,\n",
       " 90,\n",
       " 91,\n",
       " 93,\n",
       " 94,\n",
       " 95,\n",
       " 96,\n",
       " 97,\n",
       " 98}"
      ]
     },
     "metadata": {},
     "output_type": "display_data"
    }
   ],
   "source": [
    "display(set1)"
   ]
  },
  {
   "cell_type": "code",
   "execution_count": 10,
   "metadata": {
    "scrolled": true
   },
   "outputs": [
    {
     "data": {
      "text/plain": [
       "{60,\n",
       " 63,\n",
       " 64,\n",
       " 65,\n",
       " 66,\n",
       " 67,\n",
       " 68,\n",
       " 69,\n",
       " 71,\n",
       " 72,\n",
       " 76,\n",
       " 77,\n",
       " 78,\n",
       " 81,\n",
       " 82,\n",
       " 83,\n",
       " 86,\n",
       " 87,\n",
       " 88,\n",
       " 89,\n",
       " 90,\n",
       " 91,\n",
       " 92,\n",
       " 93,\n",
       " 95,\n",
       " 96,\n",
       " 98,\n",
       " 99,\n",
       " 100}"
      ]
     },
     "metadata": {},
     "output_type": "display_data"
    }
   ],
   "source": [
    "display(set2)"
   ]
  },
  {
   "cell_type": "markdown",
   "metadata": {
    "cell_id": "07a306ffe7a646cc85581a2c47d87172",
    "deepnote_app_coordinates": {
     "h": 5,
     "w": 12,
     "x": 0,
     "y": 475
    },
    "deepnote_cell_type": "markdown",
    "id": "uXHr-OPv3F8j",
    "tags": []
   },
   "source": [
    "Task: Print the unique score in scores1 and unique score in scores2"
   ]
  },
  {
   "cell_type": "code",
   "execution_count": 17,
   "metadata": {
    "cell_id": "1dd8e2b69a8d414f9e03ea9aeb5022ba",
    "deepnote_app_coordinates": {
     "h": 5,
     "w": 12,
     "x": 0,
     "y": 481
    },
    "deepnote_cell_type": "code",
    "deepnote_to_be_reexecuted": false,
    "execution_millis": 3,
    "execution_start": 1668293746990,
    "id": "U3qU7LV83F8j",
    "source_hash": "68deac06",
    "tags": []
   },
   "outputs": [
    {
     "name": "stdout",
     "output_type": "stream",
     "text": [
      "61 63 65 66 67 69 70 71 73 74 76 77 79 80 81 83 84 85 86 87 88 89 90 91 93 94 95 96 97 98 "
     ]
    }
   ],
   "source": [
    "for x in set1:\n",
    "    print(x, end = \" \")"
   ]
  },
  {
   "cell_type": "code",
   "execution_count": 18,
   "metadata": {},
   "outputs": [
    {
     "name": "stdout",
     "output_type": "stream",
     "text": [
      "60 63 64 65 66 67 68 69 71 72 76 77 78 81 82 83 86 87 88 89 90 91 92 93 95 96 98 99 100 "
     ]
    }
   ],
   "source": [
    "for x in set2:\n",
    "    print(x, end = \" \")"
   ]
  },
  {
   "cell_type": "markdown",
   "metadata": {
    "cell_id": "b1bb186cd2964f2396f8cf9ef386942c",
    "deepnote_app_coordinates": {
     "h": 5,
     "w": 12,
     "x": 0,
     "y": 487
    },
    "deepnote_cell_type": "markdown",
    "id": "R1ZxQmV03F8j",
    "tags": []
   },
   "source": [
    "Task: Print the union of `set1` and `set2`"
   ]
  },
  {
   "cell_type": "code",
   "execution_count": 24,
   "metadata": {
    "cell_id": "9adfadf3b751401183ee14c1b407bba8",
    "deepnote_app_coordinates": {
     "h": 5,
     "w": 12,
     "x": 0,
     "y": 493
    },
    "deepnote_cell_type": "code",
    "deepnote_to_be_reexecuted": false,
    "execution_millis": 286,
    "execution_start": 1668293747039,
    "id": "cprvwnyB3F8k",
    "source_hash": "1c0a131e",
    "tags": []
   },
   "outputs": [
    {
     "data": {
      "text/plain": [
       "{60,\n",
       " 61,\n",
       " 63,\n",
       " 64,\n",
       " 65,\n",
       " 66,\n",
       " 67,\n",
       " 68,\n",
       " 69,\n",
       " 70,\n",
       " 71,\n",
       " 72,\n",
       " 73,\n",
       " 74,\n",
       " 76,\n",
       " 77,\n",
       " 78,\n",
       " 79,\n",
       " 80,\n",
       " 81,\n",
       " 82,\n",
       " 83,\n",
       " 84,\n",
       " 85,\n",
       " 86,\n",
       " 87,\n",
       " 88,\n",
       " 89,\n",
       " 90,\n",
       " 91,\n",
       " 92,\n",
       " 93,\n",
       " 94,\n",
       " 95,\n",
       " 96,\n",
       " 97,\n",
       " 98,\n",
       " 99,\n",
       " 100}"
      ]
     },
     "execution_count": 24,
     "metadata": {},
     "output_type": "execute_result"
    }
   ],
   "source": [
    "set1 | set2"
   ]
  },
  {
   "cell_type": "markdown",
   "metadata": {
    "id": "YNC3vLLA3zfE"
   },
   "source": [
    "Task: Print the intersection of `set1` and `set2`"
   ]
  },
  {
   "cell_type": "code",
   "execution_count": 27,
   "metadata": {
    "id": "p8NPGTfe39Yq"
   },
   "outputs": [
    {
     "data": {
      "text/plain": [
       "{63,\n",
       " 65,\n",
       " 66,\n",
       " 67,\n",
       " 69,\n",
       " 71,\n",
       " 76,\n",
       " 77,\n",
       " 81,\n",
       " 83,\n",
       " 86,\n",
       " 87,\n",
       " 88,\n",
       " 89,\n",
       " 90,\n",
       " 91,\n",
       " 93,\n",
       " 95,\n",
       " 96,\n",
       " 98}"
      ]
     },
     "execution_count": 27,
     "metadata": {},
     "output_type": "execute_result"
    }
   ],
   "source": [
    "set1 & set2"
   ]
  },
  {
   "cell_type": "markdown",
   "metadata": {
    "id": "nmiwV5dI30BK"
   },
   "source": [
    "Task: Print the difference of `set1` and `set2`"
   ]
  },
  {
   "cell_type": "code",
   "execution_count": 28,
   "metadata": {
    "id": "wk9k2RCv3-fh"
   },
   "outputs": [
    {
     "data": {
      "text/plain": [
       "{61, 70, 73, 74, 79, 80, 84, 85, 94, 97}"
      ]
     },
     "execution_count": 28,
     "metadata": {},
     "output_type": "execute_result"
    }
   ],
   "source": [
    "set1 - set2"
   ]
  },
  {
   "cell_type": "code",
   "execution_count": null,
   "metadata": {},
   "outputs": [],
   "source": []
  }
 ],
 "metadata": {
  "colab": {
   "provenance": []
  },
  "deepnote": {},
  "deepnote_app_layout": "article",
  "deepnote_execution_queue": [],
  "deepnote_notebook_id": "0309c2b816a34a00bd52f3f4ec174672",
  "deepnote_persisted_session": {
   "createdAt": "2022-11-12T23:15:56.938Z"
  },
  "gpuClass": "standard",
  "kernelspec": {
   "display_name": "Python 3 (ipykernel)",
   "language": "python",
   "name": "python3"
  },
  "language_info": {
   "codemirror_mode": {
    "name": "ipython",
    "version": 3
   },
   "file_extension": ".py",
   "mimetype": "text/x-python",
   "name": "python",
   "nbconvert_exporter": "python",
   "pygments_lexer": "ipython3",
   "version": "3.11.5"
  }
 },
 "nbformat": 4,
 "nbformat_minor": 1
}
