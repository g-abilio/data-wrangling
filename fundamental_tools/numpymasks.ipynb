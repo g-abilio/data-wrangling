{
 "cells": [
  {
   "cell_type": "code",
   "execution_count": 1,
   "id": "f8cc5268",
   "metadata": {},
   "outputs": [],
   "source": [
    "import numpy as np"
   ]
  },
  {
   "cell_type": "code",
   "execution_count": 10,
   "id": "8bf3bcb8",
   "metadata": {
    "scrolled": true
   },
   "outputs": [
    {
     "data": {
      "text/plain": [
       "array([ 9, 65, 33, 79, 75, 77, 71, 63,  7, 68])"
      ]
     },
     "execution_count": 10,
     "metadata": {},
     "output_type": "execute_result"
    }
   ],
   "source": [
    "ar = np.random.randint(0, 100, (10))\n",
    "ar"
   ]
  },
  {
   "cell_type": "code",
   "execution_count": 3,
   "id": "cb62616e",
   "metadata": {},
   "outputs": [
    {
     "data": {
      "text/plain": [
       "array([ True, False,  True,  True, False,  True, False, False,  True,\n",
       "       False])"
      ]
     },
     "execution_count": 3,
     "metadata": {},
     "output_type": "execute_result"
    }
   ],
   "source": [
    "odd_mask = ar % 2 == 1\n",
    "odd_mask"
   ]
  },
  {
   "cell_type": "code",
   "execution_count": 4,
   "id": "3171e605",
   "metadata": {},
   "outputs": [
    {
     "data": {
      "text/plain": [
       "array([59, 79, 83,  1, 77])"
      ]
     },
     "execution_count": 4,
     "metadata": {},
     "output_type": "execute_result"
    }
   ],
   "source": [
    "ar[odd_mask]"
   ]
  },
  {
   "cell_type": "code",
   "execution_count": 5,
   "id": "910ffb39",
   "metadata": {},
   "outputs": [
    {
     "data": {
      "text/plain": [
       "array([59, 79, 83,  1, 77])"
      ]
     },
     "execution_count": 5,
     "metadata": {},
     "output_type": "execute_result"
    }
   ],
   "source": [
    "ar[ar % 2 == 1]"
   ]
  },
  {
   "cell_type": "code",
   "execution_count": 6,
   "id": "53f401da",
   "metadata": {},
   "outputs": [
    {
     "data": {
      "text/plain": [
       "array([88, 88, 60, 18, 82])"
      ]
     },
     "execution_count": 6,
     "metadata": {},
     "output_type": "execute_result"
    }
   ],
   "source": [
    "ar[ar % 2 == 0]"
   ]
  },
  {
   "cell_type": "code",
   "execution_count": 11,
   "id": "15c95498",
   "metadata": {},
   "outputs": [],
   "source": [
    "ar1 = np.random.randint(0, 100, (4,4))\n",
    "ar2 = np.random.randint(0, 100, (4,4))"
   ]
  },
  {
   "cell_type": "code",
   "execution_count": 12,
   "id": "ea10f541",
   "metadata": {},
   "outputs": [
    {
     "data": {
      "text/plain": [
       "(array([[69, 97, 62, 81],\n",
       "        [26, 16, 13, 34],\n",
       "        [48, 81, 84, 73],\n",
       "        [22, 89, 28, 91]]),\n",
       " array([[95, 15, 22, 42],\n",
       "        [23, 30, 66, 86],\n",
       "        [ 8, 76, 86, 35],\n",
       "        [24, 63, 32, 31]]))"
      ]
     },
     "execution_count": 12,
     "metadata": {},
     "output_type": "execute_result"
    }
   ],
   "source": [
    "ar1, ar2"
   ]
  },
  {
   "cell_type": "code",
   "execution_count": 13,
   "id": "88713f9b",
   "metadata": {},
   "outputs": [
    {
     "data": {
      "text/plain": [
       "array([69, 16, 13, 34, 84, 22, 28])"
      ]
     },
     "execution_count": 13,
     "metadata": {},
     "output_type": "execute_result"
    }
   ],
   "source": [
    "ar1[ar1 < ar2]"
   ]
  },
  {
   "cell_type": "code",
   "execution_count": 14,
   "id": "07dbd9df",
   "metadata": {},
   "outputs": [
    {
     "data": {
      "text/plain": [
       "array([95, 30, 66, 86, 86, 24, 32])"
      ]
     },
     "execution_count": 14,
     "metadata": {},
     "output_type": "execute_result"
    }
   ],
   "source": [
    "ar2[ar1 < ar2]"
   ]
  },
  {
   "cell_type": "code",
   "execution_count": 15,
   "id": "3d942295",
   "metadata": {},
   "outputs": [
    {
     "data": {
      "text/plain": [
       "array([69, 97, 81, 34, 81, 84, 73, 89, 91])"
      ]
     },
     "execution_count": 15,
     "metadata": {},
     "output_type": "execute_result"
    }
   ],
   "source": [
    "ar1[ar1 + ar2 > 100]"
   ]
  },
  {
   "cell_type": "code",
   "execution_count": 16,
   "id": "3594b831",
   "metadata": {},
   "outputs": [
    {
     "data": {
      "text/plain": [
       "array([[164, 112,  84, 123],\n",
       "       [ 49,  46,  79, 120],\n",
       "       [ 56, 157, 170, 108],\n",
       "       [ 46, 152,  60, 122]])"
      ]
     },
     "execution_count": 16,
     "metadata": {},
     "output_type": "execute_result"
    }
   ],
   "source": [
    "ar1 + ar2"
   ]
  },
  {
   "cell_type": "code",
   "execution_count": 17,
   "id": "b7a9ebd8",
   "metadata": {},
   "outputs": [
    {
     "data": {
      "text/plain": [
       "array([95, 15, 42, 86, 76, 86, 35, 63, 31])"
      ]
     },
     "execution_count": 17,
     "metadata": {},
     "output_type": "execute_result"
    }
   ],
   "source": [
    "ar2[ar1 + ar2 > 100]"
   ]
  }
 ],
 "metadata": {
  "kernelspec": {
   "display_name": "Python 3 (ipykernel)",
   "language": "python",
   "name": "python3"
  },
  "language_info": {
   "codemirror_mode": {
    "name": "ipython",
    "version": 3
   },
   "file_extension": ".py",
   "mimetype": "text/x-python",
   "name": "python",
   "nbconvert_exporter": "python",
   "pygments_lexer": "ipython3",
   "version": "3.11.5"
  }
 },
 "nbformat": 4,
 "nbformat_minor": 5
}
