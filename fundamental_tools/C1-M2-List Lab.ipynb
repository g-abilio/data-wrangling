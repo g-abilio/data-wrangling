{
 "cells": [
  {
   "cell_type": "markdown",
   "metadata": {
    "cell_id": "8a2a2db403ec4b9d855e0c94b18c81c6",
    "deepnote_app_coordinates": {
     "h": 5,
     "w": 12,
     "x": 0,
     "y": 1
    },
    "deepnote_cell_type": "markdown",
    "id": "JCZR-YdIyVty",
    "tags": []
   },
   "source": [
    "# Lab-List"
   ]
  },
  {
   "cell_type": "markdown",
   "metadata": {
    "cell_id": "86ee79beadcc42428c1eb925513b6899",
    "deepnote_app_coordinates": {
     "h": 5,
     "w": 12,
     "x": 0,
     "y": 7
    },
    "deepnote_cell_type": "markdown",
    "id": "AiW2esedyVtz",
    "tags": []
   },
   "source": [
    "## Data We Want to Organize\n",
    "You are given a dataset as below represented as a list. You should organize them in the required data structure in following tasks."
   ]
  },
  {
   "cell_type": "code",
   "execution_count": 1,
   "metadata": {
    "id": "imUa4OKxyrgX"
   },
   "outputs": [],
   "source": [
    "SIZE = 48"
   ]
  },
  {
   "cell_type": "code",
   "execution_count": 2,
   "metadata": {
    "cell_id": "1f194b2d55b24733b200a9b8fd669a3c",
    "deepnote_app_coordinates": {
     "h": 5,
     "w": 12,
     "x": 0,
     "y": 13
    },
    "deepnote_cell_type": "code",
    "deepnote_to_be_reexecuted": false,
    "execution_millis": 276518,
    "execution_start": 1668293746532,
    "id": "xnKS-yqLyVtz",
    "source_hash": "d1526c0",
    "tags": []
   },
   "outputs": [
    {
     "data": {
      "text/plain": [
       "['STU100',\n",
       " 'STU101',\n",
       " 'STU102',\n",
       " 'STU103',\n",
       " 'STU104',\n",
       " 'STU105',\n",
       " 'STU106',\n",
       " 'STU107',\n",
       " 'STU108',\n",
       " 'STU109',\n",
       " 'STU110',\n",
       " 'STU111',\n",
       " 'STU112',\n",
       " 'STU113',\n",
       " 'STU114',\n",
       " 'STU115',\n",
       " 'STU116',\n",
       " 'STU117',\n",
       " 'STU118',\n",
       " 'STU119',\n",
       " 'STU120',\n",
       " 'STU121',\n",
       " 'STU122',\n",
       " 'STU123',\n",
       " 'STU124',\n",
       " 'STU125',\n",
       " 'STU126',\n",
       " 'STU127',\n",
       " 'STU128',\n",
       " 'STU129',\n",
       " 'STU130',\n",
       " 'STU131',\n",
       " 'STU132',\n",
       " 'STU133',\n",
       " 'STU134',\n",
       " 'STU135',\n",
       " 'STU136',\n",
       " 'STU137',\n",
       " 'STU138',\n",
       " 'STU139',\n",
       " 'STU140',\n",
       " 'STU141',\n",
       " 'STU142',\n",
       " 'STU143',\n",
       " 'STU144',\n",
       " 'STU145',\n",
       " 'STU146',\n",
       " 'STU147']"
      ]
     },
     "execution_count": 2,
     "metadata": {},
     "output_type": "execute_result"
    }
   ],
   "source": [
    "names = ['STU' + str(i) for i in range(100,100+SIZE)]\n",
    "names"
   ]
  },
  {
   "cell_type": "code",
   "execution_count": 18,
   "metadata": {
    "cell_id": "786ae477329b4e8cbb0b02c18cbc5107",
    "deepnote_app_coordinates": {
     "h": 5,
     "w": 12,
     "x": 0,
     "y": 19
    },
    "deepnote_cell_type": "code",
    "deepnote_to_be_reexecuted": false,
    "execution_millis": 580,
    "execution_start": 1668293746579,
    "id": "aHXK7l7DyVt0",
    "source_hash": "3478a76d",
    "tags": []
   },
   "outputs": [
    {
     "data": {
      "text/plain": [
       "[72,\n",
       " 97,\n",
       " 89,\n",
       " 65,\n",
       " 77,\n",
       " 92,\n",
       " 71,\n",
       " 72,\n",
       " 83,\n",
       " 90,\n",
       " 100,\n",
       " 90,\n",
       " 98,\n",
       " 96,\n",
       " 97,\n",
       " 90,\n",
       " 66,\n",
       " 70,\n",
       " 68,\n",
       " 89,\n",
       " 66,\n",
       " 95,\n",
       " 67,\n",
       " 98,\n",
       " 81,\n",
       " 81,\n",
       " 84,\n",
       " 74,\n",
       " 98,\n",
       " 65,\n",
       " 69,\n",
       " 81,\n",
       " 91,\n",
       " 100,\n",
       " 91,\n",
       " 67,\n",
       " 80,\n",
       " 65,\n",
       " 97,\n",
       " 95,\n",
       " 89,\n",
       " 99,\n",
       " 74,\n",
       " 88,\n",
       " 68,\n",
       " 96,\n",
       " 75,\n",
       " 95]"
      ]
     },
     "execution_count": 18,
     "metadata": {},
     "output_type": "execute_result"
    }
   ],
   "source": [
    "import random\n",
    "\n",
    "scores1 = [ random.randint(60, 100) for i in range(SIZE)]\n",
    "scores1"
   ]
  },
  {
   "cell_type": "markdown",
   "metadata": {
    "cell_id": "a9e53779797b4237b76c5d2e9a737aaf",
    "deepnote_app_coordinates": {
     "h": 5,
     "w": 12,
     "x": 0,
     "y": 25
    },
    "deepnote_cell_type": "markdown",
    "id": "FeoRCIapyVt0",
    "tags": []
   },
   "source": [
    "## List\n"
   ]
  },
  {
   "cell_type": "markdown",
   "metadata": {
    "cell_id": "4a73a754655440f99f30dc404eb95cb0",
    "deepnote_app_coordinates": {
     "h": 5,
     "w": 12,
     "x": 0,
     "y": 31
    },
    "deepnote_cell_type": "markdown",
    "id": "UxPy2ygRyVt0",
    "tags": []
   },
   "source": [
    "Task: Create a grade book `gradebook` as a list, in which each element is a list and the first item is the name (from the `names` data), and second item is the score (from the `scores1` data)."
   ]
  },
  {
   "cell_type": "code",
   "execution_count": 31,
   "metadata": {
    "cell_id": "b873d76ad49a4d5781ab032af8b55e2b",
    "deepnote_app_coordinates": {
     "h": 5,
     "w": 12,
     "x": 0,
     "y": 37
    },
    "deepnote_cell_type": "code",
    "deepnote_to_be_reexecuted": false,
    "execution_millis": 20,
    "execution_start": 1668293746580,
    "id": "jVv6y_LzyVt1",
    "source_hash": "8812a278",
    "tags": []
   },
   "outputs": [
    {
     "data": {
      "text/plain": [
       "[['STU100', 72],\n",
       " ['STU101', 97],\n",
       " ['STU102', 89],\n",
       " ['STU103', 65],\n",
       " ['STU104', 77],\n",
       " ['STU105', 92],\n",
       " ['STU106', 71],\n",
       " ['STU107', 72],\n",
       " ['STU108', 83],\n",
       " ['STU109', 90],\n",
       " ['STU110', 100],\n",
       " ['STU111', 90],\n",
       " ['STU112', 98],\n",
       " ['STU113', 96],\n",
       " ['STU114', 97],\n",
       " ['STU115', 90],\n",
       " ['STU116', 66],\n",
       " ['STU117', 70],\n",
       " ['STU118', 68],\n",
       " ['STU119', 89],\n",
       " ['STU120', 66],\n",
       " ['STU121', 95],\n",
       " ['STU122', 67],\n",
       " ['STU123', 98],\n",
       " ['STU124', 81],\n",
       " ['STU125', 81],\n",
       " ['STU126', 84],\n",
       " ['STU127', 74],\n",
       " ['STU128', 98],\n",
       " ['STU129', 65],\n",
       " ['STU130', 69],\n",
       " ['STU131', 81],\n",
       " ['STU132', 91],\n",
       " ['STU133', 100],\n",
       " ['STU134', 91],\n",
       " ['STU135', 67],\n",
       " ['STU136', 80],\n",
       " ['STU137', 65],\n",
       " ['STU138', 97],\n",
       " ['STU139', 95],\n",
       " ['STU140', 89],\n",
       " ['STU141', 99],\n",
       " ['STU142', 74],\n",
       " ['STU143', 88],\n",
       " ['STU144', 68],\n",
       " ['STU145', 96],\n",
       " ['STU146', 75],\n",
       " ['STU147', 95]]"
      ]
     },
     "execution_count": 31,
     "metadata": {},
     "output_type": "execute_result"
    }
   ],
   "source": [
    "gradebook = [[x,y] for x,y in zip(names, scores1)]\n",
    "\n",
    "gradebook"
   ]
  },
  {
   "cell_type": "markdown",
   "metadata": {
    "cell_id": "08332d722c4e42a3bb416a6ad9b8ad1c",
    "deepnote_app_coordinates": {
     "h": 5,
     "w": 12,
     "x": 0,
     "y": 43
    },
    "deepnote_cell_type": "markdown",
    "id": "0Qu5ZN2nyVt1",
    "tags": []
   },
   "source": [
    "Task: Create a subset of the `gradebook` as `gb1`, which contains first 25 elements of the `gradebook`"
   ]
  },
  {
   "cell_type": "code",
   "execution_count": 11,
   "metadata": {
    "cell_id": "2553d9d494f945fd90607bc7d08c4e34",
    "deepnote_app_coordinates": {
     "h": 5,
     "w": 12,
     "x": 0,
     "y": 49
    },
    "deepnote_cell_type": "code",
    "deepnote_to_be_reexecuted": false,
    "execution_millis": 562,
    "execution_start": 1668293746600,
    "id": "QDoKAGYvyVt1",
    "source_hash": "e20899d7",
    "tags": []
   },
   "outputs": [
    {
     "data": {
      "text/plain": [
       "[['STU100', 92],\n",
       " ['STU101', 96],\n",
       " ['STU102', 97],\n",
       " ['STU103', 70],\n",
       " ['STU104', 82],\n",
       " ['STU105', 87],\n",
       " ['STU106', 89],\n",
       " ['STU107', 100],\n",
       " ['STU108', 92],\n",
       " ['STU109', 98],\n",
       " ['STU110', 94],\n",
       " ['STU111', 73],\n",
       " ['STU112', 87],\n",
       " ['STU113', 62],\n",
       " ['STU114', 87],\n",
       " ['STU115', 75],\n",
       " ['STU116', 71],\n",
       " ['STU117', 60],\n",
       " ['STU118', 96],\n",
       " ['STU119', 90],\n",
       " ['STU120', 85],\n",
       " ['STU121', 91],\n",
       " ['STU122', 62],\n",
       " ['STU123', 61],\n",
       " ['STU124', 89]]"
      ]
     },
     "metadata": {},
     "output_type": "display_data"
    }
   ],
   "source": [
    "gb1 = gradebook[:25]\n",
    "\n",
    "display(gb1)"
   ]
  },
  {
   "cell_type": "markdown",
   "metadata": {
    "cell_id": "0cfaf89c22d646da98b10f2211c85a8c",
    "deepnote_app_coordinates": {
     "h": 5,
     "w": 12,
     "x": 0,
     "y": 55
    },
    "deepnote_cell_type": "markdown",
    "id": "MSZ948xPyVt1",
    "tags": []
   },
   "source": [
    "Task: Create a subset of the `gradebook` as `gb2`, in which student name always ends with an even number"
   ]
  },
  {
   "cell_type": "code",
   "execution_count": 33,
   "metadata": {
    "cell_id": "592e49bc6d314951b261759dc7a92949",
    "deepnote_app_coordinates": {
     "h": 5,
     "w": 12,
     "x": 0,
     "y": 61
    },
    "deepnote_cell_type": "code",
    "deepnote_to_be_reexecuted": false,
    "execution_millis": 561,
    "execution_start": 1668293746601,
    "id": "LW2XeL2DyVt1",
    "source_hash": "21bfb041",
    "tags": []
   },
   "outputs": [
    {
     "data": {
      "text/plain": [
       "[['STU100', 72],\n",
       " ['STU105', 92],\n",
       " ['STU107', 72],\n",
       " ['STU109', 90],\n",
       " ['STU110', 100],\n",
       " ['STU111', 90],\n",
       " ['STU112', 98],\n",
       " ['STU113', 96],\n",
       " ['STU115', 90],\n",
       " ['STU116', 66],\n",
       " ['STU117', 70],\n",
       " ['STU118', 68],\n",
       " ['STU120', 66],\n",
       " ['STU123', 98],\n",
       " ['STU126', 84],\n",
       " ['STU127', 74],\n",
       " ['STU128', 98],\n",
       " ['STU133', 100],\n",
       " ['STU136', 80],\n",
       " ['STU142', 74],\n",
       " ['STU143', 88],\n",
       " ['STU144', 68],\n",
       " ['STU145', 96]]"
      ]
     },
     "execution_count": 33,
     "metadata": {},
     "output_type": "execute_result"
    }
   ],
   "source": [
    "gb2 = [[x,y] for x,y in zip(names, scores1) if y % 2 == 0]\n",
    "        \n",
    "gb2"
   ]
  },
  {
   "cell_type": "markdown",
   "metadata": {
    "cell_id": "71b0b2d1903f4f31b01504bd8c8edd23",
    "deepnote_app_coordinates": {
     "h": 5,
     "w": 12,
     "x": 0,
     "y": 67
    },
    "deepnote_cell_type": "markdown",
    "id": "dCSIn9myyVt1",
    "tags": []
   },
   "source": [
    "Task: Create a subset of the `gradebook` as `gb3`, in which student score always above 80"
   ]
  },
  {
   "cell_type": "code",
   "execution_count": 34,
   "metadata": {
    "cell_id": "fb18cabab0b148bc986c5a986e228fce",
    "deepnote_app_coordinates": {
     "h": 5,
     "w": 12,
     "x": 0,
     "y": 73
    },
    "deepnote_cell_type": "code",
    "deepnote_to_be_reexecuted": false,
    "execution_millis": 561,
    "execution_start": 1668293746602,
    "id": "M5gq0YDdyVt1",
    "source_hash": "75dc9a58",
    "tags": []
   },
   "outputs": [
    {
     "data": {
      "text/plain": [
       "[['STU101', 97],\n",
       " ['STU102', 89],\n",
       " ['STU105', 92],\n",
       " ['STU108', 83],\n",
       " ['STU109', 90],\n",
       " ['STU110', 100],\n",
       " ['STU111', 90],\n",
       " ['STU112', 98],\n",
       " ['STU113', 96],\n",
       " ['STU114', 97],\n",
       " ['STU115', 90],\n",
       " ['STU119', 89],\n",
       " ['STU121', 95],\n",
       " ['STU123', 98],\n",
       " ['STU124', 81],\n",
       " ['STU125', 81],\n",
       " ['STU126', 84],\n",
       " ['STU128', 98],\n",
       " ['STU131', 81],\n",
       " ['STU132', 91],\n",
       " ['STU133', 100],\n",
       " ['STU134', 91],\n",
       " ['STU136', 80],\n",
       " ['STU138', 97],\n",
       " ['STU139', 95],\n",
       " ['STU140', 89],\n",
       " ['STU141', 99],\n",
       " ['STU143', 88],\n",
       " ['STU145', 96],\n",
       " ['STU147', 95]]"
      ]
     },
     "execution_count": 34,
     "metadata": {},
     "output_type": "execute_result"
    }
   ],
   "source": [
    "gb3 = [[x,y] for x,y in zip(names, scores1) if y >= 80]\n",
    "\n",
    "gb3"
   ]
  },
  {
   "cell_type": "markdown",
   "metadata": {
    "id": "ZSAvgyz7zwYe"
   },
   "source": [
    "Task: Create a subset of the `gradebook` as `gb4`, in which student scores are below the average score"
   ]
  },
  {
   "cell_type": "code",
   "execution_count": 37,
   "metadata": {
    "id": "ohPwjmvPzuhu"
   },
   "outputs": [
    {
     "data": {
      "text/plain": [
       "[['STU100', 72],\n",
       " ['STU103', 65],\n",
       " ['STU104', 77],\n",
       " ['STU106', 71],\n",
       " ['STU107', 72],\n",
       " ['STU108', 83],\n",
       " ['STU116', 66],\n",
       " ['STU117', 70],\n",
       " ['STU118', 68],\n",
       " ['STU120', 66],\n",
       " ['STU122', 67],\n",
       " ['STU124', 81],\n",
       " ['STU125', 81],\n",
       " ['STU127', 74],\n",
       " ['STU129', 65],\n",
       " ['STU130', 69],\n",
       " ['STU131', 81],\n",
       " ['STU135', 67],\n",
       " ['STU136', 80],\n",
       " ['STU137', 65],\n",
       " ['STU142', 74],\n",
       " ['STU144', 68],\n",
       " ['STU146', 75]]"
      ]
     },
     "execution_count": 37,
     "metadata": {},
     "output_type": "execute_result"
    }
   ],
   "source": [
    "average_value = 0\n",
    "\n",
    "for i in range(SIZE):\n",
    "    average_value += gradebook[i][1] / SIZE\n",
    "    \n",
    "gb4 = [[x,y] for x,y in zip(names, scores1) if y < average_value]\n",
    "\n",
    "gb4"
   ]
  },
  {
   "cell_type": "markdown",
   "metadata": {
    "cell_id": "76aa5362844c496bbea2b8bfdc0e08fb",
    "deepnote_app_coordinates": {
     "h": 5,
     "w": 12,
     "x": 0,
     "y": 79
    },
    "deepnote_cell_type": "markdown",
    "id": "omNbuMKDyVt1",
    "tags": []
   },
   "source": [
    "Task: Update the `gradebook` so the scores are converted to letter grade: >=90 is A, >=80 is B, etc."
   ]
  },
  {
   "cell_type": "code",
   "execution_count": 40,
   "metadata": {
    "cell_id": "90006f5726414cbd8367c36a7f8a168d",
    "deepnote_app_coordinates": {
     "h": 5,
     "w": 12,
     "x": 0,
     "y": 85
    },
    "deepnote_cell_type": "code",
    "deepnote_to_be_reexecuted": false,
    "execution_millis": 520,
    "execution_start": 1668293746643,
    "id": "wQPipM1jyVt1",
    "source_hash": "354fcbfb",
    "tags": []
   },
   "outputs": [
    {
     "ename": "SyntaxError",
     "evalue": "invalid syntax (2352699917.py, line 5)",
     "output_type": "error",
     "traceback": [
      "\u001b[0;36m  Cell \u001b[0;32mIn[40], line 5\u001b[0;36m\u001b[0m\n\u001b[0;31m    x = 'A'\u001b[0m\n\u001b[0m    ^\u001b[0m\n\u001b[0;31mSyntaxError\u001b[0m\u001b[0;31m:\u001b[0m invalid syntax\n"
     ]
    }
   ],
   "source": [
    "gradebook\n",
    "\n",
    "gradebook = [[x] for x in names]\n",
    "\n",
    "for x in range(SIZE):\n",
    "    if scores1[x] >= 90:\n",
    "        gradebook[x].append('A')\n",
    "    elif scores1[x] >= 80:\n",
    "        gradebook[x].append('B')\n",
    "    elif scores1[x] >= 70:\n",
    "        gradebook[x].append('C')\n",
    "    elif scores1[x] >= 60:\n",
    "        gradebook[x].append('D')\n",
    "    elif scores1[x] >= 50:\n",
    "        gradebook[x].append('F')\n",
    "        \n",
    "display(gradebook)"
   ]
  },
  {
   "cell_type": "code",
   "execution_count": null,
   "metadata": {},
   "outputs": [],
   "source": []
  },
  {
   "cell_type": "code",
   "execution_count": null,
   "metadata": {},
   "outputs": [],
   "source": []
  }
 ],
 "metadata": {
  "colab": {
   "provenance": []
  },
  "deepnote": {},
  "deepnote_app_layout": "article",
  "deepnote_execution_queue": [],
  "deepnote_notebook_id": "0309c2b816a34a00bd52f3f4ec174672",
  "deepnote_persisted_session": {
   "createdAt": "2022-11-12T23:15:56.938Z"
  },
  "gpuClass": "standard",
  "kernelspec": {
   "display_name": "Python 3 (ipykernel)",
   "language": "python",
   "name": "python3"
  },
  "language_info": {
   "codemirror_mode": {
    "name": "ipython",
    "version": 3
   },
   "file_extension": ".py",
   "mimetype": "text/x-python",
   "name": "python",
   "nbconvert_exporter": "python",
   "pygments_lexer": "ipython3",
   "version": "3.11.5"
  }
 },
 "nbformat": 4,
 "nbformat_minor": 1
}
