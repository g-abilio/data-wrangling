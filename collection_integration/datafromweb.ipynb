{
 "cells": [
  {
   "cell_type": "markdown",
   "id": "ce626228",
   "metadata": {},
   "source": [
    "# Collect Data from Web"
   ]
  },
  {
   "cell_type": "markdown",
   "id": "9d2d053b",
   "metadata": {},
   "source": [
    "### Using Wiki"
   ]
  },
  {
   "cell_type": "code",
   "execution_count": 2,
   "id": "db677413",
   "metadata": {},
   "outputs": [],
   "source": [
    "import pandas as pd"
   ]
  },
  {
   "cell_type": "code",
   "execution_count": 3,
   "id": "8d40843b",
   "metadata": {},
   "outputs": [],
   "source": [
    "table = pd.read_html(\"https://en.wikipedia.org/wiki/List_of_countries_by_GDP_(nominal)#Table\")"
   ]
  },
  {
   "cell_type": "code",
   "execution_count": 4,
   "id": "b10eb82c",
   "metadata": {},
   "outputs": [
    {
     "data": {
      "text/plain": [
       "list"
      ]
     },
     "execution_count": 4,
     "metadata": {},
     "output_type": "execute_result"
    }
   ],
   "source": [
    "type(table)"
   ]
  },
  {
   "cell_type": "code",
   "execution_count": 7,
   "id": "fdd783de",
   "metadata": {},
   "outputs": [
    {
     "name": "stdout",
     "output_type": "stream",
     "text": [
      "<class 'pandas.core.frame.DataFrame'>\n",
      "<class 'pandas.core.frame.DataFrame'>\n",
      "<class 'pandas.core.frame.DataFrame'>\n",
      "<class 'pandas.core.frame.DataFrame'>\n",
      "<class 'pandas.core.frame.DataFrame'>\n",
      "<class 'pandas.core.frame.DataFrame'>\n",
      "<class 'pandas.core.frame.DataFrame'>\n"
     ]
    }
   ],
   "source": [
    "for i in table:\n",
    "    print(type(i))"
   ]
  },
  {
   "cell_type": "code",
   "execution_count": 8,
   "id": "1a5463f2",
   "metadata": {},
   "outputs": [
    {
     "name": "stdout",
     "output_type": "stream",
     "text": [
      "Index([0], dtype='int64')\n",
      "Index([0, 1, 2], dtype='int64')\n",
      "MultiIndex([( 'Country/Territory', 'Country/Territory'),\n",
      "            (         'UN region',         'UN region'),\n",
      "            (        'IMF[1][13]',          'Forecast'),\n",
      "            (        'IMF[1][13]',              'Year'),\n",
      "            (    'World Bank[14]',          'Estimate'),\n",
      "            (    'World Bank[14]',              'Year'),\n",
      "            ('United Nations[15]',          'Estimate'),\n",
      "            ('United Nations[15]',              'Year')],\n",
      "           )\n",
      "Index(['.mw-parser-output .navbar{display:inline;font-size:88%;font-weight:normal}.mw-parser-output .navbar-collapse{float:left;text-align:left}.mw-parser-output .navbar-boxtext{word-spacing:0}.mw-parser-output .navbar ul{display:inline-block;white-space:nowrap;line-height:inherit}.mw-parser-output .navbar-brackets::before{margin-right:-0.125em;content:\"[ \"}.mw-parser-output .navbar-brackets::after{margin-left:-0.125em;content:\" ]\"}.mw-parser-output .navbar li{word-spacing:-0.125em}.mw-parser-output .navbar a>span,.mw-parser-output .navbar a>abbr{text-decoration:inherit}.mw-parser-output .navbar-mini abbr{font-variant:small-caps;border-bottom:none;text-decoration:none;cursor:inherit}.mw-parser-output .navbar-ct-full{font-size:114%;margin:0 7em}.mw-parser-output .navbar-ct-mini{font-size:114%;margin:0 4em}vteLists of countries by financial rankings', '.mw-parser-output .navbar{display:inline;font-size:88%;font-weight:normal}.mw-parser-output .navbar-collapse{float:left;text-align:left}.mw-parser-output .navbar-boxtext{word-spacing:0}.mw-parser-output .navbar ul{display:inline-block;white-space:nowrap;line-height:inherit}.mw-parser-output .navbar-brackets::before{margin-right:-0.125em;content:\"[ \"}.mw-parser-output .navbar-brackets::after{margin-left:-0.125em;content:\" ]\"}.mw-parser-output .navbar li{word-spacing:-0.125em}.mw-parser-output .navbar a>span,.mw-parser-output .navbar a>abbr{text-decoration:inherit}.mw-parser-output .navbar-mini abbr{font-variant:small-caps;border-bottom:none;text-decoration:none;cursor:inherit}.mw-parser-output .navbar-ct-full{font-size:114%;margin:0 7em}.mw-parser-output .navbar-ct-mini{font-size:114%;margin:0 4em}vteLists of countries by financial rankings.1'], dtype='object')\n",
      "Index(['vteLists of countries by GDP rankings', 'vteLists of countries by GDP rankings.1'], dtype='object')\n",
      "Index(['vteEconomic classification of countries', 'vteEconomic classification of countries.1'], dtype='object')\n",
      "Index([0, 1], dtype='int64')\n"
     ]
    }
   ],
   "source": [
    "for i in table:\n",
    "    print(i.columns)"
   ]
  },
  {
   "cell_type": "code",
   "execution_count": 9,
   "id": "374876c2",
   "metadata": {},
   "outputs": [
    {
     "name": "stdout",
     "output_type": "stream",
     "text": [
      "[['Largest economies in the world by GDP (nominal) in 2023 according to International Monetary Fund estimates[n 1][1]']]\n",
      "[['.mw-parser-output .legend{page-break-inside:avoid;break-inside:avoid-column}.mw-parser-output .legend-color{display:inline-block;min-width:1.25em;height:1.25em;line-height:1.25;margin:1px 0;text-align:center;border:1px solid black;background-color:transparent;color:black}.mw-parser-output .legend-text{} > $20 trillion $10–20 trillion $5–10 trillion $1–5 trillion'\n",
      "  '$750 billion – $1 trillion $500–750 billion $250–500 billion $100–250 billion'\n",
      "  '$50–100 billion $25–50 billion $5–25 billion < $5 billion']]\n",
      "[['World' '—' '104476432' ... '2022' '96698005' '2021']\n",
      " ['United States' 'Americas' '26949643' ... '2022' '23315081' '2021']\n",
      " ['China' 'Asia' '17700899' ... '[n 3]2022' '17734131' '[n 1]2021']\n",
      " ...\n",
      " ['Nauru' 'Oceania' '150' ... '2022' '155' '2021']\n",
      " ['Montserrat' 'Americas' '—' ... '—' '72' '2021']\n",
      " ['Tuvalu' 'Oceania' '63' ... '2022' '60' '2021']]\n",
      "[['Trade'\n",
      "  'Account balance % of GDP Exports by product merchandise net per capita service exports Imports Trade-to-GDP ratio Tariff rate Leading trade partners']\n",
      " ['Investment' 'FDI received past FDI abroad GFI']\n",
      " ['Funds'\n",
      "  'Forex reserves Forex reserves (ex. gold) Gold reserves Sovereign wealth funds Pension funds Creditor nations Debtor nations']\n",
      " ['Budget and debt'\n",
      "  'Government budget PPP % of GDP per capita Credit rating External debt Public debt future Household debt Corporate debt']\n",
      " ['Income and taxes'\n",
      "  'Tax rates Inheritance tax Tax revenue Wage average median minimum']\n",
      " ['Bank rates'\n",
      "  'Central bank interest rate Commercial bank prime lending rate']\n",
      " ['Currency' 'Exchange rates to US$ Inflation rate']\n",
      " ['Other'\n",
      "  'Financial Development Index Average annual labor hours Corporate governance Development aid Ease of doing business Gross national savings Employment/Unemployment Financial assets Labour productivity Wealth']\n",
      " ['Lists of countries by GDP rankings List of international rankings Lists by country'\n",
      "  'Lists of countries by GDP rankings List of international rankings Lists by country']]\n",
      "[['Nominal' 'Per capita Past and projected per capita Sector composition']\n",
      " ['Purchasing power parity (PPP)'\n",
      "  'Per capita Past per capita Past and projected per capita Private consumption per capita Per person employed Ten largest historically']\n",
      " ['Growth rate'\n",
      "  'African countries Asian states European Union member states European countries Latin American and Caribbean countries Oceanian countries Per capita 1980–2010 growth Industrial growth']\n",
      " ['Gross national income (GNI)' 'PPP per capita Nominal per capita']\n",
      " ['Countries by region'\n",
      "  'Africa PPP nominal Commonwealth of Nations PPP nominal Latin America & Caribbean PPP nominal North America PPP nominal nominal per capita South America PPP Arab League nominal and per capita PPP and per capita ASEAN subdivision Asia Asia & Pacific PPP Former Soviet Republics Europe PPP PPP per capita nominal nominal per capita Oceania PPP PPP per capita nominal nominal per capita']\n",
      " ['Subnational divisions'\n",
      "  'Albania Argentina Australia Austria Baltic States Belarus Belgium Brazil Bulgaria Canada Chile per capita China per capita Colombia Croatia Czech Republic Finland France nominal nominal per capita Germany nominal nominal per capita Greece Hungary India PPP per capita Indonesia per capita Cities Italy nominal per capita Japan per capita Kenya Malaysia Mexico per capita Mongolia Netherlands Nigeria Nepal Norway Pakistan Peru Philippines Poland Portugal Romania Russia per capita Serbia Slovakia South Africa per capita South Korea Spain Sweden Switzerland Ukraine United Kingdom nominal nominal per capita United States nominal per capita Taiwan Tanzania Thailand Turkey Vietnam OECD *Top country subdivisions by GDP']\n",
      " ['Lists of countries by financial rankings List of international rankings Lists by country'\n",
      "  'Lists of countries by financial rankings List of international rankings Lists by country']]\n",
      "[['Developed country Developing country Least developed countries World Bank high-income economy Newly industrialized country Heavily indebted poor countries'\n",
      "  'Developed country Developing country Least developed countries World Bank high-income economy Newly industrialized country Heavily indebted poor countries']\n",
      " ['Three-World Model' 'First World Second World Third World Fourth World']\n",
      " ['Gross domestic product (GDP)'\n",
      "  'Nominal By country past and projected per capita per capita Purchasing power parity (PPP) By country future estimates per capita per capita per person employed']\n",
      " ['Nominal' 'By country past and projected per capita per capita']\n",
      " ['Purchasing power parity (PPP)'\n",
      "  'By country future estimates per capita per capita per person employed']\n",
      " ['Gross national income (GNI)'\n",
      "  '(Nominal, Atlas method) per capita (PPP) per capita']\n",
      " ['Wages'\n",
      "  'Average wage Europe Employee compensation (per hour) List of countries by median wage Minimum wages Canada Europe United States']\n",
      " ['Wealth' 'Wealth per adult Europe Financial assets per capita']\n",
      " ['Other national accounts'\n",
      "  'Gross National Happiness Net material product Research and development spending Stock market capitalization Patents, trademarks, and industrial design filing activity']\n",
      " ['Human development'\n",
      "  'Human Development Index by country inequality-adjusted planetary pressures–adjusted HDI Human Poverty Index Percentage living in poverty Human Capital Index Household income Social Progress Index']\n",
      " ['Digital divide'\n",
      "  'ICT Development Index Number of broadband Internet subscriptions Number of Internet users Smartphone penetration']\n",
      " ['Net international investment position (NIIP)'\n",
      "  'Per capita (creditors) Per capita (debtors)']\n",
      " ['Economics portal\\xa0• World portal'\n",
      "  'Economics portal\\xa0• World portal']]\n",
      "[['Nominal' 'By country past and projected per capita per capita']\n",
      " ['Purchasing power parity (PPP)'\n",
      "  'By country future estimates per capita per capita per person employed']]\n"
     ]
    }
   ],
   "source": [
    "for i in table:\n",
    "    print(i.values)"
   ]
  },
  {
   "cell_type": "code",
   "execution_count": 10,
   "id": "75ddee6a",
   "metadata": {},
   "outputs": [
    {
     "data": {
      "text/html": [
       "<div>\n",
       "<style scoped>\n",
       "    .dataframe tbody tr th:only-of-type {\n",
       "        vertical-align: middle;\n",
       "    }\n",
       "\n",
       "    .dataframe tbody tr th {\n",
       "        vertical-align: top;\n",
       "    }\n",
       "\n",
       "    .dataframe thead tr th {\n",
       "        text-align: left;\n",
       "    }\n",
       "</style>\n",
       "<table border=\"1\" class=\"dataframe\">\n",
       "  <thead>\n",
       "    <tr>\n",
       "      <th></th>\n",
       "      <th>Country/Territory</th>\n",
       "      <th>UN region</th>\n",
       "      <th colspan=\"2\" halign=\"left\">IMF[1][13]</th>\n",
       "      <th colspan=\"2\" halign=\"left\">World Bank[14]</th>\n",
       "      <th colspan=\"2\" halign=\"left\">United Nations[15]</th>\n",
       "    </tr>\n",
       "    <tr>\n",
       "      <th></th>\n",
       "      <th>Country/Territory</th>\n",
       "      <th>UN region</th>\n",
       "      <th>Forecast</th>\n",
       "      <th>Year</th>\n",
       "      <th>Estimate</th>\n",
       "      <th>Year</th>\n",
       "      <th>Estimate</th>\n",
       "      <th>Year</th>\n",
       "    </tr>\n",
       "  </thead>\n",
       "  <tbody>\n",
       "    <tr>\n",
       "      <th>0</th>\n",
       "      <td>World</td>\n",
       "      <td>—</td>\n",
       "      <td>104476432</td>\n",
       "      <td>2023</td>\n",
       "      <td>100562011</td>\n",
       "      <td>2022</td>\n",
       "      <td>96698005</td>\n",
       "      <td>2021</td>\n",
       "    </tr>\n",
       "    <tr>\n",
       "      <th>1</th>\n",
       "      <td>United States</td>\n",
       "      <td>Americas</td>\n",
       "      <td>26949643</td>\n",
       "      <td>2023</td>\n",
       "      <td>25462700</td>\n",
       "      <td>2022</td>\n",
       "      <td>23315081</td>\n",
       "      <td>2021</td>\n",
       "    </tr>\n",
       "    <tr>\n",
       "      <th>2</th>\n",
       "      <td>China</td>\n",
       "      <td>Asia</td>\n",
       "      <td>17700899</td>\n",
       "      <td>[n 1]2023</td>\n",
       "      <td>17963171</td>\n",
       "      <td>[n 3]2022</td>\n",
       "      <td>17734131</td>\n",
       "      <td>[n 1]2021</td>\n",
       "    </tr>\n",
       "    <tr>\n",
       "      <th>3</th>\n",
       "      <td>Germany</td>\n",
       "      <td>Europe</td>\n",
       "      <td>4429838</td>\n",
       "      <td>2023</td>\n",
       "      <td>4072192</td>\n",
       "      <td>2022</td>\n",
       "      <td>4259935</td>\n",
       "      <td>2021</td>\n",
       "    </tr>\n",
       "    <tr>\n",
       "      <th>4</th>\n",
       "      <td>Japan</td>\n",
       "      <td>Asia</td>\n",
       "      <td>4230862</td>\n",
       "      <td>2023</td>\n",
       "      <td>4231141</td>\n",
       "      <td>2022</td>\n",
       "      <td>4940878</td>\n",
       "      <td>2021</td>\n",
       "    </tr>\n",
       "    <tr>\n",
       "      <th>...</th>\n",
       "      <td>...</td>\n",
       "      <td>...</td>\n",
       "      <td>...</td>\n",
       "      <td>...</td>\n",
       "      <td>...</td>\n",
       "      <td>...</td>\n",
       "      <td>...</td>\n",
       "      <td>...</td>\n",
       "    </tr>\n",
       "    <tr>\n",
       "      <th>209</th>\n",
       "      <td>Palau</td>\n",
       "      <td>Oceania</td>\n",
       "      <td>267</td>\n",
       "      <td>2023</td>\n",
       "      <td>—</td>\n",
       "      <td>—</td>\n",
       "      <td>218</td>\n",
       "      <td>2021</td>\n",
       "    </tr>\n",
       "    <tr>\n",
       "      <th>210</th>\n",
       "      <td>Kiribati</td>\n",
       "      <td>Oceania</td>\n",
       "      <td>246</td>\n",
       "      <td>2023</td>\n",
       "      <td>223</td>\n",
       "      <td>2022</td>\n",
       "      <td>227</td>\n",
       "      <td>2021</td>\n",
       "    </tr>\n",
       "    <tr>\n",
       "      <th>211</th>\n",
       "      <td>Nauru</td>\n",
       "      <td>Oceania</td>\n",
       "      <td>150</td>\n",
       "      <td>2023</td>\n",
       "      <td>151</td>\n",
       "      <td>2022</td>\n",
       "      <td>155</td>\n",
       "      <td>2021</td>\n",
       "    </tr>\n",
       "    <tr>\n",
       "      <th>212</th>\n",
       "      <td>Montserrat</td>\n",
       "      <td>Americas</td>\n",
       "      <td>—</td>\n",
       "      <td>—</td>\n",
       "      <td>—</td>\n",
       "      <td>—</td>\n",
       "      <td>72</td>\n",
       "      <td>2021</td>\n",
       "    </tr>\n",
       "    <tr>\n",
       "      <th>213</th>\n",
       "      <td>Tuvalu</td>\n",
       "      <td>Oceania</td>\n",
       "      <td>63</td>\n",
       "      <td>2023</td>\n",
       "      <td>60</td>\n",
       "      <td>2022</td>\n",
       "      <td>60</td>\n",
       "      <td>2021</td>\n",
       "    </tr>\n",
       "  </tbody>\n",
       "</table>\n",
       "<p>214 rows × 8 columns</p>\n",
       "</div>"
      ],
      "text/plain": [
       "    Country/Territory UN region IMF[1][13]            World Bank[14]  \\\n",
       "    Country/Territory UN region   Forecast       Year       Estimate   \n",
       "0               World         —  104476432       2023      100562011   \n",
       "1       United States  Americas   26949643       2023       25462700   \n",
       "2               China      Asia   17700899  [n 1]2023       17963171   \n",
       "3             Germany    Europe    4429838       2023        4072192   \n",
       "4               Japan      Asia    4230862       2023        4231141   \n",
       "..                ...       ...        ...        ...            ...   \n",
       "209             Palau   Oceania        267       2023              —   \n",
       "210          Kiribati   Oceania        246       2023            223   \n",
       "211             Nauru   Oceania        150       2023            151   \n",
       "212        Montserrat  Americas          —          —              —   \n",
       "213            Tuvalu   Oceania         63       2023             60   \n",
       "\n",
       "               United Nations[15]             \n",
       "          Year           Estimate       Year  \n",
       "0         2022           96698005       2021  \n",
       "1         2022           23315081       2021  \n",
       "2    [n 3]2022           17734131  [n 1]2021  \n",
       "3         2022            4259935       2021  \n",
       "4         2022            4940878       2021  \n",
       "..         ...                ...        ...  \n",
       "209          —                218       2021  \n",
       "210       2022                227       2021  \n",
       "211       2022                155       2021  \n",
       "212          —                 72       2021  \n",
       "213       2022                 60       2021  \n",
       "\n",
       "[214 rows x 8 columns]"
      ]
     },
     "execution_count": 10,
     "metadata": {},
     "output_type": "execute_result"
    }
   ],
   "source": [
    "df = table[2]\n",
    "df"
   ]
  },
  {
   "cell_type": "code",
   "execution_count": 12,
   "id": "ed4e5c7c",
   "metadata": {},
   "outputs": [
    {
     "name": "stdout",
     "output_type": "stream",
     "text": [
      "<class 'pandas.core.frame.DataFrame'>\n",
      "RangeIndex: 214 entries, 0 to 213\n",
      "Data columns (total 8 columns):\n",
      " #   Column                                  Non-Null Count  Dtype \n",
      "---  ------                                  --------------  ----- \n",
      " 0   (Country/Territory, Country/Territory)  214 non-null    object\n",
      " 1   (UN region, UN region)                  214 non-null    object\n",
      " 2   (IMF[1][13], Forecast)                  214 non-null    object\n",
      " 3   (IMF[1][13], Year)                      214 non-null    object\n",
      " 4   (World Bank[14], Estimate)              214 non-null    object\n",
      " 5   (World Bank[14], Year)                  214 non-null    object\n",
      " 6   (United Nations[15], Estimate)          214 non-null    object\n",
      " 7   (United Nations[15], Year)              214 non-null    object\n",
      "dtypes: object(8)\n",
      "memory usage: 13.5+ KB\n"
     ]
    }
   ],
   "source": [
    "df.info()"
   ]
  },
  {
   "cell_type": "markdown",
   "id": "bb7d682f",
   "metadata": {},
   "source": [
    "### Web Scraping"
   ]
  },
  {
   "cell_type": "code",
   "execution_count": 6,
   "id": "0f96fb2b",
   "metadata": {},
   "outputs": [],
   "source": [
    "import requests"
   ]
  },
  {
   "cell_type": "code",
   "execution_count": 7,
   "id": "28941e5a",
   "metadata": {},
   "outputs": [
    {
     "data": {
      "text/plain": [
       "<Response [200]>"
      ]
     },
     "execution_count": 7,
     "metadata": {},
     "output_type": "execute_result"
    }
   ],
   "source": [
    "page = requests.get(\"https://dataquestio.github.io/web-scraping-pages/simple.html\")\n",
    "page"
   ]
  },
  {
   "cell_type": "code",
   "execution_count": 8,
   "id": "7d213dc9",
   "metadata": {},
   "outputs": [
    {
     "data": {
      "text/plain": [
       "200"
      ]
     },
     "execution_count": 8,
     "metadata": {},
     "output_type": "execute_result"
    }
   ],
   "source": [
    "page.status_code"
   ]
  },
  {
   "cell_type": "code",
   "execution_count": 10,
   "id": "478a0b74",
   "metadata": {},
   "outputs": [
    {
     "data": {
      "text/plain": [
       "b'<!DOCTYPE html>\\n<html>\\n    <head>\\n        <title>A simple example page</title>\\n    </head>\\n    <body>\\n        <p>Here is some simple content for this page.</p>\\n    </body>\\n</html>'"
      ]
     },
     "execution_count": 10,
     "metadata": {},
     "output_type": "execute_result"
    }
   ],
   "source": [
    "page.content"
   ]
  },
  {
   "cell_type": "code",
   "execution_count": 11,
   "id": "16f72b7e",
   "metadata": {},
   "outputs": [],
   "source": [
    "from bs4 import BeautifulSoup\n",
    "soup = BeautifulSoup(page.content, \"html.parser\")"
   ]
  },
  {
   "cell_type": "code",
   "execution_count": 24,
   "id": "767f6394",
   "metadata": {},
   "outputs": [
    {
     "name": "stdout",
     "output_type": "stream",
     "text": [
      "<!DOCTYPE html>\n",
      "<html>\n",
      " <head>\n",
      "  <title>\n",
      "   A simple example page\n",
      "  </title>\n",
      " </head>\n",
      " <body>\n",
      "  <p>\n",
      "   Here is some simple content for this page.\n",
      "  </p>\n",
      " </body>\n",
      "</html>\n",
      "\n"
     ]
    }
   ],
   "source": [
    "soup.prettify()"
   ]
  },
  {
   "cell_type": "code",
   "execution_count": 17,
   "id": "1030d1c1",
   "metadata": {},
   "outputs": [
    {
     "data": {
      "text/plain": [
       "[<title>A simple example page</title>]"
      ]
     },
     "execution_count": 17,
     "metadata": {},
     "output_type": "execute_result"
    }
   ],
   "source": [
    "soup.find_all(\"title\")"
   ]
  },
  {
   "cell_type": "code",
   "execution_count": 18,
   "id": "64e86714",
   "metadata": {
    "scrolled": true
   },
   "outputs": [
    {
     "name": "stdout",
     "output_type": "stream",
     "text": [
      "A simple example page\n"
     ]
    }
   ],
   "source": [
    "for i in soup.find_all(\"title\"):\n",
    "    print(i.get_text())"
   ]
  },
  {
   "cell_type": "code",
   "execution_count": 19,
   "id": "61f6c1dd",
   "metadata": {},
   "outputs": [
    {
     "data": {
      "text/plain": [
       "[<p>Here is some simple content for this page.</p>]"
      ]
     },
     "execution_count": 19,
     "metadata": {},
     "output_type": "execute_result"
    }
   ],
   "source": [
    "soup.find_all(\"p\")"
   ]
  },
  {
   "cell_type": "code",
   "execution_count": 20,
   "id": "5ca13147",
   "metadata": {},
   "outputs": [
    {
     "data": {
      "text/plain": [
       "<p>Here is some simple content for this page.</p>"
      ]
     },
     "execution_count": 20,
     "metadata": {},
     "output_type": "execute_result"
    }
   ],
   "source": [
    "soup.find(\"p\")"
   ]
  },
  {
   "cell_type": "code",
   "execution_count": 21,
   "id": "bb624a17",
   "metadata": {},
   "outputs": [
    {
     "name": "stdout",
     "output_type": "stream",
     "text": [
      "Here is some simple content for this page.\n"
     ]
    }
   ],
   "source": [
    "for i in soup.find_all(\"p\"):\n",
    "    print(i.get_text())"
   ]
  },
  {
   "cell_type": "code",
   "execution_count": 22,
   "id": "3ee3775e",
   "metadata": {},
   "outputs": [
    {
     "data": {
      "text/plain": [
       "'Here is some simple content for this page.'"
      ]
     },
     "execution_count": 22,
     "metadata": {},
     "output_type": "execute_result"
    }
   ],
   "source": [
    "(soup.find(\"p\")).get_text()"
   ]
  },
  {
   "cell_type": "code",
   "execution_count": 23,
   "id": "d574ed95",
   "metadata": {
    "scrolled": true
   },
   "outputs": [
    {
     "data": {
      "text/plain": [
       "<Response [200]>"
      ]
     },
     "execution_count": 23,
     "metadata": {},
     "output_type": "execute_result"
    }
   ],
   "source": [
    "page = requests.get(\"https://dataquestio.github.io/web-scraping-pages/ids_and_classes.html\")\n",
    "page"
   ]
  },
  {
   "cell_type": "code",
   "execution_count": 24,
   "id": "d8a96a11",
   "metadata": {},
   "outputs": [
    {
     "data": {
      "text/plain": [
       "b'<html>\\n    <head>\\n        <title>A simple example page</title>\\n    </head>\\n    <body>\\n        <div>\\n            <p class=\"inner-text first-item\" id=\"first\">\\n                First paragraph.\\n            </p>\\n            <p class=\"inner-text\">\\n                Second paragraph.\\n            </p>\\n        </div>\\n        <p class=\"outer-text first-item\" id=\"second\">\\n            <b>\\n                First outer paragraph.\\n            </b>\\n        </p>\\n        <p class=\"outer-text\">\\n            <b>\\n                Second outer paragraph.\\n            </b>\\n        </p>\\n    </body>\\n</html>'"
      ]
     },
     "execution_count": 24,
     "metadata": {},
     "output_type": "execute_result"
    }
   ],
   "source": [
    "page.content"
   ]
  },
  {
   "cell_type": "code",
   "execution_count": 25,
   "id": "3285d5ce",
   "metadata": {},
   "outputs": [
    {
     "name": "stdout",
     "output_type": "stream",
     "text": [
      "<html>\n",
      " <head>\n",
      "  <title>\n",
      "   A simple example page\n",
      "  </title>\n",
      " </head>\n",
      " <body>\n",
      "  <div>\n",
      "   <p class=\"inner-text first-item\" id=\"first\">\n",
      "    First paragraph.\n",
      "   </p>\n",
      "   <p class=\"inner-text\">\n",
      "    Second paragraph.\n",
      "   </p>\n",
      "  </div>\n",
      "  <p class=\"outer-text first-item\" id=\"second\">\n",
      "   <b>\n",
      "    First outer paragraph.\n",
      "   </b>\n",
      "  </p>\n",
      "  <p class=\"outer-text\">\n",
      "   <b>\n",
      "    Second outer paragraph.\n",
      "   </b>\n",
      "  </p>\n",
      " </body>\n",
      "</html>\n",
      "\n"
     ]
    }
   ],
   "source": [
    "soup1 = BeautifulSoup(page.content, \"html.parser\")\n",
    "print(soup1.prettify())"
   ]
  },
  {
   "cell_type": "code",
   "execution_count": 26,
   "id": "0dd8b1fe",
   "metadata": {},
   "outputs": [
    {
     "data": {
      "text/plain": [
       "[<p class=\"outer-text first-item\" id=\"second\">\n",
       " <b>\n",
       "                 First outer paragraph.\n",
       "             </b>\n",
       " </p>,\n",
       " <p class=\"outer-text\">\n",
       " <b>\n",
       "                 Second outer paragraph.\n",
       "             </b>\n",
       " </p>]"
      ]
     },
     "execution_count": 26,
     "metadata": {},
     "output_type": "execute_result"
    }
   ],
   "source": [
    "soup1.find_all(\"p\", class_= \"outer-text\")\n"
   ]
  },
  {
   "cell_type": "code",
   "execution_count": 27,
   "id": "4efafc13",
   "metadata": {},
   "outputs": [
    {
     "data": {
      "text/plain": [
       "[<p class=\"outer-text first-item\" id=\"second\">\n",
       " <b>\n",
       "                 First outer paragraph.\n",
       "             </b>\n",
       " </p>,\n",
       " <p class=\"outer-text\">\n",
       " <b>\n",
       "                 Second outer paragraph.\n",
       "             </b>\n",
       " </p>]"
      ]
     },
     "execution_count": 27,
     "metadata": {},
     "output_type": "execute_result"
    }
   ],
   "source": [
    "soup1.find_all(class_= \"outer-text\")"
   ]
  },
  {
   "cell_type": "code",
   "execution_count": 28,
   "id": "fd5464c5",
   "metadata": {},
   "outputs": [
    {
     "data": {
      "text/plain": [
       "[<p class=\"inner-text first-item\" id=\"first\">\n",
       "                 First paragraph.\n",
       "             </p>]"
      ]
     },
     "execution_count": 28,
     "metadata": {},
     "output_type": "execute_result"
    }
   ],
   "source": [
    "soup1.find_all(id = \"first\")"
   ]
  },
  {
   "cell_type": "code",
   "execution_count": 30,
   "id": "93082758",
   "metadata": {},
   "outputs": [
    {
     "name": "stdout",
     "output_type": "stream",
     "text": [
      "\n",
      "\n",
      "                First outer paragraph.\n",
      "            \n",
      "\n",
      "\n",
      "\n",
      "                Second outer paragraph.\n",
      "            \n",
      "\n"
     ]
    }
   ],
   "source": [
    "for i in soup1.find_all(class_ = \"outer-text\"):\n",
    "    print(i.get_text())"
   ]
  }
 ],
 "metadata": {
  "kernelspec": {
   "display_name": "Python 3 (ipykernel)",
   "language": "python",
   "name": "python3"
  },
  "language_info": {
   "codemirror_mode": {
    "name": "ipython",
    "version": 3
   },
   "file_extension": ".py",
   "mimetype": "text/x-python",
   "name": "python",
   "nbconvert_exporter": "python",
   "pygments_lexer": "ipython3",
   "version": "3.11.5"
  }
 },
 "nbformat": 4,
 "nbformat_minor": 5
}
