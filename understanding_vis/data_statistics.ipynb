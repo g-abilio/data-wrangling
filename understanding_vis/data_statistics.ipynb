{
 "cells": [
  {
   "cell_type": "markdown",
   "id": "1a919437",
   "metadata": {},
   "source": [
    "# Opening CSV"
   ]
  },
  {
   "cell_type": "code",
   "execution_count": 1,
   "id": "1fafa1a3",
   "metadata": {},
   "outputs": [],
   "source": [
    "import pandas as pd\n",
    "import numpy as np"
   ]
  },
  {
   "cell_type": "code",
   "execution_count": 2,
   "id": "f95393e1",
   "metadata": {
    "scrolled": true
   },
   "outputs": [
    {
     "data": {
      "text/html": [
       "<div>\n",
       "<style scoped>\n",
       "    .dataframe tbody tr th:only-of-type {\n",
       "        vertical-align: middle;\n",
       "    }\n",
       "\n",
       "    .dataframe tbody tr th {\n",
       "        vertical-align: top;\n",
       "    }\n",
       "\n",
       "    .dataframe thead th {\n",
       "        text-align: right;\n",
       "    }\n",
       "</style>\n",
       "<table border=\"1\" class=\"dataframe\">\n",
       "  <thead>\n",
       "    <tr style=\"text-align: right;\">\n",
       "      <th></th>\n",
       "      <th>Artist</th>\n",
       "      <th>Track</th>\n",
       "      <th>Album</th>\n",
       "      <th>Album_type</th>\n",
       "      <th>Views</th>\n",
       "      <th>Likes</th>\n",
       "      <th>Comments</th>\n",
       "      <th>Licensed</th>\n",
       "      <th>official_video</th>\n",
       "      <th>Stream</th>\n",
       "    </tr>\n",
       "  </thead>\n",
       "  <tbody>\n",
       "    <tr>\n",
       "      <th>0</th>\n",
       "      <td>Gorillaz</td>\n",
       "      <td>Feel Good Inc.</td>\n",
       "      <td>Demon Days</td>\n",
       "      <td>album</td>\n",
       "      <td>693555221.0</td>\n",
       "      <td>6220896.0</td>\n",
       "      <td>169907.0</td>\n",
       "      <td>True</td>\n",
       "      <td>True</td>\n",
       "      <td>1.040235e+09</td>\n",
       "    </tr>\n",
       "    <tr>\n",
       "      <th>1</th>\n",
       "      <td>Gorillaz</td>\n",
       "      <td>Rhinestone Eyes</td>\n",
       "      <td>Plastic Beach</td>\n",
       "      <td>album</td>\n",
       "      <td>72011645.0</td>\n",
       "      <td>1079128.0</td>\n",
       "      <td>31003.0</td>\n",
       "      <td>True</td>\n",
       "      <td>True</td>\n",
       "      <td>3.100837e+08</td>\n",
       "    </tr>\n",
       "    <tr>\n",
       "      <th>2</th>\n",
       "      <td>Gorillaz</td>\n",
       "      <td>New Gold (feat. Tame Impala and Bootie Brown)</td>\n",
       "      <td>New Gold (feat. Tame Impala and Bootie Brown)</td>\n",
       "      <td>single</td>\n",
       "      <td>8435055.0</td>\n",
       "      <td>282142.0</td>\n",
       "      <td>7399.0</td>\n",
       "      <td>True</td>\n",
       "      <td>True</td>\n",
       "      <td>6.306347e+07</td>\n",
       "    </tr>\n",
       "    <tr>\n",
       "      <th>3</th>\n",
       "      <td>Gorillaz</td>\n",
       "      <td>On Melancholy Hill</td>\n",
       "      <td>Plastic Beach</td>\n",
       "      <td>album</td>\n",
       "      <td>211754952.0</td>\n",
       "      <td>1788577.0</td>\n",
       "      <td>55229.0</td>\n",
       "      <td>True</td>\n",
       "      <td>True</td>\n",
       "      <td>4.346636e+08</td>\n",
       "    </tr>\n",
       "    <tr>\n",
       "      <th>4</th>\n",
       "      <td>Gorillaz</td>\n",
       "      <td>Clint Eastwood</td>\n",
       "      <td>Gorillaz</td>\n",
       "      <td>album</td>\n",
       "      <td>618480958.0</td>\n",
       "      <td>6197318.0</td>\n",
       "      <td>155930.0</td>\n",
       "      <td>True</td>\n",
       "      <td>True</td>\n",
       "      <td>6.172597e+08</td>\n",
       "    </tr>\n",
       "    <tr>\n",
       "      <th>...</th>\n",
       "      <td>...</td>\n",
       "      <td>...</td>\n",
       "      <td>...</td>\n",
       "      <td>...</td>\n",
       "      <td>...</td>\n",
       "      <td>...</td>\n",
       "      <td>...</td>\n",
       "      <td>...</td>\n",
       "      <td>...</td>\n",
       "      <td>...</td>\n",
       "    </tr>\n",
       "    <tr>\n",
       "      <th>20713</th>\n",
       "      <td>SICK LEGEND</td>\n",
       "      <td>JUST DANCE HARDSTYLE</td>\n",
       "      <td>JUST DANCE HARDSTYLE</td>\n",
       "      <td>single</td>\n",
       "      <td>71678.0</td>\n",
       "      <td>1113.0</td>\n",
       "      <td>0.0</td>\n",
       "      <td>True</td>\n",
       "      <td>True</td>\n",
       "      <td>9.227144e+06</td>\n",
       "    </tr>\n",
       "    <tr>\n",
       "      <th>20714</th>\n",
       "      <td>SICK LEGEND</td>\n",
       "      <td>SET FIRE TO THE RAIN HARDSTYLE</td>\n",
       "      <td>SET FIRE TO THE RAIN HARDSTYLE</td>\n",
       "      <td>single</td>\n",
       "      <td>164741.0</td>\n",
       "      <td>2019.0</td>\n",
       "      <td>0.0</td>\n",
       "      <td>True</td>\n",
       "      <td>True</td>\n",
       "      <td>1.089818e+07</td>\n",
       "    </tr>\n",
       "    <tr>\n",
       "      <th>20715</th>\n",
       "      <td>SICK LEGEND</td>\n",
       "      <td>OUTSIDE HARDSTYLE SPED UP</td>\n",
       "      <td>OUTSIDE HARDSTYLE SPED UP</td>\n",
       "      <td>single</td>\n",
       "      <td>35646.0</td>\n",
       "      <td>329.0</td>\n",
       "      <td>0.0</td>\n",
       "      <td>True</td>\n",
       "      <td>True</td>\n",
       "      <td>6.226110e+06</td>\n",
       "    </tr>\n",
       "    <tr>\n",
       "      <th>20716</th>\n",
       "      <td>SICK LEGEND</td>\n",
       "      <td>ONLY GIRL HARDSTYLE</td>\n",
       "      <td>ONLY GIRL HARDSTYLE</td>\n",
       "      <td>single</td>\n",
       "      <td>6533.0</td>\n",
       "      <td>88.0</td>\n",
       "      <td>0.0</td>\n",
       "      <td>True</td>\n",
       "      <td>True</td>\n",
       "      <td>6.873961e+06</td>\n",
       "    </tr>\n",
       "    <tr>\n",
       "      <th>20717</th>\n",
       "      <td>SICK LEGEND</td>\n",
       "      <td>MISS YOU HARDSTYLE</td>\n",
       "      <td>MISS YOU HARDSTYLE</td>\n",
       "      <td>single</td>\n",
       "      <td>158697.0</td>\n",
       "      <td>2484.0</td>\n",
       "      <td>0.0</td>\n",
       "      <td>True</td>\n",
       "      <td>True</td>\n",
       "      <td>5.695584e+06</td>\n",
       "    </tr>\n",
       "  </tbody>\n",
       "</table>\n",
       "<p>20718 rows × 10 columns</p>\n",
       "</div>"
      ],
      "text/plain": [
       "            Artist                                          Track  \\\n",
       "0         Gorillaz                                 Feel Good Inc.   \n",
       "1         Gorillaz                                Rhinestone Eyes   \n",
       "2         Gorillaz  New Gold (feat. Tame Impala and Bootie Brown)   \n",
       "3         Gorillaz                             On Melancholy Hill   \n",
       "4         Gorillaz                                 Clint Eastwood   \n",
       "...            ...                                            ...   \n",
       "20713  SICK LEGEND                           JUST DANCE HARDSTYLE   \n",
       "20714  SICK LEGEND                 SET FIRE TO THE RAIN HARDSTYLE   \n",
       "20715  SICK LEGEND                      OUTSIDE HARDSTYLE SPED UP   \n",
       "20716  SICK LEGEND                            ONLY GIRL HARDSTYLE   \n",
       "20717  SICK LEGEND                             MISS YOU HARDSTYLE   \n",
       "\n",
       "                                               Album Album_type        Views  \\\n",
       "0                                         Demon Days      album  693555221.0   \n",
       "1                                      Plastic Beach      album   72011645.0   \n",
       "2      New Gold (feat. Tame Impala and Bootie Brown)     single    8435055.0   \n",
       "3                                      Plastic Beach      album  211754952.0   \n",
       "4                                           Gorillaz      album  618480958.0   \n",
       "...                                              ...        ...          ...   \n",
       "20713                           JUST DANCE HARDSTYLE     single      71678.0   \n",
       "20714                 SET FIRE TO THE RAIN HARDSTYLE     single     164741.0   \n",
       "20715                      OUTSIDE HARDSTYLE SPED UP     single      35646.0   \n",
       "20716                            ONLY GIRL HARDSTYLE     single       6533.0   \n",
       "20717                             MISS YOU HARDSTYLE     single     158697.0   \n",
       "\n",
       "           Likes  Comments Licensed official_video        Stream  \n",
       "0      6220896.0  169907.0     True           True  1.040235e+09  \n",
       "1      1079128.0   31003.0     True           True  3.100837e+08  \n",
       "2       282142.0    7399.0     True           True  6.306347e+07  \n",
       "3      1788577.0   55229.0     True           True  4.346636e+08  \n",
       "4      6197318.0  155930.0     True           True  6.172597e+08  \n",
       "...          ...       ...      ...            ...           ...  \n",
       "20713     1113.0       0.0     True           True  9.227144e+06  \n",
       "20714     2019.0       0.0     True           True  1.089818e+07  \n",
       "20715      329.0       0.0     True           True  6.226110e+06  \n",
       "20716       88.0       0.0     True           True  6.873961e+06  \n",
       "20717     2484.0       0.0     True           True  5.695584e+06  \n",
       "\n",
       "[20718 rows x 10 columns]"
      ]
     },
     "execution_count": 2,
     "metadata": {},
     "output_type": "execute_result"
    }
   ],
   "source": [
    "df = pd.read_csv(\"Spotify_Youtube_Sample.csv\")\n",
    "df"
   ]
  },
  {
   "cell_type": "code",
   "execution_count": 3,
   "id": "3f8f065d",
   "metadata": {},
   "outputs": [
    {
     "name": "stdout",
     "output_type": "stream",
     "text": [
      "<class 'pandas.core.frame.DataFrame'>\n",
      "RangeIndex: 20718 entries, 0 to 20717\n",
      "Data columns (total 10 columns):\n",
      " #   Column          Non-Null Count  Dtype  \n",
      "---  ------          --------------  -----  \n",
      " 0   Artist          20718 non-null  object \n",
      " 1   Track           20718 non-null  object \n",
      " 2   Album           20718 non-null  object \n",
      " 3   Album_type      20718 non-null  object \n",
      " 4   Views           20248 non-null  float64\n",
      " 5   Likes           20177 non-null  float64\n",
      " 6   Comments        20149 non-null  float64\n",
      " 7   Licensed        20248 non-null  object \n",
      " 8   official_video  20248 non-null  object \n",
      " 9   Stream          20142 non-null  float64\n",
      "dtypes: float64(4), object(6)\n",
      "memory usage: 1.6+ MB\n"
     ]
    }
   ],
   "source": [
    "df.info()"
   ]
  },
  {
   "cell_type": "code",
   "execution_count": 4,
   "id": "6890888e",
   "metadata": {},
   "outputs": [
    {
     "data": {
      "text/html": [
       "<div>\n",
       "<style scoped>\n",
       "    .dataframe tbody tr th:only-of-type {\n",
       "        vertical-align: middle;\n",
       "    }\n",
       "\n",
       "    .dataframe tbody tr th {\n",
       "        vertical-align: top;\n",
       "    }\n",
       "\n",
       "    .dataframe thead th {\n",
       "        text-align: right;\n",
       "    }\n",
       "</style>\n",
       "<table border=\"1\" class=\"dataframe\">\n",
       "  <thead>\n",
       "    <tr style=\"text-align: right;\">\n",
       "      <th></th>\n",
       "      <th>Views</th>\n",
       "      <th>Likes</th>\n",
       "      <th>Comments</th>\n",
       "      <th>Stream</th>\n",
       "    </tr>\n",
       "  </thead>\n",
       "  <tbody>\n",
       "    <tr>\n",
       "      <th>count</th>\n",
       "      <td>2.024800e+04</td>\n",
       "      <td>2.017700e+04</td>\n",
       "      <td>2.014900e+04</td>\n",
       "      <td>2.014200e+04</td>\n",
       "    </tr>\n",
       "    <tr>\n",
       "      <th>mean</th>\n",
       "      <td>9.393782e+07</td>\n",
       "      <td>6.633411e+05</td>\n",
       "      <td>2.751899e+04</td>\n",
       "      <td>1.359422e+08</td>\n",
       "    </tr>\n",
       "    <tr>\n",
       "      <th>std</th>\n",
       "      <td>2.746443e+08</td>\n",
       "      <td>1.789324e+06</td>\n",
       "      <td>1.932347e+05</td>\n",
       "      <td>2.441321e+08</td>\n",
       "    </tr>\n",
       "    <tr>\n",
       "      <th>min</th>\n",
       "      <td>0.000000e+00</td>\n",
       "      <td>0.000000e+00</td>\n",
       "      <td>0.000000e+00</td>\n",
       "      <td>6.574000e+03</td>\n",
       "    </tr>\n",
       "    <tr>\n",
       "      <th>25%</th>\n",
       "      <td>1.826002e+06</td>\n",
       "      <td>2.158100e+04</td>\n",
       "      <td>5.090000e+02</td>\n",
       "      <td>1.767486e+07</td>\n",
       "    </tr>\n",
       "    <tr>\n",
       "      <th>50%</th>\n",
       "      <td>1.450110e+07</td>\n",
       "      <td>1.244810e+05</td>\n",
       "      <td>3.277000e+03</td>\n",
       "      <td>4.968298e+07</td>\n",
       "    </tr>\n",
       "    <tr>\n",
       "      <th>75%</th>\n",
       "      <td>7.039975e+07</td>\n",
       "      <td>5.221480e+05</td>\n",
       "      <td>1.436000e+04</td>\n",
       "      <td>1.383581e+08</td>\n",
       "    </tr>\n",
       "    <tr>\n",
       "      <th>max</th>\n",
       "      <td>8.079649e+09</td>\n",
       "      <td>5.078865e+07</td>\n",
       "      <td>1.608314e+07</td>\n",
       "      <td>3.386520e+09</td>\n",
       "    </tr>\n",
       "  </tbody>\n",
       "</table>\n",
       "</div>"
      ],
      "text/plain": [
       "              Views         Likes      Comments        Stream\n",
       "count  2.024800e+04  2.017700e+04  2.014900e+04  2.014200e+04\n",
       "mean   9.393782e+07  6.633411e+05  2.751899e+04  1.359422e+08\n",
       "std    2.746443e+08  1.789324e+06  1.932347e+05  2.441321e+08\n",
       "min    0.000000e+00  0.000000e+00  0.000000e+00  6.574000e+03\n",
       "25%    1.826002e+06  2.158100e+04  5.090000e+02  1.767486e+07\n",
       "50%    1.450110e+07  1.244810e+05  3.277000e+03  4.968298e+07\n",
       "75%    7.039975e+07  5.221480e+05  1.436000e+04  1.383581e+08\n",
       "max    8.079649e+09  5.078865e+07  1.608314e+07  3.386520e+09"
      ]
     },
     "execution_count": 4,
     "metadata": {},
     "output_type": "execute_result"
    }
   ],
   "source": [
    "df.describe()"
   ]
  },
  {
   "cell_type": "markdown",
   "id": "c3c2c267",
   "metadata": {},
   "source": [
    "## Non numerical attributes"
   ]
  },
  {
   "cell_type": "code",
   "execution_count": 11,
   "id": "a1a11d33",
   "metadata": {
    "scrolled": true
   },
   "outputs": [],
   "source": [
    "columns_object = [\"Artist\", \"Track\", \"Album\", \"Album_type\", \"Licensed\", \"official_video\"]"
   ]
  },
  {
   "cell_type": "code",
   "execution_count": 14,
   "id": "cca9e29d",
   "metadata": {},
   "outputs": [
    {
     "data": {
      "text/plain": [
       "Artist\n",
       "Gorillaz                  10\n",
       "Die drei !!!              10\n",
       "Hollywood Undead          10\n",
       "Empire of the Sun         10\n",
       "White Noise for Babies    10\n",
       "                          ..\n",
       "NewJeans                   6\n",
       "Alfonso Herrera            6\n",
       "Jimin                      3\n",
       "Stars Music Chile          1\n",
       "Bootie Brown               1\n",
       "Name: count, Length: 2079, dtype: int64"
      ]
     },
     "execution_count": 14,
     "metadata": {},
     "output_type": "execute_result"
    }
   ],
   "source": [
    "df[\"Artist\"].value_counts()"
   ]
  },
  {
   "cell_type": "code",
   "execution_count": 15,
   "id": "720d6572",
   "metadata": {},
   "outputs": [
    {
     "data": {
      "text/plain": [
       "array(['Gorillaz', 'Red Hot Chili Peppers', '50 Cent', ..., 'LE SSERAFIM',\n",
       "       'ThxSoMch', 'SICK LEGEND'], dtype=object)"
      ]
     },
     "execution_count": 15,
     "metadata": {},
     "output_type": "execute_result"
    }
   ],
   "source": [
    "df[\"Artist\"].unique()"
   ]
  },
  {
   "cell_type": "code",
   "execution_count": 18,
   "id": "d89d5c66",
   "metadata": {},
   "outputs": [
    {
     "data": {
      "text/plain": [
       "2079"
      ]
     },
     "execution_count": 18,
     "metadata": {},
     "output_type": "execute_result"
    }
   ],
   "source": [
    "df[\"Artist\"].nunique()"
   ]
  },
  {
   "cell_type": "code",
   "execution_count": 21,
   "id": "e1c30219",
   "metadata": {
    "scrolled": true
   },
   "outputs": [
    {
     "data": {
      "text/plain": [
       "Artist             2079\n",
       "Track             17841\n",
       "Album             11937\n",
       "Album_type            3\n",
       "Licensed              2\n",
       "official_video        2\n",
       "dtype: int64"
      ]
     },
     "execution_count": 21,
     "metadata": {},
     "output_type": "execute_result"
    }
   ],
   "source": [
    "df[columns_object].nunique()"
   ]
  },
  {
   "cell_type": "code",
   "execution_count": 28,
   "id": "e34f8d28",
   "metadata": {
    "scrolled": true
   },
   "outputs": [
    {
     "data": {
      "text/html": [
       "<div>\n",
       "<style scoped>\n",
       "    .dataframe tbody tr th:only-of-type {\n",
       "        vertical-align: middle;\n",
       "    }\n",
       "\n",
       "    .dataframe tbody tr th {\n",
       "        vertical-align: top;\n",
       "    }\n",
       "\n",
       "    .dataframe thead th {\n",
       "        text-align: right;\n",
       "    }\n",
       "</style>\n",
       "<table border=\"1\" class=\"dataframe\">\n",
       "  <thead>\n",
       "    <tr style=\"text-align: right;\">\n",
       "      <th></th>\n",
       "      <th>Album_type</th>\n",
       "    </tr>\n",
       "    <tr>\n",
       "      <th>Album_type</th>\n",
       "      <th></th>\n",
       "    </tr>\n",
       "  </thead>\n",
       "  <tbody>\n",
       "    <tr>\n",
       "      <th>album</th>\n",
       "      <td>14926</td>\n",
       "    </tr>\n",
       "    <tr>\n",
       "      <th>single</th>\n",
       "      <td>5004</td>\n",
       "    </tr>\n",
       "    <tr>\n",
       "      <th>compilation</th>\n",
       "      <td>788</td>\n",
       "    </tr>\n",
       "  </tbody>\n",
       "</table>\n",
       "</div>"
      ],
      "text/plain": [
       "             Album_type\n",
       "Album_type             \n",
       "album             14926\n",
       "single             5004\n",
       "compilation         788"
      ]
     },
     "execution_count": 28,
     "metadata": {},
     "output_type": "execute_result"
    }
   ],
   "source": [
    "pd.DataFrame({\"Album_type\" : df[\"Album_type\"].value_counts()})"
   ]
  },
  {
   "cell_type": "code",
   "execution_count": 29,
   "id": "9ee7e5b7",
   "metadata": {},
   "outputs": [
    {
     "data": {
      "text/html": [
       "<div>\n",
       "<style scoped>\n",
       "    .dataframe tbody tr th:only-of-type {\n",
       "        vertical-align: middle;\n",
       "    }\n",
       "\n",
       "    .dataframe tbody tr th {\n",
       "        vertical-align: top;\n",
       "    }\n",
       "\n",
       "    .dataframe thead th {\n",
       "        text-align: right;\n",
       "    }\n",
       "</style>\n",
       "<table border=\"1\" class=\"dataframe\">\n",
       "  <thead>\n",
       "    <tr style=\"text-align: right;\">\n",
       "      <th></th>\n",
       "      <th>Licensed</th>\n",
       "    </tr>\n",
       "    <tr>\n",
       "      <th>Licensed</th>\n",
       "      <th></th>\n",
       "    </tr>\n",
       "  </thead>\n",
       "  <tbody>\n",
       "    <tr>\n",
       "      <th>True</th>\n",
       "      <td>14140</td>\n",
       "    </tr>\n",
       "    <tr>\n",
       "      <th>False</th>\n",
       "      <td>6108</td>\n",
       "    </tr>\n",
       "  </tbody>\n",
       "</table>\n",
       "</div>"
      ],
      "text/plain": [
       "          Licensed\n",
       "Licensed          \n",
       "True         14140\n",
       "False         6108"
      ]
     },
     "execution_count": 29,
     "metadata": {},
     "output_type": "execute_result"
    }
   ],
   "source": [
    "pd.DataFrame({\"Licensed\" : df[\"Licensed\"].value_counts()})"
   ]
  },
  {
   "cell_type": "code",
   "execution_count": 30,
   "id": "8fbe5ad5",
   "metadata": {},
   "outputs": [
    {
     "data": {
      "text/html": [
       "<div>\n",
       "<style scoped>\n",
       "    .dataframe tbody tr th:only-of-type {\n",
       "        vertical-align: middle;\n",
       "    }\n",
       "\n",
       "    .dataframe tbody tr th {\n",
       "        vertical-align: top;\n",
       "    }\n",
       "\n",
       "    .dataframe thead th {\n",
       "        text-align: right;\n",
       "    }\n",
       "</style>\n",
       "<table border=\"1\" class=\"dataframe\">\n",
       "  <thead>\n",
       "    <tr style=\"text-align: right;\">\n",
       "      <th></th>\n",
       "      <th>official_video</th>\n",
       "    </tr>\n",
       "    <tr>\n",
       "      <th>official_video</th>\n",
       "      <th></th>\n",
       "    </tr>\n",
       "  </thead>\n",
       "  <tbody>\n",
       "    <tr>\n",
       "      <th>True</th>\n",
       "      <td>15723</td>\n",
       "    </tr>\n",
       "    <tr>\n",
       "      <th>False</th>\n",
       "      <td>4525</td>\n",
       "    </tr>\n",
       "  </tbody>\n",
       "</table>\n",
       "</div>"
      ],
      "text/plain": [
       "                official_video\n",
       "official_video                \n",
       "True                     15723\n",
       "False                     4525"
      ]
     },
     "execution_count": 30,
     "metadata": {},
     "output_type": "execute_result"
    }
   ],
   "source": [
    "pd.DataFrame({\"official_video\" : df[\"official_video\"].value_counts()})"
   ]
  },
  {
   "cell_type": "markdown",
   "id": "37912c30",
   "metadata": {},
   "source": [
    "## Numerical attributes"
   ]
  },
  {
   "cell_type": "markdown",
   "id": "77af8985",
   "metadata": {},
   "source": [
    "### Central Tedency "
   ]
  },
  {
   "cell_type": "markdown",
   "id": "2d0bf41a",
   "metadata": {},
   "source": [
    "Working with max, min, midpoint, mode and median"
   ]
  },
  {
   "cell_type": "code",
   "execution_count": 42,
   "id": "8f8d4825",
   "metadata": {},
   "outputs": [],
   "source": [
    "def central_tedency(test):\n",
    "    col = test\n",
    "    minimum = df[col].min()\n",
    "    maximum = df[col].max()\n",
    "    midpoint = (maximum - minimum)/2\n",
    "    median = df[col].median()\n",
    "    mode = df[col].mode()[0]\n",
    "    \n",
    "    print(f\"For column {col}, we have:\")\n",
    "    print(f\"Min = {minimum}, Max = {maximum}, Midpoint = {midpoint}, Median = {median}, Mode = {mode}\")"
   ]
  },
  {
   "cell_type": "code",
   "execution_count": 43,
   "id": "693d7b44",
   "metadata": {},
   "outputs": [
    {
     "name": "stdout",
     "output_type": "stream",
     "text": [
      "For column Views, we have:\n",
      "Min = 0.0, Max = 8079649362.0, Midpoint = 4039824681.0, Median = 14501095.0, Mode = 6639.0\n",
      "For column Likes, we have:\n",
      "Min = 0.0, Max = 50788652.0, Midpoint = 25394326.0, Median = 124481.0, Mode = 0.0\n",
      "For column Comments, we have:\n",
      "Min = 0.0, Max = 16083138.0, Midpoint = 8041569.0, Median = 3277.0, Mode = 0.0\n",
      "For column Stream, we have:\n",
      "Min = 6574.0, Max = 3386520288.0, Midpoint = 1693256857.0, Median = 49682981.5, Mode = 169769959.0\n"
     ]
    }
   ],
   "source": [
    "columns_numerical = [\"Views\", \"Likes\", \"Comments\", \"Stream\"]\n",
    "\n",
    "for i in columns_numerical:\n",
    "    central_tedency(i)"
   ]
  },
  {
   "cell_type": "markdown",
   "id": "c88b3208",
   "metadata": {},
   "source": [
    "### Dipersion"
   ]
  },
  {
   "cell_type": "markdown",
   "id": "61cbc58f",
   "metadata": {},
   "source": [
    "Working with variance, std, quantiles and range"
   ]
  },
  {
   "cell_type": "code",
   "execution_count": 46,
   "id": "dba9cf5b",
   "metadata": {},
   "outputs": [],
   "source": [
    "def dispersion(test):\n",
    "    col = test\n",
    "    variance = df[col].var()\n",
    "    std = df[col].std()\n",
    "    quantiles = df[col].quantile([0.25, 0.5, 0.75])\n",
    "    range = df[col].max() - df[col].min()\n",
    "    \n",
    "    print(f\"For column {col}, we have:\")\n",
    "    print(f\"Variance = {variance}, Std = {std}, First Quartile = {quantiles[0.25]}, Second Quartile = {quantiles[0.5]}, Third Quartile = {quantiles[0.75]}, Range = {range}\")"
   ]
  },
  {
   "cell_type": "code",
   "execution_count": 47,
   "id": "b1ac72da",
   "metadata": {},
   "outputs": [
    {
     "name": "stdout",
     "output_type": "stream",
     "text": [
      "For column Views, we have:\n",
      "Variance = 7.542950360937744e+16, Std = 274644322.0046201, First Quartile = 1826001.5, Second Quartile = 14501095.0, Third Quartile = 70399749.0, Range = 8079649362.0\n",
      "For column Likes, we have:\n",
      "Variance = 3201681265274.233, Std = 1789324.2482217227, First Quartile = 21581.0, Second Quartile = 124481.0, Third Quartile = 522148.0, Range = 50788652.0\n",
      "For column Comments, we have:\n",
      "Variance = 37339645168.431526, Std = 193234.68935062236, First Quartile = 509.0, Second Quartile = 3277.0, Third Quartile = 14360.0, Range = 16083138.0\n",
      "For column Stream, we have:\n",
      "Variance = 5.960047142258899e+16, Std = 244132077.8238472, First Quartile = 17674864.25, Second Quartile = 49682981.5, Third Quartile = 138358065.25, Range = 3386513714.0\n"
     ]
    }
   ],
   "source": [
    "for i in columns_numerical:\n",
    "    dispersion(i)"
   ]
  },
  {
   "cell_type": "markdown",
   "id": "82521be3",
   "metadata": {},
   "source": [
    "## Correlation between data"
   ]
  },
  {
   "cell_type": "code",
   "execution_count": 49,
   "id": "7bbcef9f",
   "metadata": {},
   "outputs": [
    {
     "data": {
      "text/html": [
       "<div>\n",
       "<style scoped>\n",
       "    .dataframe tbody tr th:only-of-type {\n",
       "        vertical-align: middle;\n",
       "    }\n",
       "\n",
       "    .dataframe tbody tr th {\n",
       "        vertical-align: top;\n",
       "    }\n",
       "\n",
       "    .dataframe thead th {\n",
       "        text-align: right;\n",
       "    }\n",
       "</style>\n",
       "<table border=\"1\" class=\"dataframe\">\n",
       "  <thead>\n",
       "    <tr style=\"text-align: right;\">\n",
       "      <th></th>\n",
       "      <th>Views</th>\n",
       "      <th>Likes</th>\n",
       "      <th>Comments</th>\n",
       "      <th>Stream</th>\n",
       "    </tr>\n",
       "  </thead>\n",
       "  <tbody>\n",
       "    <tr>\n",
       "      <th>Views</th>\n",
       "      <td>1.000000</td>\n",
       "      <td>0.891101</td>\n",
       "      <td>0.431185</td>\n",
       "      <td>0.601905</td>\n",
       "    </tr>\n",
       "    <tr>\n",
       "      <th>Likes</th>\n",
       "      <td>0.891101</td>\n",
       "      <td>1.000000</td>\n",
       "      <td>0.631670</td>\n",
       "      <td>0.654247</td>\n",
       "    </tr>\n",
       "    <tr>\n",
       "      <th>Comments</th>\n",
       "      <td>0.431185</td>\n",
       "      <td>0.631670</td>\n",
       "      <td>1.000000</td>\n",
       "      <td>0.267737</td>\n",
       "    </tr>\n",
       "    <tr>\n",
       "      <th>Stream</th>\n",
       "      <td>0.601905</td>\n",
       "      <td>0.654247</td>\n",
       "      <td>0.267737</td>\n",
       "      <td>1.000000</td>\n",
       "    </tr>\n",
       "  </tbody>\n",
       "</table>\n",
       "</div>"
      ],
      "text/plain": [
       "             Views     Likes  Comments    Stream\n",
       "Views     1.000000  0.891101  0.431185  0.601905\n",
       "Likes     0.891101  1.000000  0.631670  0.654247\n",
       "Comments  0.431185  0.631670  1.000000  0.267737\n",
       "Stream    0.601905  0.654247  0.267737  1.000000"
      ]
     },
     "execution_count": 49,
     "metadata": {},
     "output_type": "execute_result"
    }
   ],
   "source": [
    "df[columns_numerical].corr()"
   ]
  }
 ],
 "metadata": {
  "kernelspec": {
   "display_name": "Python 3 (ipykernel)",
   "language": "python",
   "name": "python3"
  },
  "language_info": {
   "codemirror_mode": {
    "name": "ipython",
    "version": 3
   },
   "file_extension": ".py",
   "mimetype": "text/x-python",
   "name": "python",
   "nbconvert_exporter": "python",
   "pygments_lexer": "ipython3",
   "version": "3.11.5"
  }
 },
 "nbformat": 4,
 "nbformat_minor": 5
}
